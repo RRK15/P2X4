{
 "cells": [
  {
   "cell_type": "code",
   "execution_count": 2,
   "id": "6b63938b",
   "metadata": {},
   "outputs": [],
   "source": [
    "import numpy as np\n",
    "import pandas as pd\n",
    "from sklearn.feature_selection import VarianceThreshold\n",
    "from sklearn.model_selection import GridSearchCV, train_test_split\n",
    "from sklearn.ensemble import RandomForestRegressor\n",
    "from xgboost import XGBRegressor\n",
    "from sklearn.tree import DecisionTreeRegressor\n",
    "from sklearn.ensemble import ExtraTreesRegressor\n",
    "from sklearn.metrics import mean_squared_error"
   ]
  },
  {
   "cell_type": "code",
   "execution_count": 3,
   "id": "e3e92907",
   "metadata": {},
   "outputs": [],
   "source": [
    "# Load data\n",
    "X = pd.read_csv('data/fingerprints.csv', index_col = 0)\n",
    "df = pd.read_csv('data/p2x4_final.csv', index_col = 0)\n",
    "Y = df['pIC50']\n",
    "# Feature Selection\n",
    "selection = VarianceThreshold(threshold=(.8 * (1 - .8)))    \n",
    "X = selection.fit_transform(X)"
   ]
  },
  {
   "cell_type": "code",
   "execution_count": 4,
   "id": "02c9bcf1",
   "metadata": {},
   "outputs": [],
   "source": [
    "# Splitting the data\n",
    "X_train, X_test, y_train, y_test = train_test_split(X, Y, test_size=0.1, random_state=6)"
   ]
  },
  {
   "cell_type": "code",
   "execution_count": 5,
   "id": "f297d672",
   "metadata": {},
   "outputs": [],
   "source": [
    "# Hyperparameter grid for DecisionTreeRegressor\n",
    "param_grid_dtr = {\n",
    "    'max_features': ['auto', 'sqrt', 'log2'],\n",
    "    'max_depth': [None, 10, 20, 30],\n",
    "    'min_samples_split': [2, 5, 10],\n",
    "    'min_samples_leaf': [1, 2, 4]\n",
    "}\n"
   ]
  },
  {
   "cell_type": "code",
   "execution_count": 6,
   "id": "25b36d50",
   "metadata": {},
   "outputs": [
    {
     "name": "stdout",
     "output_type": "stream",
     "text": [
      "Number of physical cores: 4\n"
     ]
    }
   ],
   "source": [
    "import joblib\n",
    "\n",
    "N_CORES = joblib.cpu_count(only_physical_cores=True)\n",
    "print(f\"Number of physical cores: {N_CORES}\")"
   ]
  },
  {
   "cell_type": "code",
   "execution_count": 7,
   "id": "0ce69433",
   "metadata": {},
   "outputs": [
    {
     "name": "stdout",
     "output_type": "stream",
     "text": [
      "Fitting 5 folds for each of 108 candidates, totalling 540 fits\n"
     ]
    },
    {
     "data": {
      "text/html": [
       "<style>#sk-container-id-1 {color: black;background-color: white;}#sk-container-id-1 pre{padding: 0;}#sk-container-id-1 div.sk-toggleable {background-color: white;}#sk-container-id-1 label.sk-toggleable__label {cursor: pointer;display: block;width: 100%;margin-bottom: 0;padding: 0.3em;box-sizing: border-box;text-align: center;}#sk-container-id-1 label.sk-toggleable__label-arrow:before {content: \"▸\";float: left;margin-right: 0.25em;color: #696969;}#sk-container-id-1 label.sk-toggleable__label-arrow:hover:before {color: black;}#sk-container-id-1 div.sk-estimator:hover label.sk-toggleable__label-arrow:before {color: black;}#sk-container-id-1 div.sk-toggleable__content {max-height: 0;max-width: 0;overflow: hidden;text-align: left;background-color: #f0f8ff;}#sk-container-id-1 div.sk-toggleable__content pre {margin: 0.2em;color: black;border-radius: 0.25em;background-color: #f0f8ff;}#sk-container-id-1 input.sk-toggleable__control:checked~div.sk-toggleable__content {max-height: 200px;max-width: 100%;overflow: auto;}#sk-container-id-1 input.sk-toggleable__control:checked~label.sk-toggleable__label-arrow:before {content: \"▾\";}#sk-container-id-1 div.sk-estimator input.sk-toggleable__control:checked~label.sk-toggleable__label {background-color: #d4ebff;}#sk-container-id-1 div.sk-label input.sk-toggleable__control:checked~label.sk-toggleable__label {background-color: #d4ebff;}#sk-container-id-1 input.sk-hidden--visually {border: 0;clip: rect(1px 1px 1px 1px);clip: rect(1px, 1px, 1px, 1px);height: 1px;margin: -1px;overflow: hidden;padding: 0;position: absolute;width: 1px;}#sk-container-id-1 div.sk-estimator {font-family: monospace;background-color: #f0f8ff;border: 1px dotted black;border-radius: 0.25em;box-sizing: border-box;margin-bottom: 0.5em;}#sk-container-id-1 div.sk-estimator:hover {background-color: #d4ebff;}#sk-container-id-1 div.sk-parallel-item::after {content: \"\";width: 100%;border-bottom: 1px solid gray;flex-grow: 1;}#sk-container-id-1 div.sk-label:hover label.sk-toggleable__label {background-color: #d4ebff;}#sk-container-id-1 div.sk-serial::before {content: \"\";position: absolute;border-left: 1px solid gray;box-sizing: border-box;top: 0;bottom: 0;left: 50%;z-index: 0;}#sk-container-id-1 div.sk-serial {display: flex;flex-direction: column;align-items: center;background-color: white;padding-right: 0.2em;padding-left: 0.2em;position: relative;}#sk-container-id-1 div.sk-item {position: relative;z-index: 1;}#sk-container-id-1 div.sk-parallel {display: flex;align-items: stretch;justify-content: center;background-color: white;position: relative;}#sk-container-id-1 div.sk-item::before, #sk-container-id-1 div.sk-parallel-item::before {content: \"\";position: absolute;border-left: 1px solid gray;box-sizing: border-box;top: 0;bottom: 0;left: 50%;z-index: -1;}#sk-container-id-1 div.sk-parallel-item {display: flex;flex-direction: column;z-index: 1;position: relative;background-color: white;}#sk-container-id-1 div.sk-parallel-item:first-child::after {align-self: flex-end;width: 50%;}#sk-container-id-1 div.sk-parallel-item:last-child::after {align-self: flex-start;width: 50%;}#sk-container-id-1 div.sk-parallel-item:only-child::after {width: 0;}#sk-container-id-1 div.sk-dashed-wrapped {border: 1px dashed gray;margin: 0 0.4em 0.5em 0.4em;box-sizing: border-box;padding-bottom: 0.4em;background-color: white;}#sk-container-id-1 div.sk-label label {font-family: monospace;font-weight: bold;display: inline-block;line-height: 1.2em;}#sk-container-id-1 div.sk-label-container {text-align: center;}#sk-container-id-1 div.sk-container {/* jupyter's `normalize.less` sets `[hidden] { display: none; }` but bootstrap.min.css set `[hidden] { display: none !important; }` so we also need the `!important` here to be able to override the default hidden behavior on the sphinx rendered scikit-learn.org. See: https://github.com/scikit-learn/scikit-learn/issues/21755 */display: inline-block !important;position: relative;}#sk-container-id-1 div.sk-text-repr-fallback {display: none;}</style><div id=\"sk-container-id-1\" class=\"sk-top-container\"><div class=\"sk-text-repr-fallback\"><pre>GridSearchCV(cv=5, estimator=DecisionTreeRegressor(random_state=6), n_jobs=4,\n",
       "             param_grid={&#x27;max_depth&#x27;: [None, 10, 20, 30],\n",
       "                         &#x27;max_features&#x27;: [&#x27;auto&#x27;, &#x27;sqrt&#x27;, &#x27;log2&#x27;],\n",
       "                         &#x27;min_samples_leaf&#x27;: [1, 2, 4],\n",
       "                         &#x27;min_samples_split&#x27;: [2, 5, 10]},\n",
       "             verbose=2)</pre><b>In a Jupyter environment, please rerun this cell to show the HTML representation or trust the notebook. <br />On GitHub, the HTML representation is unable to render, please try loading this page with nbviewer.org.</b></div><div class=\"sk-container\" hidden><div class=\"sk-item sk-dashed-wrapped\"><div class=\"sk-label-container\"><div class=\"sk-label sk-toggleable\"><input class=\"sk-toggleable__control sk-hidden--visually\" id=\"sk-estimator-id-1\" type=\"checkbox\" ><label for=\"sk-estimator-id-1\" class=\"sk-toggleable__label sk-toggleable__label-arrow\">GridSearchCV</label><div class=\"sk-toggleable__content\"><pre>GridSearchCV(cv=5, estimator=DecisionTreeRegressor(random_state=6), n_jobs=4,\n",
       "             param_grid={&#x27;max_depth&#x27;: [None, 10, 20, 30],\n",
       "                         &#x27;max_features&#x27;: [&#x27;auto&#x27;, &#x27;sqrt&#x27;, &#x27;log2&#x27;],\n",
       "                         &#x27;min_samples_leaf&#x27;: [1, 2, 4],\n",
       "                         &#x27;min_samples_split&#x27;: [2, 5, 10]},\n",
       "             verbose=2)</pre></div></div></div><div class=\"sk-parallel\"><div class=\"sk-parallel-item\"><div class=\"sk-item\"><div class=\"sk-label-container\"><div class=\"sk-label sk-toggleable\"><input class=\"sk-toggleable__control sk-hidden--visually\" id=\"sk-estimator-id-2\" type=\"checkbox\" ><label for=\"sk-estimator-id-2\" class=\"sk-toggleable__label sk-toggleable__label-arrow\">estimator: DecisionTreeRegressor</label><div class=\"sk-toggleable__content\"><pre>DecisionTreeRegressor(random_state=6)</pre></div></div></div><div class=\"sk-serial\"><div class=\"sk-item\"><div class=\"sk-estimator sk-toggleable\"><input class=\"sk-toggleable__control sk-hidden--visually\" id=\"sk-estimator-id-3\" type=\"checkbox\" ><label for=\"sk-estimator-id-3\" class=\"sk-toggleable__label sk-toggleable__label-arrow\">DecisionTreeRegressor</label><div class=\"sk-toggleable__content\"><pre>DecisionTreeRegressor(random_state=6)</pre></div></div></div></div></div></div></div></div></div></div>"
      ],
      "text/plain": [
       "GridSearchCV(cv=5, estimator=DecisionTreeRegressor(random_state=6), n_jobs=4,\n",
       "             param_grid={'max_depth': [None, 10, 20, 30],\n",
       "                         'max_features': ['auto', 'sqrt', 'log2'],\n",
       "                         'min_samples_leaf': [1, 2, 4],\n",
       "                         'min_samples_split': [2, 5, 10]},\n",
       "             verbose=2)"
      ]
     },
     "execution_count": 7,
     "metadata": {},
     "output_type": "execute_result"
    }
   ],
   "source": [
    "# GridSearchCV for DecisionTreeRegressor\n",
    "grid_search_dtr = GridSearchCV(estimator=DecisionTreeRegressor(random_state=6),\n",
    "                               param_grid=param_grid_dtr, cv=5, n_jobs=N_CORES, verbose=2)\n",
    "grid_search_dtr.fit(X_train, y_train)"
   ]
  },
  {
   "cell_type": "code",
   "execution_count": 8,
   "id": "41d7aaf1",
   "metadata": {},
   "outputs": [],
   "source": [
    "# Selecting the best estimator from each GridSearchCV\n",
    "best_model_dtr = grid_search_dtr.best_estimator_"
   ]
  },
  {
   "cell_type": "markdown",
   "id": "e202e4ca",
   "metadata": {},
   "source": [
    "# Step 1: Predict on Test Set"
   ]
  },
  {
   "cell_type": "code",
   "execution_count": 9,
   "id": "5e693f62",
   "metadata": {},
   "outputs": [],
   "source": [
    "y_pred = best_model_dtr.predict(X_test)"
   ]
  },
  {
   "cell_type": "markdown",
   "id": "95675515",
   "metadata": {},
   "source": [
    "# Step 2: Calculate Performance Metrics\n",
    "\n",
    "Since this is a regression problem, you can use metrics such as Mean Absolute Error, Mean Squared Error, Root Mean Squared Error, and R-squared"
   ]
  },
  {
   "cell_type": "code",
   "execution_count": 10,
   "id": "696c4dba",
   "metadata": {},
   "outputs": [
    {
     "name": "stdout",
     "output_type": "stream",
     "text": [
      "MSE: 0.2570666443887898\n",
      "RMSE: 0.5070174004793029\n",
      "MAE: 0.270637156063717\n",
      "R2: 0.8550658447818572\n"
     ]
    }
   ],
   "source": [
    "from sklearn.metrics import mean_squared_error, mean_absolute_error, r2_score\n",
    "\n",
    "# Calculating the metrics\n",
    "mse = mean_squared_error(y_test, y_pred)\n",
    "rmse = np.sqrt(mse)\n",
    "mae = mean_absolute_error(y_test, y_pred)\n",
    "r2 = r2_score(y_test, y_pred)\n",
    "\n",
    "print('MSE:', mse)\n",
    "print('RMSE:', rmse)\n",
    "print('MAE:', mae)\n",
    "print('R2:', r2)\n"
   ]
  },
  {
   "cell_type": "markdown",
   "id": "55a9cfd9",
   "metadata": {},
   "source": [
    "# Step 3: Analyze Residuals\n",
    "\n",
    "Analyzing the residuals (difference between the predicted and actual values) can provide insights into the behavior of your model"
   ]
  },
  {
   "cell_type": "code",
   "execution_count": 11,
   "id": "4008ba8b",
   "metadata": {},
   "outputs": [
    {
     "data": {
      "image/png": "[encoded data removed]",
      "text/plain": [
       "<Figure size 432x288 with 1 Axes>"
      ]
     },
     "metadata": {
      "needs_background": "light"
     },
     "output_type": "display_data"
    }
   ],
   "source": [
    "import matplotlib.pyplot as plt\n",
    "\n",
    "# Calculate residuals\n",
    "residuals = y_test - y_pred\n",
    "\n",
    "# Plot residuals\n",
    "plt.scatter(y_pred, residuals, alpha=0.5)\n",
    "plt.xlabel('Predicted Values')\n",
    "plt.ylabel('Residuals')\n",
    "plt.title('Residuals vs. Predicted Values')\n",
    "plt.axhline(y=0, color='r', linestyle='-')\n",
    "plt.show()"
   ]
  },
  {
   "cell_type": "code",
   "execution_count": 39,
   "id": "ba20ca2f",
   "metadata": {},
   "outputs": [
    {
     "data": {
      "text/plain": [
       "count    56.000000\n",
       "mean     -0.053505\n",
       "std       0.508749\n",
       "min      -1.591621\n",
       "25%       0.000000\n",
       "50%       0.000000\n",
       "75%       0.000000\n",
       "max       1.463564\n",
       "Name: pIC50, dtype: float64"
      ]
     },
     "execution_count": 39,
     "metadata": {},
     "output_type": "execute_result"
    }
   ],
   "source": [
    "residuals.describe()"
   ]
  },
  {
   "cell_type": "markdown",
   "id": "dae3185b",
   "metadata": {},
   "source": [
    "# Step 4: Compare with Baseline \n",
    "\n",
    "It can be helpful to compare your model's performance against a simple baseline model, such as predicting the mean of the target variable for all instances. This gives you a reference point for how much your model has learned."
   ]
  },
  {
   "cell_type": "code",
   "execution_count": 12,
   "id": "9e53bbbb",
   "metadata": {},
   "outputs": [
    {
     "name": "stdout",
     "output_type": "stream",
     "text": [
      "Baseline Mean Squared Error: 1.795130876257679\n",
      "Model Mean Squared Error: 0.2570666443887898\n"
     ]
    }
   ],
   "source": [
    "# Baseline predictions (mean of target variable)\n",
    "baseline_preds = np.full_like(y_test, np.mean(y_train))\n",
    "\n",
    "# Baseline Mean Squared Error\n",
    "baseline_mse = mean_squared_error(y_test, baseline_preds)\n",
    "\n",
    "print(f\"Baseline Mean Squared Error: {baseline_mse}\")\n",
    "print(f\"Model Mean Squared Error: {mse}\")"
   ]
  },
  {
   "cell_type": "code",
   "execution_count": 13,
   "id": "e0d45d73",
   "metadata": {},
   "outputs": [
    {
     "name": "stdout",
     "output_type": "stream",
     "text": [
      "Best DecisionTreeRegressor: {'max_depth': 20, 'max_features': 'log2', 'min_samples_leaf': 1, 'min_samples_split': 2}\n"
     ]
    }
   ],
   "source": [
    "print(f\"Best DecisionTreeRegressor: {grid_search_dtr.best_params_}\")"
   ]
  },
  {
   "cell_type": "code",
   "execution_count": null,
   "id": "a8553e87",
   "metadata": {},
   "outputs": [],
   "source": []
  },
  {
   "cell_type": "code",
   "execution_count": 14,
   "id": "e6c8bb27",
   "metadata": {},
   "outputs": [
    {
     "data": {
      "text/html": [
       "<div>\n",
       "<style scoped>\n",
       "    .dataframe tbody tr th:only-of-type {\n",
       "        vertical-align: middle;\n",
       "    }\n",
       "\n",
       "    .dataframe tbody tr th {\n",
       "        vertical-align: top;\n",
       "    }\n",
       "\n",
       "    .dataframe thead th {\n",
       "        text-align: right;\n",
       "    }\n",
       "</style>\n",
       "<table border=\"1\" class=\"dataframe\">\n",
       "  <thead>\n",
       "    <tr style=\"text-align: right;\">\n",
       "      <th></th>\n",
       "      <th>SMILES</th>\n",
       "      <th>Code</th>\n",
       "    </tr>\n",
       "  </thead>\n",
       "  <tbody>\n",
       "    <tr>\n",
       "      <th>0</th>\n",
       "      <td>Fc1ccc(C(c2ccc(F)cc2)N2CCNCC2)cc1</td>\n",
       "      <td>AC10018</td>\n",
       "    </tr>\n",
       "    <tr>\n",
       "      <th>1</th>\n",
       "      <td>CSc1nc(N)nc2nc[nH]c12</td>\n",
       "      <td>AC12157</td>\n",
       "    </tr>\n",
       "    <tr>\n",
       "      <th>2</th>\n",
       "      <td>CN(C)Cc1c[nH]c2ccc(OCc3ccccc3)cc12</td>\n",
       "      <td>AC13917</td>\n",
       "    </tr>\n",
       "    <tr>\n",
       "      <th>3</th>\n",
       "      <td>O=C(O)c1ccc(Br)o1</td>\n",
       "      <td>AC27191</td>\n",
       "    </tr>\n",
       "    <tr>\n",
       "      <th>4</th>\n",
       "      <td>NC(Cc1c[nH]c2ccc(Br)cc12)C(=O)O</td>\n",
       "      <td>AC29806</td>\n",
       "    </tr>\n",
       "    <tr>\n",
       "      <th>...</th>\n",
       "      <td>...</td>\n",
       "      <td>...</td>\n",
       "    </tr>\n",
       "    <tr>\n",
       "      <th>51768</th>\n",
       "      <td>CCO/C(C)=N/Oc1ccc([N+](=O)[O-])cc1[N+](=O)[O-]</td>\n",
       "      <td>S14814</td>\n",
       "    </tr>\n",
       "    <tr>\n",
       "      <th>51769</th>\n",
       "      <td>O=C1c2ccccc2C(=O)N1Oc1ccc([N+](=O)[O-])c([N+](...</td>\n",
       "      <td>S14839</td>\n",
       "    </tr>\n",
       "    <tr>\n",
       "      <th>51770</th>\n",
       "      <td>O=[N+]([O-])c1ccc2nc(-c3ccccc3)c(-c3ccccc3)nc2c1</td>\n",
       "      <td>S14896</td>\n",
       "    </tr>\n",
       "    <tr>\n",
       "      <th>51771</th>\n",
       "      <td>CCOC(=O)C1=C(C)NC(C)=C(C(=O)OCC)C1/C=C/c1ccccc1</td>\n",
       "      <td>SPB05721</td>\n",
       "    </tr>\n",
       "    <tr>\n",
       "      <th>51772</th>\n",
       "      <td>CCOC(=O)C1=C(C)NC(C)=C(C(=O)OCC)C1c1cccc([N+](...</td>\n",
       "      <td>S14916</td>\n",
       "    </tr>\n",
       "  </tbody>\n",
       "</table>\n",
       "<p>51773 rows × 2 columns</p>\n",
       "</div>"
      ],
      "text/plain": [
       "                                                  SMILES      Code\n",
       "0                      Fc1ccc(C(c2ccc(F)cc2)N2CCNCC2)cc1   AC10018\n",
       "1                                  CSc1nc(N)nc2nc[nH]c12   AC12157\n",
       "2                     CN(C)Cc1c[nH]c2ccc(OCc3ccccc3)cc12   AC13917\n",
       "3                                      O=C(O)c1ccc(Br)o1   AC27191\n",
       "4                        NC(Cc1c[nH]c2ccc(Br)cc12)C(=O)O   AC29806\n",
       "...                                                  ...       ...\n",
       "51768     CCO/C(C)=N/Oc1ccc([N+](=O)[O-])cc1[N+](=O)[O-]    S14814\n",
       "51769  O=C1c2ccccc2C(=O)N1Oc1ccc([N+](=O)[O-])c([N+](...    S14839\n",
       "51770   O=[N+]([O-])c1ccc2nc(-c3ccccc3)c(-c3ccccc3)nc2c1    S14896\n",
       "51771    CCOC(=O)C1=C(C)NC(C)=C(C(=O)OCC)C1/C=C/c1ccccc1  SPB05721\n",
       "51772  CCOC(=O)C1=C(C)NC(C)=C(C(=O)OCC)C1c1cccc([N+](...    S14916\n",
       "\n",
       "[51773 rows x 2 columns]"
      ]
     },
     "execution_count": 14,
     "metadata": {},
     "output_type": "execute_result"
    }
   ],
   "source": [
    "maybridge_data = pd.read_csv(\"maybridge/Maybridge.csv\")\n",
    "maybridge_data"
   ]
  },
  {
   "cell_type": "code",
   "execution_count": 15,
   "id": "ce272c31",
   "metadata": {},
   "outputs": [
    {
     "data": {
      "text/plain": [
       "(51773, 881)"
      ]
     },
     "execution_count": 15,
     "metadata": {},
     "output_type": "execute_result"
    }
   ],
   "source": [
    "descriptors = pd.read_csv('maybridge/out.csv', index_col = 0)\n",
    "descriptors.shape"
   ]
  },
  {
   "cell_type": "code",
   "execution_count": 16,
   "id": "0584b8fd",
   "metadata": {},
   "outputs": [
    {
     "data": {
      "text/plain": [
       "(51773, 155)"
      ]
     },
     "execution_count": 16,
     "metadata": {},
     "output_type": "execute_result"
    }
   ],
   "source": [
    "descriptors = selection.transform(descriptors)\n",
    "descriptors.shape"
   ]
  },
  {
   "cell_type": "code",
   "execution_count": 17,
   "id": "18fbbfa5",
   "metadata": {},
   "outputs": [],
   "source": [
    "# Apply the imputer to fill NaN values with the mean of each column\n",
    "from sklearn.impute import SimpleImputer\n",
    "\n",
    "imputer = SimpleImputer(strategy='mean')\n",
    "descriptors_imputed = imputer.fit_transform(descriptors)"
   ]
  },
  {
   "cell_type": "code",
   "execution_count": 18,
   "id": "4509ebd3",
   "metadata": {
    "scrolled": true
   },
   "outputs": [],
   "source": [
    "# Step 3: Make Predictions\n",
    "predicted_pic50 = best_model_dtr.predict(descriptors_imputed)"
   ]
  },
  {
   "cell_type": "code",
   "execution_count": 19,
   "id": "722edffd",
   "metadata": {},
   "outputs": [],
   "source": [
    "# Step 4: Analyze Results\n",
    "# Append predictions to the Maybridge data\n",
    "maybridge_data[\"predicted_pic50\"] = predicted_pic50"
   ]
  },
  {
   "cell_type": "code",
   "execution_count": 20,
   "id": "42a6dc4e",
   "metadata": {},
   "outputs": [
    {
     "data": {
      "text/html": [
       "<div>\n",
       "<style scoped>\n",
       "    .dataframe tbody tr th:only-of-type {\n",
       "        vertical-align: middle;\n",
       "    }\n",
       "\n",
       "    .dataframe tbody tr th {\n",
       "        vertical-align: top;\n",
       "    }\n",
       "\n",
       "    .dataframe thead th {\n",
       "        text-align: right;\n",
       "    }\n",
       "</style>\n",
       "<table border=\"1\" class=\"dataframe\">\n",
       "  <thead>\n",
       "    <tr style=\"text-align: right;\">\n",
       "      <th></th>\n",
       "      <th>SMILES</th>\n",
       "      <th>Code</th>\n",
       "      <th>predicted_pic50</th>\n",
       "    </tr>\n",
       "  </thead>\n",
       "  <tbody>\n",
       "    <tr>\n",
       "      <th>0</th>\n",
       "      <td>Fc1ccc(C(c2ccc(F)cc2)N2CCNCC2)cc1</td>\n",
       "      <td>AC10018</td>\n",
       "      <td>4.000000</td>\n",
       "    </tr>\n",
       "    <tr>\n",
       "      <th>1</th>\n",
       "      <td>CSc1nc(N)nc2nc[nH]c12</td>\n",
       "      <td>AC12157</td>\n",
       "      <td>7.000000</td>\n",
       "    </tr>\n",
       "    <tr>\n",
       "      <th>2</th>\n",
       "      <td>CN(C)Cc1c[nH]c2ccc(OCc3ccccc3)cc12</td>\n",
       "      <td>AC13917</td>\n",
       "      <td>6.041914</td>\n",
       "    </tr>\n",
       "    <tr>\n",
       "      <th>3</th>\n",
       "      <td>O=C(O)c1ccc(Br)o1</td>\n",
       "      <td>AC27191</td>\n",
       "      <td>5.386158</td>\n",
       "    </tr>\n",
       "    <tr>\n",
       "      <th>4</th>\n",
       "      <td>NC(Cc1c[nH]c2ccc(Br)cc12)C(=O)O</td>\n",
       "      <td>AC29806</td>\n",
       "      <td>7.000000</td>\n",
       "    </tr>\n",
       "    <tr>\n",
       "      <th>...</th>\n",
       "      <td>...</td>\n",
       "      <td>...</td>\n",
       "      <td>...</td>\n",
       "    </tr>\n",
       "    <tr>\n",
       "      <th>51768</th>\n",
       "      <td>CCO/C(C)=N/Oc1ccc([N+](=O)[O-])cc1[N+](=O)[O-]</td>\n",
       "      <td>S14814</td>\n",
       "      <td>4.522879</td>\n",
       "    </tr>\n",
       "    <tr>\n",
       "      <th>51769</th>\n",
       "      <td>O=C1c2ccccc2C(=O)N1Oc1ccc([N+](=O)[O-])c([N+](...</td>\n",
       "      <td>S14839</td>\n",
       "      <td>4.522879</td>\n",
       "    </tr>\n",
       "    <tr>\n",
       "      <th>51770</th>\n",
       "      <td>O=[N+]([O-])c1ccc2nc(-c3ccccc3)c(-c3ccccc3)nc2c1</td>\n",
       "      <td>S14896</td>\n",
       "      <td>5.248721</td>\n",
       "    </tr>\n",
       "    <tr>\n",
       "      <th>51771</th>\n",
       "      <td>CCOC(=O)C1=C(C)NC(C)=C(C(=O)OCC)C1/C=C/c1ccccc1</td>\n",
       "      <td>SPB05721</td>\n",
       "      <td>4.860121</td>\n",
       "    </tr>\n",
       "    <tr>\n",
       "      <th>51772</th>\n",
       "      <td>CCOC(=O)C1=C(C)NC(C)=C(C(=O)OCC)C1c1cccc([N+](...</td>\n",
       "      <td>S14916</td>\n",
       "      <td>4.860121</td>\n",
       "    </tr>\n",
       "  </tbody>\n",
       "</table>\n",
       "<p>51773 rows × 3 columns</p>\n",
       "</div>"
      ],
      "text/plain": [
       "                                                  SMILES      Code  \\\n",
       "0                      Fc1ccc(C(c2ccc(F)cc2)N2CCNCC2)cc1   AC10018   \n",
       "1                                  CSc1nc(N)nc2nc[nH]c12   AC12157   \n",
       "2                     CN(C)Cc1c[nH]c2ccc(OCc3ccccc3)cc12   AC13917   \n",
       "3                                      O=C(O)c1ccc(Br)o1   AC27191   \n",
       "4                        NC(Cc1c[nH]c2ccc(Br)cc12)C(=O)O   AC29806   \n",
       "...                                                  ...       ...   \n",
       "51768     CCO/C(C)=N/Oc1ccc([N+](=O)[O-])cc1[N+](=O)[O-]    S14814   \n",
       "51769  O=C1c2ccccc2C(=O)N1Oc1ccc([N+](=O)[O-])c([N+](...    S14839   \n",
       "51770   O=[N+]([O-])c1ccc2nc(-c3ccccc3)c(-c3ccccc3)nc2c1    S14896   \n",
       "51771    CCOC(=O)C1=C(C)NC(C)=C(C(=O)OCC)C1/C=C/c1ccccc1  SPB05721   \n",
       "51772  CCOC(=O)C1=C(C)NC(C)=C(C(=O)OCC)C1c1cccc([N+](...    S14916   \n",
       "\n",
       "       predicted_pic50  \n",
       "0             4.000000  \n",
       "1             7.000000  \n",
       "2             6.041914  \n",
       "3             5.386158  \n",
       "4             7.000000  \n",
       "...                ...  \n",
       "51768         4.522879  \n",
       "51769         4.522879  \n",
       "51770         5.248721  \n",
       "51771         4.860121  \n",
       "51772         4.860121  \n",
       "\n",
       "[51773 rows x 3 columns]"
      ]
     },
     "execution_count": 20,
     "metadata": {},
     "output_type": "execute_result"
    }
   ],
   "source": [
    "maybridge_data"
   ]
  },
  {
   "cell_type": "code",
   "execution_count": 21,
   "id": "696afcbe",
   "metadata": {},
   "outputs": [],
   "source": [
    "# Identify potent inhibitors\n",
    "threshold = 6 # Define a threshold for pic50 values \n",
    "potent_inhibitors = maybridge_data[maybridge_data[\"predicted_pic50\"] >= threshold]"
   ]
  },
  {
   "cell_type": "code",
   "execution_count": 22,
   "id": "0391bf4e",
   "metadata": {},
   "outputs": [
    {
     "data": {
      "text/html": [
       "<div>\n",
       "<style scoped>\n",
       "    .dataframe tbody tr th:only-of-type {\n",
       "        vertical-align: middle;\n",
       "    }\n",
       "\n",
       "    .dataframe tbody tr th {\n",
       "        vertical-align: top;\n",
       "    }\n",
       "\n",
       "    .dataframe thead th {\n",
       "        text-align: right;\n",
       "    }\n",
       "</style>\n",
       "<table border=\"1\" class=\"dataframe\">\n",
       "  <thead>\n",
       "    <tr style=\"text-align: right;\">\n",
       "      <th></th>\n",
       "      <th>SMILES</th>\n",
       "      <th>Code</th>\n",
       "      <th>predicted_pic50</th>\n",
       "    </tr>\n",
       "  </thead>\n",
       "  <tbody>\n",
       "    <tr>\n",
       "      <th>1</th>\n",
       "      <td>CSc1nc(N)nc2nc[nH]c12</td>\n",
       "      <td>AC12157</td>\n",
       "      <td>7.000000</td>\n",
       "    </tr>\n",
       "    <tr>\n",
       "      <th>2</th>\n",
       "      <td>CN(C)Cc1c[nH]c2ccc(OCc3ccccc3)cc12</td>\n",
       "      <td>AC13917</td>\n",
       "      <td>6.041914</td>\n",
       "    </tr>\n",
       "    <tr>\n",
       "      <th>4</th>\n",
       "      <td>NC(Cc1c[nH]c2ccc(Br)cc12)C(=O)O</td>\n",
       "      <td>AC29806</td>\n",
       "      <td>7.000000</td>\n",
       "    </tr>\n",
       "    <tr>\n",
       "      <th>6</th>\n",
       "      <td>NC(Cc1c[nH]c2ccc(F)cc12)C(=O)O</td>\n",
       "      <td>AC42043</td>\n",
       "      <td>7.000000</td>\n",
       "    </tr>\n",
       "    <tr>\n",
       "      <th>9</th>\n",
       "      <td>COc1ccc2[nH]cc(CN(C)C)c2c1</td>\n",
       "      <td>AW00178</td>\n",
       "      <td>6.041914</td>\n",
       "    </tr>\n",
       "    <tr>\n",
       "      <th>...</th>\n",
       "      <td>...</td>\n",
       "      <td>...</td>\n",
       "      <td>...</td>\n",
       "    </tr>\n",
       "    <tr>\n",
       "      <th>51677</th>\n",
       "      <td>O=C1NC(=O)C(c2ccccc2)(C2CCC2)N1</td>\n",
       "      <td>BTB00337</td>\n",
       "      <td>7.000000</td>\n",
       "    </tr>\n",
       "    <tr>\n",
       "      <th>51711</th>\n",
       "      <td>CC(C)C(=O)Nc1ccc(-c2ccccc2)cc1</td>\n",
       "      <td>S14860</td>\n",
       "      <td>6.366532</td>\n",
       "    </tr>\n",
       "    <tr>\n",
       "      <th>51745</th>\n",
       "      <td>Cc1ccc(NCN2C(=O)c3ccccc3C2=O)c(C)c1</td>\n",
       "      <td>CC07101</td>\n",
       "      <td>6.187087</td>\n",
       "    </tr>\n",
       "    <tr>\n",
       "      <th>51746</th>\n",
       "      <td>CCc1ccc(NCN2C(=O)c3ccccc3C2=O)cc1</td>\n",
       "      <td>CD02026</td>\n",
       "      <td>6.187087</td>\n",
       "    </tr>\n",
       "    <tr>\n",
       "      <th>51751</th>\n",
       "      <td>O/N=C\\c1c[nH]c2ccccc12</td>\n",
       "      <td>S14875</td>\n",
       "      <td>7.000000</td>\n",
       "    </tr>\n",
       "  </tbody>\n",
       "</table>\n",
       "<p>7553 rows × 3 columns</p>\n",
       "</div>"
      ],
      "text/plain": [
       "                                    SMILES      Code  predicted_pic50\n",
       "1                    CSc1nc(N)nc2nc[nH]c12   AC12157         7.000000\n",
       "2       CN(C)Cc1c[nH]c2ccc(OCc3ccccc3)cc12   AC13917         6.041914\n",
       "4          NC(Cc1c[nH]c2ccc(Br)cc12)C(=O)O   AC29806         7.000000\n",
       "6           NC(Cc1c[nH]c2ccc(F)cc12)C(=O)O   AC42043         7.000000\n",
       "9               COc1ccc2[nH]cc(CN(C)C)c2c1   AW00178         6.041914\n",
       "...                                    ...       ...              ...\n",
       "51677      O=C1NC(=O)C(c2ccccc2)(C2CCC2)N1  BTB00337         7.000000\n",
       "51711       CC(C)C(=O)Nc1ccc(-c2ccccc2)cc1    S14860         6.366532\n",
       "51745  Cc1ccc(NCN2C(=O)c3ccccc3C2=O)c(C)c1   CC07101         6.187087\n",
       "51746    CCc1ccc(NCN2C(=O)c3ccccc3C2=O)cc1   CD02026         6.187087\n",
       "51751               O/N=C\\c1c[nH]c2ccccc12    S14875         7.000000\n",
       "\n",
       "[7553 rows x 3 columns]"
      ]
     },
     "execution_count": 22,
     "metadata": {},
     "output_type": "execute_result"
    }
   ],
   "source": [
    "potent_inhibitors"
   ]
  },
  {
   "cell_type": "code",
   "execution_count": 23,
   "id": "3b74c009",
   "metadata": {
    "scrolled": false
   },
   "outputs": [
    {
     "data": {
      "text/html": [
       "<div>\n",
       "<style scoped>\n",
       "    .dataframe tbody tr th:only-of-type {\n",
       "        vertical-align: middle;\n",
       "    }\n",
       "\n",
       "    .dataframe tbody tr th {\n",
       "        vertical-align: top;\n",
       "    }\n",
       "\n",
       "    .dataframe thead th {\n",
       "        text-align: right;\n",
       "    }\n",
       "</style>\n",
       "<table border=\"1\" class=\"dataframe\">\n",
       "  <thead>\n",
       "    <tr style=\"text-align: right;\">\n",
       "      <th></th>\n",
       "      <th>SMILES</th>\n",
       "      <th>Code</th>\n",
       "      <th>predicted_pic50</th>\n",
       "    </tr>\n",
       "  </thead>\n",
       "  <tbody>\n",
       "    <tr>\n",
       "      <th>16871</th>\n",
       "      <td>N#Cc1c(Cl)cccc1Oc1ccc(S(=O)(=O)Nc2ccccc2C(=O)N...</td>\n",
       "      <td>JFD01405</td>\n",
       "      <td>8.698970</td>\n",
       "    </tr>\n",
       "    <tr>\n",
       "      <th>15449</th>\n",
       "      <td>CC(=O)Nc1cccc(OCCCNS(=O)(=O)c2ccc(Oc3cccc(Cl)c...</td>\n",
       "      <td>HTS03101</td>\n",
       "      <td>8.698970</td>\n",
       "    </tr>\n",
       "    <tr>\n",
       "      <th>10745</th>\n",
       "      <td>CS/C(=N/S(=O)(=O)c1ccccc1)NCc1c(Cl)cccc1Oc1ccccc1</td>\n",
       "      <td>CD06918</td>\n",
       "      <td>8.698970</td>\n",
       "    </tr>\n",
       "    <tr>\n",
       "      <th>37616</th>\n",
       "      <td>COc1ccc(Cl)cc1C(=O)NCCc1ccc(S(=O)(=O)NC(=O)NC2...</td>\n",
       "      <td>RF05314</td>\n",
       "      <td>8.698970</td>\n",
       "    </tr>\n",
       "    <tr>\n",
       "      <th>16973</th>\n",
       "      <td>COc1ccc(Oc2cccc(Cl)c2CNC(=O)NS(=O)(=O)c2ccc(C)...</td>\n",
       "      <td>BTB09427</td>\n",
       "      <td>8.698970</td>\n",
       "    </tr>\n",
       "    <tr>\n",
       "      <th>...</th>\n",
       "      <td>...</td>\n",
       "      <td>...</td>\n",
       "      <td>...</td>\n",
       "    </tr>\n",
       "    <tr>\n",
       "      <th>25451</th>\n",
       "      <td>CC(C)(C)S(=O)(=O)/C(C#N)=C/Nc1ccc(Cl)cn1</td>\n",
       "      <td>KM09040</td>\n",
       "      <td>6.013228</td>\n",
       "    </tr>\n",
       "    <tr>\n",
       "      <th>26722</th>\n",
       "      <td>CS(=O)(=O)/C(C#N)=C/Nc1cnccn1</td>\n",
       "      <td>BTB11835</td>\n",
       "      <td>6.013228</td>\n",
       "    </tr>\n",
       "    <tr>\n",
       "      <th>25018</th>\n",
       "      <td>N#C/C(=C\\NCc1cccnc1)S(=O)(=O)Cc1ccc(Cl)cc1</td>\n",
       "      <td>DSHS00522</td>\n",
       "      <td>6.013228</td>\n",
       "    </tr>\n",
       "    <tr>\n",
       "      <th>25327</th>\n",
       "      <td>CS(=O)(=O)/C(C#N)=C/Nc1cccnc1</td>\n",
       "      <td>HTS05113</td>\n",
       "      <td>6.013228</td>\n",
       "    </tr>\n",
       "    <tr>\n",
       "      <th>25323</th>\n",
       "      <td>CC(C)S(=O)(=O)/C(C#N)=C/Nc1cccnc1</td>\n",
       "      <td>HTS05189</td>\n",
       "      <td>6.013228</td>\n",
       "    </tr>\n",
       "  </tbody>\n",
       "</table>\n",
       "<p>7553 rows × 3 columns</p>\n",
       "</div>"
      ],
      "text/plain": [
       "                                                  SMILES       Code  \\\n",
       "16871  N#Cc1c(Cl)cccc1Oc1ccc(S(=O)(=O)Nc2ccccc2C(=O)N...   JFD01405   \n",
       "15449  CC(=O)Nc1cccc(OCCCNS(=O)(=O)c2ccc(Oc3cccc(Cl)c...   HTS03101   \n",
       "10745  CS/C(=N/S(=O)(=O)c1ccccc1)NCc1c(Cl)cccc1Oc1ccccc1    CD06918   \n",
       "37616  COc1ccc(Cl)cc1C(=O)NCCc1ccc(S(=O)(=O)NC(=O)NC2...    RF05314   \n",
       "16973  COc1ccc(Oc2cccc(Cl)c2CNC(=O)NS(=O)(=O)c2ccc(C)...   BTB09427   \n",
       "...                                                  ...        ...   \n",
       "25451           CC(C)(C)S(=O)(=O)/C(C#N)=C/Nc1ccc(Cl)cn1    KM09040   \n",
       "26722                      CS(=O)(=O)/C(C#N)=C/Nc1cnccn1   BTB11835   \n",
       "25018         N#C/C(=C\\NCc1cccnc1)S(=O)(=O)Cc1ccc(Cl)cc1  DSHS00522   \n",
       "25327                      CS(=O)(=O)/C(C#N)=C/Nc1cccnc1   HTS05113   \n",
       "25323                  CC(C)S(=O)(=O)/C(C#N)=C/Nc1cccnc1   HTS05189   \n",
       "\n",
       "       predicted_pic50  \n",
       "16871         8.698970  \n",
       "15449         8.698970  \n",
       "10745         8.698970  \n",
       "37616         8.698970  \n",
       "16973         8.698970  \n",
       "...                ...  \n",
       "25451         6.013228  \n",
       "26722         6.013228  \n",
       "25018         6.013228  \n",
       "25327         6.013228  \n",
       "25323         6.013228  \n",
       "\n",
       "[7553 rows x 3 columns]"
      ]
     },
     "execution_count": 23,
     "metadata": {},
     "output_type": "execute_result"
    }
   ],
   "source": [
    "# Sort the potent_inhibitors DataFrame based on \"predicted_pic50\" in descending order\n",
    "sorted_potent_inhibitors = potent_inhibitors.sort_values(by=\"predicted_pic50\", ascending=False)\n",
    "sorted_potent_inhibitors"
   ]
  },
  {
   "cell_type": "code",
   "execution_count": 24,
   "id": "fb76bdba",
   "metadata": {},
   "outputs": [
    {
     "data": {
      "text/plain": [
       "count    7553.000000\n",
       "mean        6.658494\n",
       "std         0.404070\n",
       "min         6.013228\n",
       "25%         6.259637\n",
       "50%         6.804100\n",
       "75%         7.000000\n",
       "max         8.698970\n",
       "Name: predicted_pic50, dtype: float64"
      ]
     },
     "execution_count": 24,
     "metadata": {},
     "output_type": "execute_result"
    }
   ],
   "source": [
    "sorted_potent_inhibitors.predicted_pic50.describe()"
   ]
  },
  {
   "cell_type": "code",
   "execution_count": 25,
   "id": "a3267998",
   "metadata": {},
   "outputs": [
    {
     "data": {
      "image/png": "[encoded data removed]",
      "text/plain": [
       "<Figure size 432x288 with 1 Axes>"
      ]
     },
     "metadata": {
      "needs_background": "light"
     },
     "output_type": "display_data"
    }
   ],
   "source": [
    "import matplotlib.pyplot as plt\n",
    "import seaborn as sns\n",
    "\n",
    "sns.histplot(data=potent_inhibitors, x='predicted_pic50', kde=False, bins=100)\n",
    "\n",
    "# Set the title and labels for the plot\n",
    "plt.title('Frequency Distribution Plot of Potent Predicted pIC50 with DTR')\n",
    "plt.xlabel('pIC50')\n",
    "plt.ylabel('Frequency')\n",
    "\n",
    "\n",
    "plt.savefig('figures/potent_predicted_dtr.png')\n",
    "# Show the plot\n",
    "plt.show()"
   ]
  },
  {
   "cell_type": "code",
   "execution_count": 26,
   "id": "0dec9baf",
   "metadata": {},
   "outputs": [],
   "source": [
    "# Save the potent inhibitors to a CSV file\n",
    "potent_inhibitors.to_csv(\"maybridge/dtr_potent_p2x4_inhibitors.csv\", index=False)"
   ]
  },
  {
   "cell_type": "code",
   "execution_count": null,
   "id": "01a7145c",
   "metadata": {},
   "outputs": [],
   "source": []
  },
  {
   "cell_type": "code",
   "execution_count": 27,
   "id": "08da9756",
   "metadata": {},
   "outputs": [
    {
     "data": {
      "text/html": [
       "<div>\n",
       "<style scoped>\n",
       "    .dataframe tbody tr th:only-of-type {\n",
       "        vertical-align: middle;\n",
       "    }\n",
       "\n",
       "    .dataframe tbody tr th {\n",
       "        vertical-align: top;\n",
       "    }\n",
       "\n",
       "    .dataframe thead th {\n",
       "        text-align: right;\n",
       "    }\n",
       "</style>\n",
       "<table border=\"1\" class=\"dataframe\">\n",
       "  <thead>\n",
       "    <tr style=\"text-align: right;\">\n",
       "      <th></th>\n",
       "      <th>smiles</th>\n",
       "    </tr>\n",
       "  </thead>\n",
       "  <tbody>\n",
       "    <tr>\n",
       "      <th>0</th>\n",
       "      <td>O=C(Nc1ccccc1Cl)c1ccc(-c2ccccn2)s1</td>\n",
       "    </tr>\n",
       "    <tr>\n",
       "      <th>1</th>\n",
       "      <td>O=C(Nc1ccccc1Sc1nc2ccc(Cl)cc2s1)c1ccc(F)cc1</td>\n",
       "    </tr>\n",
       "    <tr>\n",
       "      <th>2</th>\n",
       "      <td>COC(=O)c1cccc(NC(=O)c2ccc(Cl)cc2)c1</td>\n",
       "    </tr>\n",
       "    <tr>\n",
       "      <th>3</th>\n",
       "      <td>N#Cc1ccc(-c2c(NC(=O)NS(=O)(=O)c3ccccc3Cl)oc(-c...</td>\n",
       "    </tr>\n",
       "    <tr>\n",
       "      <th>4</th>\n",
       "      <td>Cc1onc(-c2ccccc2)c1C(=O)Nc1ccc(C(F)(F)F)cc1Cl</td>\n",
       "    </tr>\n",
       "    <tr>\n",
       "      <th>...</th>\n",
       "      <td>...</td>\n",
       "    </tr>\n",
       "    <tr>\n",
       "      <th>383</th>\n",
       "      <td>Cc1cc(NS(=O)(=O)c2ccc(NC(=O)c3ccccc3Cl)cc2)no1</td>\n",
       "    </tr>\n",
       "    <tr>\n",
       "      <th>384</th>\n",
       "      <td>O=C(Nc1cccc(-c2nc3ccccc3[nH]2)c1)c1ccc(F)cc1</td>\n",
       "    </tr>\n",
       "    <tr>\n",
       "      <th>385</th>\n",
       "      <td>O=C(Nc1ccc(NC(=S)Nc2ccc(Cl)cc2)cc1)c1ccccc1O</td>\n",
       "    </tr>\n",
       "    <tr>\n",
       "      <th>386</th>\n",
       "      <td>Cc1c(CC(=O)Nc2ccc(Cl)cc2)sc2ccc(Cl)cc12</td>\n",
       "    </tr>\n",
       "    <tr>\n",
       "      <th>387</th>\n",
       "      <td>Cc1ccc(C(=O)Nc2cccc(-c3nc4ccccc4[nH]3)c2)cc1</td>\n",
       "    </tr>\n",
       "  </tbody>\n",
       "</table>\n",
       "<p>388 rows × 1 columns</p>\n",
       "</div>"
      ],
      "text/plain": [
       "                                                smiles\n",
       "0                   O=C(Nc1ccccc1Cl)c1ccc(-c2ccccn2)s1\n",
       "1          O=C(Nc1ccccc1Sc1nc2ccc(Cl)cc2s1)c1ccc(F)cc1\n",
       "2                  COC(=O)c1cccc(NC(=O)c2ccc(Cl)cc2)c1\n",
       "3    N#Cc1ccc(-c2c(NC(=O)NS(=O)(=O)c3ccccc3Cl)oc(-c...\n",
       "4        Cc1onc(-c2ccccc2)c1C(=O)Nc1ccc(C(F)(F)F)cc1Cl\n",
       "..                                                 ...\n",
       "383     Cc1cc(NS(=O)(=O)c2ccc(NC(=O)c3ccccc3Cl)cc2)no1\n",
       "384       O=C(Nc1cccc(-c2nc3ccccc3[nH]2)c1)c1ccc(F)cc1\n",
       "385       O=C(Nc1ccc(NC(=S)Nc2ccc(Cl)cc2)cc1)c1ccccc1O\n",
       "386            Cc1c(CC(=O)Nc2ccc(Cl)cc2)sc2ccc(Cl)cc12\n",
       "387       Cc1ccc(C(=O)Nc2cccc(-c3nc4ccccc4[nH]3)c2)cc1\n",
       "\n",
       "[388 rows x 1 columns]"
      ]
     },
     "execution_count": 27,
     "metadata": {},
     "output_type": "execute_result"
    }
   ],
   "source": [
    "# 1. Load the common potent inhibitors\n",
    "common_df = pd.read_csv(\"maybridge/common_potent_inhibitors.csv\")\n",
    "common_df"
   ]
  },
  {
   "cell_type": "code",
   "execution_count": 28,
   "id": "29466b67",
   "metadata": {
    "scrolled": false
   },
   "outputs": [
    {
     "data": {
      "text/html": [
       "<div>\n",
       "<style scoped>\n",
       "    .dataframe tbody tr th:only-of-type {\n",
       "        vertical-align: middle;\n",
       "    }\n",
       "\n",
       "    .dataframe tbody tr th {\n",
       "        vertical-align: top;\n",
       "    }\n",
       "\n",
       "    .dataframe thead th {\n",
       "        text-align: right;\n",
       "    }\n",
       "</style>\n",
       "<table border=\"1\" class=\"dataframe\">\n",
       "  <thead>\n",
       "    <tr style=\"text-align: right;\">\n",
       "      <th></th>\n",
       "      <th>SMILES</th>\n",
       "      <th>Code</th>\n",
       "      <th>predicted_pic50</th>\n",
       "    </tr>\n",
       "  </thead>\n",
       "  <tbody>\n",
       "    <tr>\n",
       "      <th>66</th>\n",
       "      <td>O=C(Nc1ccc(-n2nccc2C(F)(F)F)cc1)c1ccc(Cl)cc1</td>\n",
       "      <td>AW00193</td>\n",
       "      <td>6.804100</td>\n",
       "    </tr>\n",
       "    <tr>\n",
       "      <th>110</th>\n",
       "      <td>CC(=O)Nc1ccc(S(=O)(=O)Nc2ccc(Oc3ccc(OC(F)(F)F)...</td>\n",
       "      <td>EN00095</td>\n",
       "      <td>6.891469</td>\n",
       "    </tr>\n",
       "    <tr>\n",
       "      <th>250</th>\n",
       "      <td>CC(=O)Nc1ccc(S(=O)(=O)Nc2ccc(Oc3ccc(OC(F)(F)F)...</td>\n",
       "      <td>AW00256</td>\n",
       "      <td>6.891469</td>\n",
       "    </tr>\n",
       "    <tr>\n",
       "      <th>650</th>\n",
       "      <td>CC(=O)Nc1cccc(OCCCNS(=O)(=O)c2ccc(N3C(=O)CC4(C...</td>\n",
       "      <td>AW00490</td>\n",
       "      <td>6.837466</td>\n",
       "    </tr>\n",
       "    <tr>\n",
       "      <th>758</th>\n",
       "      <td>O=C(NCCNS(=O)(=O)c1ccc(Cl)cc1)C1=Cc2cc(Cl)ccc2OC1</td>\n",
       "      <td>GK00081</td>\n",
       "      <td>6.837466</td>\n",
       "    </tr>\n",
       "    <tr>\n",
       "      <th>...</th>\n",
       "      <td>...</td>\n",
       "      <td>...</td>\n",
       "      <td>...</td>\n",
       "    </tr>\n",
       "    <tr>\n",
       "      <th>49720</th>\n",
       "      <td>Cc1onc(-c2ccc(Cl)cc2)c1-c1ccnc(SCC(=O)Nc2ccc(C...</td>\n",
       "      <td>S10227</td>\n",
       "      <td>6.886057</td>\n",
       "    </tr>\n",
       "    <tr>\n",
       "      <th>49780</th>\n",
       "      <td>Cc1cc(-c2nc(C)c(-c3nnc(SCC(=O)Nc4ccc(C(C)C)cc4...</td>\n",
       "      <td>S15050</td>\n",
       "      <td>6.886057</td>\n",
       "    </tr>\n",
       "    <tr>\n",
       "      <th>50705</th>\n",
       "      <td>CCOC(=O)c1cc2c(NC(=O)c3ccc(Cl)cc3)c(C(=O)OCC)s...</td>\n",
       "      <td>RJF02129</td>\n",
       "      <td>6.804100</td>\n",
       "    </tr>\n",
       "    <tr>\n",
       "      <th>51287</th>\n",
       "      <td>O=C(Cc1ccccc1)Nc1ccc(Cl)cc1</td>\n",
       "      <td>S13395</td>\n",
       "      <td>6.267606</td>\n",
       "    </tr>\n",
       "    <tr>\n",
       "      <th>51302</th>\n",
       "      <td>COc1ccc(NC(=O)c2c(-c3c(Cl)cccc3Cl)noc2C)cn1</td>\n",
       "      <td>S13944</td>\n",
       "      <td>6.029188</td>\n",
       "    </tr>\n",
       "  </tbody>\n",
       "</table>\n",
       "<p>394 rows × 3 columns</p>\n",
       "</div>"
      ],
      "text/plain": [
       "                                                  SMILES      Code  \\\n",
       "66          O=C(Nc1ccc(-n2nccc2C(F)(F)F)cc1)c1ccc(Cl)cc1   AW00193   \n",
       "110    CC(=O)Nc1ccc(S(=O)(=O)Nc2ccc(Oc3ccc(OC(F)(F)F)...   EN00095   \n",
       "250    CC(=O)Nc1ccc(S(=O)(=O)Nc2ccc(Oc3ccc(OC(F)(F)F)...   AW00256   \n",
       "650    CC(=O)Nc1cccc(OCCCNS(=O)(=O)c2ccc(N3C(=O)CC4(C...   AW00490   \n",
       "758    O=C(NCCNS(=O)(=O)c1ccc(Cl)cc1)C1=Cc2cc(Cl)ccc2OC1   GK00081   \n",
       "...                                                  ...       ...   \n",
       "49720  Cc1onc(-c2ccc(Cl)cc2)c1-c1ccnc(SCC(=O)Nc2ccc(C...    S10227   \n",
       "49780  Cc1cc(-c2nc(C)c(-c3nnc(SCC(=O)Nc4ccc(C(C)C)cc4...    S15050   \n",
       "50705  CCOC(=O)c1cc2c(NC(=O)c3ccc(Cl)cc3)c(C(=O)OCC)s...  RJF02129   \n",
       "51287                        O=C(Cc1ccccc1)Nc1ccc(Cl)cc1    S13395   \n",
       "51302        COc1ccc(NC(=O)c2c(-c3c(Cl)cccc3Cl)noc2C)cn1    S13944   \n",
       "\n",
       "       predicted_pic50  \n",
       "66            6.804100  \n",
       "110           6.891469  \n",
       "250           6.891469  \n",
       "650           6.837466  \n",
       "758           6.837466  \n",
       "...                ...  \n",
       "49720         6.886057  \n",
       "49780         6.886057  \n",
       "50705         6.804100  \n",
       "51287         6.267606  \n",
       "51302         6.029188  \n",
       "\n",
       "[394 rows x 3 columns]"
      ]
     },
     "execution_count": 28,
     "metadata": {},
     "output_type": "execute_result"
    }
   ],
   "source": [
    "filtered_potent_inhibitors = potent_inhibitors[potent_inhibitors[\"SMILES\"].isin(common_df[\"smiles\"])]\n",
    "filtered_potent_inhibitors"
   ]
  },
  {
   "cell_type": "code",
   "execution_count": 29,
   "id": "fc6f592c",
   "metadata": {},
   "outputs": [
    {
     "data": {
      "text/plain": [
       "count    394.000000\n",
       "mean       6.646199\n",
       "std        0.457423\n",
       "min        6.029188\n",
       "25%        6.200659\n",
       "50%        6.804100\n",
       "75%        6.809668\n",
       "max        8.698970\n",
       "Name: predicted_pic50, dtype: float64"
      ]
     },
     "execution_count": 29,
     "metadata": {},
     "output_type": "execute_result"
    }
   ],
   "source": [
    "filtered_potent_inhibitors.predicted_pic50.describe()"
   ]
  },
  {
   "cell_type": "code",
   "execution_count": 30,
   "id": "b154cef6",
   "metadata": {},
   "outputs": [],
   "source": []
  },
  {
   "cell_type": "code",
   "execution_count": 31,
   "id": "86344ca0",
   "metadata": {},
   "outputs": [
    {
     "data": {
      "text/html": [
       "<div>\n",
       "<style scoped>\n",
       "    .dataframe tbody tr th:only-of-type {\n",
       "        vertical-align: middle;\n",
       "    }\n",
       "\n",
       "    .dataframe tbody tr th {\n",
       "        vertical-align: top;\n",
       "    }\n",
       "\n",
       "    .dataframe thead th {\n",
       "        text-align: right;\n",
       "    }\n",
       "</style>\n",
       "<table border=\"1\" class=\"dataframe\">\n",
       "  <thead>\n",
       "    <tr style=\"text-align: right;\">\n",
       "      <th></th>\n",
       "      <th>SMILES</th>\n",
       "      <th>Code</th>\n",
       "      <th>predicted_pic50</th>\n",
       "    </tr>\n",
       "  </thead>\n",
       "  <tbody>\n",
       "    <tr>\n",
       "      <th>37616</th>\n",
       "      <td>COc1ccc(Cl)cc1C(=O)NCCc1ccc(S(=O)(=O)NC(=O)NC2...</td>\n",
       "      <td>RF05314</td>\n",
       "      <td>8.698970</td>\n",
       "    </tr>\n",
       "    <tr>\n",
       "      <th>16871</th>\n",
       "      <td>N#Cc1c(Cl)cccc1Oc1ccc(S(=O)(=O)Nc2ccccc2C(=O)N...</td>\n",
       "      <td>JFD01405</td>\n",
       "      <td>8.698970</td>\n",
       "    </tr>\n",
       "    <tr>\n",
       "      <th>15449</th>\n",
       "      <td>CC(=O)Nc1cccc(OCCCNS(=O)(=O)c2ccc(Oc3cccc(Cl)c...</td>\n",
       "      <td>HTS03101</td>\n",
       "      <td>8.698970</td>\n",
       "    </tr>\n",
       "    <tr>\n",
       "      <th>19281</th>\n",
       "      <td>Cc1cc(NS(=O)(=O)c2ccc(NC(=O)COc3ccc(Cl)cc3Cl)c...</td>\n",
       "      <td>BTB10526</td>\n",
       "      <td>7.585027</td>\n",
       "    </tr>\n",
       "    <tr>\n",
       "      <th>25805</th>\n",
       "      <td>Cc1onc(-c2c(Cl)cccc2Cl)c1NC(=O)N=S(C)(=O)c1ccc...</td>\n",
       "      <td>KM09094</td>\n",
       "      <td>7.568636</td>\n",
       "    </tr>\n",
       "    <tr>\n",
       "      <th>...</th>\n",
       "      <td>...</td>\n",
       "      <td>...</td>\n",
       "      <td>...</td>\n",
       "    </tr>\n",
       "    <tr>\n",
       "      <th>45968</th>\n",
       "      <td>CCN(CC)c1ccc(NC(=O)c2c(-c3c(Cl)cccc3Cl)noc2C)c...</td>\n",
       "      <td>S05695</td>\n",
       "      <td>6.029188</td>\n",
       "    </tr>\n",
       "    <tr>\n",
       "      <th>45862</th>\n",
       "      <td>Cc1onc(-c2c(F)cccc2Cl)c1C(=O)Nc1ccc(Sc2ccccc2)...</td>\n",
       "      <td>RJC00553</td>\n",
       "      <td>6.029188</td>\n",
       "    </tr>\n",
       "    <tr>\n",
       "      <th>7952</th>\n",
       "      <td>Cc1onc(-c2ccccc2Cl)c1C(=O)Nc1cccnc1</td>\n",
       "      <td>CD05388</td>\n",
       "      <td>6.029188</td>\n",
       "    </tr>\n",
       "    <tr>\n",
       "      <th>34882</th>\n",
       "      <td>CC(=O)Nc1cccc(-c2cc(-c3ccc(Cl)cc3Cl)no2)c1</td>\n",
       "      <td>NRB01201</td>\n",
       "      <td>6.029188</td>\n",
       "    </tr>\n",
       "    <tr>\n",
       "      <th>51302</th>\n",
       "      <td>COc1ccc(NC(=O)c2c(-c3c(Cl)cccc3Cl)noc2C)cn1</td>\n",
       "      <td>S13944</td>\n",
       "      <td>6.029188</td>\n",
       "    </tr>\n",
       "  </tbody>\n",
       "</table>\n",
       "<p>394 rows × 3 columns</p>\n",
       "</div>"
      ],
      "text/plain": [
       "                                                  SMILES      Code  \\\n",
       "37616  COc1ccc(Cl)cc1C(=O)NCCc1ccc(S(=O)(=O)NC(=O)NC2...   RF05314   \n",
       "16871  N#Cc1c(Cl)cccc1Oc1ccc(S(=O)(=O)Nc2ccccc2C(=O)N...  JFD01405   \n",
       "15449  CC(=O)Nc1cccc(OCCCNS(=O)(=O)c2ccc(Oc3cccc(Cl)c...  HTS03101   \n",
       "19281  Cc1cc(NS(=O)(=O)c2ccc(NC(=O)COc3ccc(Cl)cc3Cl)c...  BTB10526   \n",
       "25805  Cc1onc(-c2c(Cl)cccc2Cl)c1NC(=O)N=S(C)(=O)c1ccc...   KM09094   \n",
       "...                                                  ...       ...   \n",
       "45968  CCN(CC)c1ccc(NC(=O)c2c(-c3c(Cl)cccc3Cl)noc2C)c...    S05695   \n",
       "45862  Cc1onc(-c2c(F)cccc2Cl)c1C(=O)Nc1ccc(Sc2ccccc2)...  RJC00553   \n",
       "7952                 Cc1onc(-c2ccccc2Cl)c1C(=O)Nc1cccnc1   CD05388   \n",
       "34882         CC(=O)Nc1cccc(-c2cc(-c3ccc(Cl)cc3Cl)no2)c1  NRB01201   \n",
       "51302        COc1ccc(NC(=O)c2c(-c3c(Cl)cccc3Cl)noc2C)cn1    S13944   \n",
       "\n",
       "       predicted_pic50  \n",
       "37616         8.698970  \n",
       "16871         8.698970  \n",
       "15449         8.698970  \n",
       "19281         7.585027  \n",
       "25805         7.568636  \n",
       "...                ...  \n",
       "45968         6.029188  \n",
       "45862         6.029188  \n",
       "7952          6.029188  \n",
       "34882         6.029188  \n",
       "51302         6.029188  \n",
       "\n",
       "[394 rows x 3 columns]"
      ]
     },
     "execution_count": 31,
     "metadata": {},
     "output_type": "execute_result"
    }
   ],
   "source": [
    "# 3. Sort the filtered data based on pic50 values in descending order (assuming higher is more potent)\n",
    "sorted_common = filtered_potent_inhibitors.sort_values(by=\"predicted_pic50\", ascending=False)\n",
    "sorted_common"
   ]
  },
  {
   "cell_type": "code",
   "execution_count": 37,
   "id": "8aaf4dfe",
   "metadata": {},
   "outputs": [],
   "source": [
    "# Save the potent inhibitors to a CSV file\n",
    "sorted_common.to_csv(\"maybridge/dtr_sorted_common.csv\", index=False)"
   ]
  },
  {
   "cell_type": "code",
   "execution_count": 32,
   "id": "6f29a317",
   "metadata": {},
   "outputs": [
    {
     "data": {
      "text/html": [
       "<style>#sk-container-id-2 {color: black;background-color: white;}#sk-container-id-2 pre{padding: 0;}#sk-container-id-2 div.sk-toggleable {background-color: white;}#sk-container-id-2 label.sk-toggleable__label {cursor: pointer;display: block;width: 100%;margin-bottom: 0;padding: 0.3em;box-sizing: border-box;text-align: center;}#sk-container-id-2 label.sk-toggleable__label-arrow:before {content: \"▸\";float: left;margin-right: 0.25em;color: #696969;}#sk-container-id-2 label.sk-toggleable__label-arrow:hover:before {color: black;}#sk-container-id-2 div.sk-estimator:hover label.sk-toggleable__label-arrow:before {color: black;}#sk-container-id-2 div.sk-toggleable__content {max-height: 0;max-width: 0;overflow: hidden;text-align: left;background-color: #f0f8ff;}#sk-container-id-2 div.sk-toggleable__content pre {margin: 0.2em;color: black;border-radius: 0.25em;background-color: #f0f8ff;}#sk-container-id-2 input.sk-toggleable__control:checked~div.sk-toggleable__content {max-height: 200px;max-width: 100%;overflow: auto;}#sk-container-id-2 input.sk-toggleable__control:checked~label.sk-toggleable__label-arrow:before {content: \"▾\";}#sk-container-id-2 div.sk-estimator input.sk-toggleable__control:checked~label.sk-toggleable__label {background-color: #d4ebff;}#sk-container-id-2 div.sk-label input.sk-toggleable__control:checked~label.sk-toggleable__label {background-color: #d4ebff;}#sk-container-id-2 input.sk-hidden--visually {border: 0;clip: rect(1px 1px 1px 1px);clip: rect(1px, 1px, 1px, 1px);height: 1px;margin: -1px;overflow: hidden;padding: 0;position: absolute;width: 1px;}#sk-container-id-2 div.sk-estimator {font-family: monospace;background-color: #f0f8ff;border: 1px dotted black;border-radius: 0.25em;box-sizing: border-box;margin-bottom: 0.5em;}#sk-container-id-2 div.sk-estimator:hover {background-color: #d4ebff;}#sk-container-id-2 div.sk-parallel-item::after {content: \"\";width: 100%;border-bottom: 1px solid gray;flex-grow: 1;}#sk-container-id-2 div.sk-label:hover label.sk-toggleable__label {background-color: #d4ebff;}#sk-container-id-2 div.sk-serial::before {content: \"\";position: absolute;border-left: 1px solid gray;box-sizing: border-box;top: 0;bottom: 0;left: 50%;z-index: 0;}#sk-container-id-2 div.sk-serial {display: flex;flex-direction: column;align-items: center;background-color: white;padding-right: 0.2em;padding-left: 0.2em;position: relative;}#sk-container-id-2 div.sk-item {position: relative;z-index: 1;}#sk-container-id-2 div.sk-parallel {display: flex;align-items: stretch;justify-content: center;background-color: white;position: relative;}#sk-container-id-2 div.sk-item::before, #sk-container-id-2 div.sk-parallel-item::before {content: \"\";position: absolute;border-left: 1px solid gray;box-sizing: border-box;top: 0;bottom: 0;left: 50%;z-index: -1;}#sk-container-id-2 div.sk-parallel-item {display: flex;flex-direction: column;z-index: 1;position: relative;background-color: white;}#sk-container-id-2 div.sk-parallel-item:first-child::after {align-self: flex-end;width: 50%;}#sk-container-id-2 div.sk-parallel-item:last-child::after {align-self: flex-start;width: 50%;}#sk-container-id-2 div.sk-parallel-item:only-child::after {width: 0;}#sk-container-id-2 div.sk-dashed-wrapped {border: 1px dashed gray;margin: 0 0.4em 0.5em 0.4em;box-sizing: border-box;padding-bottom: 0.4em;background-color: white;}#sk-container-id-2 div.sk-label label {font-family: monospace;font-weight: bold;display: inline-block;line-height: 1.2em;}#sk-container-id-2 div.sk-label-container {text-align: center;}#sk-container-id-2 div.sk-container {/* jupyter's `normalize.less` sets `[hidden] { display: none; }` but bootstrap.min.css set `[hidden] { display: none !important; }` so we also need the `!important` here to be able to override the default hidden behavior on the sphinx rendered scikit-learn.org. See: https://github.com/scikit-learn/scikit-learn/issues/21755 */display: inline-block !important;position: relative;}#sk-container-id-2 div.sk-text-repr-fallback {display: none;}</style><div id=\"sk-container-id-2\" class=\"sk-top-container\"><div class=\"sk-text-repr-fallback\"><pre>DecisionTreeRegressor(max_depth=20, max_features=&#x27;log2&#x27;, random_state=6)</pre><b>In a Jupyter environment, please rerun this cell to show the HTML representation or trust the notebook. <br />On GitHub, the HTML representation is unable to render, please try loading this page with nbviewer.org.</b></div><div class=\"sk-container\" hidden><div class=\"sk-item\"><div class=\"sk-estimator sk-toggleable\"><input class=\"sk-toggleable__control sk-hidden--visually\" id=\"sk-estimator-id-4\" type=\"checkbox\" checked><label for=\"sk-estimator-id-4\" class=\"sk-toggleable__label sk-toggleable__label-arrow\">DecisionTreeRegressor</label><div class=\"sk-toggleable__content\"><pre>DecisionTreeRegressor(max_depth=20, max_features=&#x27;log2&#x27;, random_state=6)</pre></div></div></div></div></div>"
      ],
      "text/plain": [
       "DecisionTreeRegressor(max_depth=20, max_features='log2', random_state=6)"
      ]
     },
     "execution_count": 32,
     "metadata": {},
     "output_type": "execute_result"
    }
   ],
   "source": [
    "best_model_dtr"
   ]
  },
  {
   "cell_type": "code",
   "execution_count": 35,
   "id": "f2dac79b",
   "metadata": {},
   "outputs": [
    {
     "data": {
      "text/html": [
       "<div>\n",
       "<style scoped>\n",
       "    .dataframe tbody tr th:only-of-type {\n",
       "        vertical-align: middle;\n",
       "    }\n",
       "\n",
       "    .dataframe tbody tr th {\n",
       "        vertical-align: top;\n",
       "    }\n",
       "\n",
       "    .dataframe thead th {\n",
       "        text-align: right;\n",
       "    }\n",
       "</style>\n",
       "<table border=\"1\" class=\"dataframe\">\n",
       "  <thead>\n",
       "    <tr style=\"text-align: right;\">\n",
       "      <th></th>\n",
       "      <th>SMILES</th>\n",
       "      <th>Code</th>\n",
       "      <th>predicted_pic50</th>\n",
       "    </tr>\n",
       "  </thead>\n",
       "  <tbody>\n",
       "    <tr>\n",
       "      <th>37616</th>\n",
       "      <td>COc1ccc(Cl)cc1C(=O)NCCc1ccc(S(=O)(=O)NC(=O)NC2...</td>\n",
       "      <td>RF05314</td>\n",
       "      <td>8.698970</td>\n",
       "    </tr>\n",
       "    <tr>\n",
       "      <th>15449</th>\n",
       "      <td>CC(=O)Nc1cccc(OCCCNS(=O)(=O)c2ccc(Oc3cccc(Cl)c...</td>\n",
       "      <td>HTS03101</td>\n",
       "      <td>8.698970</td>\n",
       "    </tr>\n",
       "    <tr>\n",
       "      <th>16871</th>\n",
       "      <td>N#Cc1c(Cl)cccc1Oc1ccc(S(=O)(=O)Nc2ccccc2C(=O)N...</td>\n",
       "      <td>JFD01405</td>\n",
       "      <td>8.698970</td>\n",
       "    </tr>\n",
       "    <tr>\n",
       "      <th>19281</th>\n",
       "      <td>Cc1cc(NS(=O)(=O)c2ccc(NC(=O)COc3ccc(Cl)cc3Cl)c...</td>\n",
       "      <td>BTB10526</td>\n",
       "      <td>7.585027</td>\n",
       "    </tr>\n",
       "    <tr>\n",
       "      <th>25805</th>\n",
       "      <td>Cc1onc(-c2c(Cl)cccc2Cl)c1NC(=O)N=S(C)(=O)c1ccc...</td>\n",
       "      <td>KM09094</td>\n",
       "      <td>7.568636</td>\n",
       "    </tr>\n",
       "    <tr>\n",
       "      <th>25804</th>\n",
       "      <td>Cc1onc(-c2c(Cl)cccc2Cl)c1NC(=O)N=S(C)(=O)c1ccccc1</td>\n",
       "      <td>KM09189</td>\n",
       "      <td>7.568636</td>\n",
       "    </tr>\n",
       "    <tr>\n",
       "      <th>13559</th>\n",
       "      <td>Cc1cc(NS(=O)(=O)c2ccc(NC(=O)c3c(-c4ccccc4Cl)no...</td>\n",
       "      <td>BTB07672</td>\n",
       "      <td>7.522879</td>\n",
       "    </tr>\n",
       "    <tr>\n",
       "      <th>25780</th>\n",
       "      <td>CCCS(=O)(=O)c1cscc1NC(=O)c1c(-c2ccccc2Cl)noc1C</td>\n",
       "      <td>KM09142</td>\n",
       "      <td>7.522879</td>\n",
       "    </tr>\n",
       "    <tr>\n",
       "      <th>25781</th>\n",
       "      <td>CCCS(=O)(=O)c1cscc1NC(=O)c1c(-c2c(F)cccc2Cl)noc1C</td>\n",
       "      <td>KM09152</td>\n",
       "      <td>7.522879</td>\n",
       "    </tr>\n",
       "    <tr>\n",
       "      <th>22204</th>\n",
       "      <td>NS(=O)(=O)c1ccc(NC(=O)CSc2nnc(-c3ccc(Cl)cc3)o2...</td>\n",
       "      <td>HTS04304</td>\n",
       "      <td>7.522879</td>\n",
       "    </tr>\n",
       "    <tr>\n",
       "      <th>11754</th>\n",
       "      <td>Cc1onc(-c2ccccc2Cl)c1C(=O)Nc1ccc(S(=O)(=O)Nc2n...</td>\n",
       "      <td>CD07240</td>\n",
       "      <td>7.522879</td>\n",
       "    </tr>\n",
       "    <tr>\n",
       "      <th>17569</th>\n",
       "      <td>Cc1ccc(S(=O)(=O)N(C)C)cc1NC(=O)c1c(-c2c(F)cccc...</td>\n",
       "      <td>BTB09746</td>\n",
       "      <td>7.522879</td>\n",
       "    </tr>\n",
       "    <tr>\n",
       "      <th>17571</th>\n",
       "      <td>Cc1onc(-c2c(F)cccc2Cl)c1C(=O)Nc1cccc(S(N)(=O)=...</td>\n",
       "      <td>BTB09803</td>\n",
       "      <td>7.522879</td>\n",
       "    </tr>\n",
       "    <tr>\n",
       "      <th>1407</th>\n",
       "      <td>CC(=O)Nc1ccc(C)c(NC(=O)c2c(-c3ccccc3Cl)noc2C)c1</td>\n",
       "      <td>CD00073</td>\n",
       "      <td>7.431798</td>\n",
       "    </tr>\n",
       "    <tr>\n",
       "      <th>12073</th>\n",
       "      <td>Cc1ccc(NC(=O)c2c(-c3ccccc3Cl)noc2C)cc1F</td>\n",
       "      <td>SPB01592</td>\n",
       "      <td>7.431798</td>\n",
       "    </tr>\n",
       "    <tr>\n",
       "      <th>35976</th>\n",
       "      <td>CCCCc1ccc(NC(=O)c2c(-c3c(Cl)cccc3Cl)noc2C)c(C)c1</td>\n",
       "      <td>NRB02094</td>\n",
       "      <td>7.431798</td>\n",
       "    </tr>\n",
       "    <tr>\n",
       "      <th>11833</th>\n",
       "      <td>Cc1ccc2nc(-c3ccc(NC(=O)c4c(-c5ccccc5Cl)noc4C)c...</td>\n",
       "      <td>KM03167</td>\n",
       "      <td>7.431798</td>\n",
       "    </tr>\n",
       "    <tr>\n",
       "      <th>40130</th>\n",
       "      <td>Cc1onc(-c2ccccc2Cl)c1C(=O)Nc1ccc(C(C)C)cc1</td>\n",
       "      <td>HTS09276</td>\n",
       "      <td>7.431798</td>\n",
       "    </tr>\n",
       "    <tr>\n",
       "      <th>15459</th>\n",
       "      <td>Cc1onc(-c2ccccc2)c1C(=O)Nc1ccc(C(F)(F)F)cc1Cl</td>\n",
       "      <td>HTS03104</td>\n",
       "      <td>7.431798</td>\n",
       "    </tr>\n",
       "    <tr>\n",
       "      <th>1343</th>\n",
       "      <td>Cc1ccc(NC(=O)c2c(-c3c(Cl)cccc3Cl)noc2C)cc1[N+]...</td>\n",
       "      <td>CC20101</td>\n",
       "      <td>7.431798</td>\n",
       "    </tr>\n",
       "  </tbody>\n",
       "</table>\n",
       "</div>"
      ],
      "text/plain": [
       "                                                  SMILES      Code  \\\n",
       "37616  COc1ccc(Cl)cc1C(=O)NCCc1ccc(S(=O)(=O)NC(=O)NC2...   RF05314   \n",
       "15449  CC(=O)Nc1cccc(OCCCNS(=O)(=O)c2ccc(Oc3cccc(Cl)c...  HTS03101   \n",
       "16871  N#Cc1c(Cl)cccc1Oc1ccc(S(=O)(=O)Nc2ccccc2C(=O)N...  JFD01405   \n",
       "19281  Cc1cc(NS(=O)(=O)c2ccc(NC(=O)COc3ccc(Cl)cc3Cl)c...  BTB10526   \n",
       "25805  Cc1onc(-c2c(Cl)cccc2Cl)c1NC(=O)N=S(C)(=O)c1ccc...   KM09094   \n",
       "25804  Cc1onc(-c2c(Cl)cccc2Cl)c1NC(=O)N=S(C)(=O)c1ccccc1   KM09189   \n",
       "13559  Cc1cc(NS(=O)(=O)c2ccc(NC(=O)c3c(-c4ccccc4Cl)no...  BTB07672   \n",
       "25780     CCCS(=O)(=O)c1cscc1NC(=O)c1c(-c2ccccc2Cl)noc1C   KM09142   \n",
       "25781  CCCS(=O)(=O)c1cscc1NC(=O)c1c(-c2c(F)cccc2Cl)noc1C   KM09152   \n",
       "22204  NS(=O)(=O)c1ccc(NC(=O)CSc2nnc(-c3ccc(Cl)cc3)o2...  HTS04304   \n",
       "11754  Cc1onc(-c2ccccc2Cl)c1C(=O)Nc1ccc(S(=O)(=O)Nc2n...   CD07240   \n",
       "17569  Cc1ccc(S(=O)(=O)N(C)C)cc1NC(=O)c1c(-c2c(F)cccc...  BTB09746   \n",
       "17571  Cc1onc(-c2c(F)cccc2Cl)c1C(=O)Nc1cccc(S(N)(=O)=...  BTB09803   \n",
       "1407     CC(=O)Nc1ccc(C)c(NC(=O)c2c(-c3ccccc3Cl)noc2C)c1   CD00073   \n",
       "12073            Cc1ccc(NC(=O)c2c(-c3ccccc3Cl)noc2C)cc1F  SPB01592   \n",
       "35976   CCCCc1ccc(NC(=O)c2c(-c3c(Cl)cccc3Cl)noc2C)c(C)c1  NRB02094   \n",
       "11833  Cc1ccc2nc(-c3ccc(NC(=O)c4c(-c5ccccc5Cl)noc4C)c...   KM03167   \n",
       "40130         Cc1onc(-c2ccccc2Cl)c1C(=O)Nc1ccc(C(C)C)cc1  HTS09276   \n",
       "15459      Cc1onc(-c2ccccc2)c1C(=O)Nc1ccc(C(F)(F)F)cc1Cl  HTS03104   \n",
       "1343   Cc1ccc(NC(=O)c2c(-c3c(Cl)cccc3Cl)noc2C)cc1[N+]...   CC20101   \n",
       "\n",
       "       predicted_pic50  \n",
       "37616         8.698970  \n",
       "15449         8.698970  \n",
       "16871         8.698970  \n",
       "19281         7.585027  \n",
       "25805         7.568636  \n",
       "25804         7.568636  \n",
       "13559         7.522879  \n",
       "25780         7.522879  \n",
       "25781         7.522879  \n",
       "22204         7.522879  \n",
       "11754         7.522879  \n",
       "17569         7.522879  \n",
       "17571         7.522879  \n",
       "1407          7.431798  \n",
       "12073         7.431798  \n",
       "35976         7.431798  \n",
       "11833         7.431798  \n",
       "40130         7.431798  \n",
       "15459         7.431798  \n",
       "1343          7.431798  "
      ]
     },
     "execution_count": 35,
     "metadata": {},
     "output_type": "execute_result"
    }
   ],
   "source": [
    "top20 = sorted_common.sort_values(by=\"predicted_pic50\", ascending=False).head(20)\n",
    "top20"
   ]
  },
  {
   "cell_type": "code",
   "execution_count": 36,
   "id": "91b7816d",
   "metadata": {},
   "outputs": [],
   "source": [
    "top20.to_csv(\"maybridge/dtr_top20.csv\", index=False)"
   ]
  },
  {
   "cell_type": "code",
   "execution_count": null,
   "id": "e57fec7d",
   "metadata": {},
   "outputs": [],
   "source": []
  },
  {
   "cell_type": "code",
   "execution_count": null,
   "id": "04332600",
   "metadata": {},
   "outputs": [],
   "source": []
  },
  {
   "cell_type": "code",
   "execution_count": null,
   "id": "2862e601",
   "metadata": {},
   "outputs": [],
   "source": []
  },
  {
   "cell_type": "code",
   "execution_count": null,
   "id": "bac1f667",
   "metadata": {},
   "outputs": [],
   "source": []
  },
  {
   "cell_type": "code",
   "execution_count": null,
   "id": "64bf3988",
   "metadata": {},
   "outputs": [],
   "source": []
  },
  {
   "cell_type": "code",
   "execution_count": null,
   "id": "3785d9b8",
   "metadata": {},
   "outputs": [],
   "source": []
  },
  {
   "cell_type": "code",
   "execution_count": null,
   "id": "a4c3b13c",
   "metadata": {},
   "outputs": [],
   "source": []
  },
  {
   "cell_type": "code",
   "execution_count": 33,
   "id": "7fdb2075",
   "metadata": {},
   "outputs": [
    {
     "name": "stdout",
     "output_type": "stream",
     "text": [
      "207\n",
      "4.000000    70\n",
      "5.000000    69\n",
      "4.522879    14\n",
      "6.494850     5\n",
      "7.408935     5\n",
      "            ..\n",
      "6.767004     1\n",
      "6.804100     1\n",
      "7.397940     1\n",
      "5.248721     1\n",
      "5.894831     1\n",
      "Name: pIC50, Length: 207, dtype: int64\n"
     ]
    }
   ],
   "source": [
    "# Let's suppose df['pIC50'] is your target variable\n",
    "print(df['pIC50'].nunique())\n",
    "print(df['pIC50'].value_counts())"
   ]
  },
  {
   "cell_type": "code",
   "execution_count": 34,
   "id": "7ee891d5",
   "metadata": {},
   "outputs": [
    {
     "ename": "NameError",
     "evalue": "name 'best_model_rf' is not defined",
     "output_type": "error",
     "traceback": [
      "\u001b[0;31m---------------------------------------------------------------------------\u001b[0m",
      "\u001b[0;31mNameError\u001b[0m                                 Traceback (most recent call last)",
      "Cell \u001b[0;32mIn [34], line 2\u001b[0m\n\u001b[1;32m      1\u001b[0m \u001b[38;5;66;03m# Model Evaluation for RandomForestRegressor\u001b[39;00m\n\u001b[0;32m----> 2\u001b[0m y_test_pred_rf \u001b[38;5;241m=\u001b[39m \u001b[43mbest_model_rf\u001b[49m\u001b[38;5;241m.\u001b[39mpredict(X_test)\n\u001b[1;32m      3\u001b[0m mse_test_rf \u001b[38;5;241m=\u001b[39m mean_squared_error(y_test, y_test_pred_rf)\n",
      "\u001b[0;31mNameError\u001b[0m: name 'best_model_rf' is not defined"
     ]
    }
   ],
   "source": [
    "# Model Evaluation for RandomForestRegressor\n",
    "y_test_pred_rf = best_model_rf.predict(X_test)\n",
    "mse_test_rf = mean_squared_error(y_test, y_test_pred_rf)"
   ]
  },
  {
   "cell_type": "code",
   "execution_count": null,
   "id": "9fd60154",
   "metadata": {},
   "outputs": [],
   "source": [
    "# Printing the results\n",
    "print(f\"RandomForestRegressor - Test Mean Squared Error: {mse_test_rf}\")\n",
    "print(f\"Best RandomForestRegressor: {grid_search_rf.best_params_}\")"
   ]
  },
  {
   "cell_type": "code",
   "execution_count": null,
   "id": "5aff8eb4",
   "metadata": {},
   "outputs": [],
   "source": []
  }
 ],
 "metadata": {
  "kernelspec": {
   "display_name": "Python 3",
   "language": "python",
   "name": "python3"
  },
  "language_info": {
   "codemirror_mode": {
    "name": "ipython",
    "version": 3
   },
   "file_extension": ".py",
   "mimetype": "text/x-python",
   "name": "python",
   "nbconvert_exporter": "python",
   "pygments_lexer": "ipython3",
   "version": "3.9.12"
  }
 },
 "nbformat": 4,
 "nbformat_minor": 5
}
