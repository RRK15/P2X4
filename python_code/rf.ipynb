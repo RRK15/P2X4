{
 "cells": [
  {
   "cell_type": "code",
   "execution_count": 2,
   "id": "6b63938b",
   "metadata": {},
   "outputs": [],
   "source": [
    "import numpy as np\n",
    "import pandas as pd\n",
    "from sklearn.feature_selection import VarianceThreshold\n",
    "from sklearn.model_selection import GridSearchCV, train_test_split\n",
    "from sklearn.ensemble import RandomForestRegressor\n",
    "from xgboost import XGBRegressor\n",
    "from sklearn.tree import DecisionTreeRegressor\n",
    "from sklearn.ensemble import ExtraTreesRegressor\n",
    "from sklearn.metrics import mean_squared_error"
   ]
  },
  {
   "cell_type": "code",
   "execution_count": 3,
   "id": "e3e92907",
   "metadata": {},
   "outputs": [],
   "source": [
    "# Load data\n",
    "X = pd.read_csv('data/fingerprints.csv', index_col = 0)\n",
    "df = pd.read_csv('data/p2x4_final.csv', index_col = 0)\n",
    "Y = df['pIC50']\n",
    "# Feature Selection\n",
    "selection = VarianceThreshold(threshold=(.8 * (1 - .8)))    \n",
    "X = selection.fit_transform(X)"
   ]
  },
  {
   "cell_type": "code",
   "execution_count": 4,
   "id": "02c9bcf1",
   "metadata": {},
   "outputs": [],
   "source": [
    "# Splitting the data\n",
    "X_train, X_test, y_train, y_test = train_test_split(X, Y, test_size=0.1, random_state=6)"
   ]
  },
  {
   "cell_type": "code",
   "execution_count": 5,
   "id": "f297d672",
   "metadata": {},
   "outputs": [],
   "source": [
    "# Hyperparameter grid for RandomForestRegressor\n",
    "param_grid_rf = {\n",
    "    'n_estimators': [10, 50, 100, 150],\n",
    "    'max_features': ['auto', 'sqrt', 'log2'],\n",
    "    'max_depth': [None, 10, 20, 30],\n",
    "    'min_samples_split': [2, 5, 10],\n",
    "    'min_samples_leaf': [1, 2, 4],\n",
    "    'bootstrap': [True, False]\n",
    "}"
   ]
  },
  {
   "cell_type": "code",
   "execution_count": 6,
   "id": "25b36d50",
   "metadata": {},
   "outputs": [
    {
     "name": "stdout",
     "output_type": "stream",
     "text": [
      "Number of physical cores: 4\n"
     ]
    }
   ],
   "source": [
    "import joblib\n",
    "\n",
    "N_CORES = joblib.cpu_count(only_physical_cores=True)\n",
    "print(f\"Number of physical cores: {N_CORES}\")"
   ]
  },
  {
   "cell_type": "code",
   "execution_count": 7,
   "id": "0ce69433",
   "metadata": {},
   "outputs": [
    {
     "name": "stdout",
     "output_type": "stream",
     "text": [
      "Fitting 5 folds for each of 864 candidates, totalling 4320 fits\n"
     ]
    },
    {
     "data": {
      "text/html": [
       "<style>#sk-container-id-1 {color: black;background-color: white;}#sk-container-id-1 pre{padding: 0;}#sk-container-id-1 div.sk-toggleable {background-color: white;}#sk-container-id-1 label.sk-toggleable__label {cursor: pointer;display: block;width: 100%;margin-bottom: 0;padding: 0.3em;box-sizing: border-box;text-align: center;}#sk-container-id-1 label.sk-toggleable__label-arrow:before {content: \"▸\";float: left;margin-right: 0.25em;color: #696969;}#sk-container-id-1 label.sk-toggleable__label-arrow:hover:before {color: black;}#sk-container-id-1 div.sk-estimator:hover label.sk-toggleable__label-arrow:before {color: black;}#sk-container-id-1 div.sk-toggleable__content {max-height: 0;max-width: 0;overflow: hidden;text-align: left;background-color: #f0f8ff;}#sk-container-id-1 div.sk-toggleable__content pre {margin: 0.2em;color: black;border-radius: 0.25em;background-color: #f0f8ff;}#sk-container-id-1 input.sk-toggleable__control:checked~div.sk-toggleable__content {max-height: 200px;max-width: 100%;overflow: auto;}#sk-container-id-1 input.sk-toggleable__control:checked~label.sk-toggleable__label-arrow:before {content: \"▾\";}#sk-container-id-1 div.sk-estimator input.sk-toggleable__control:checked~label.sk-toggleable__label {background-color: #d4ebff;}#sk-container-id-1 div.sk-label input.sk-toggleable__control:checked~label.sk-toggleable__label {background-color: #d4ebff;}#sk-container-id-1 input.sk-hidden--visually {border: 0;clip: rect(1px 1px 1px 1px);clip: rect(1px, 1px, 1px, 1px);height: 1px;margin: -1px;overflow: hidden;padding: 0;position: absolute;width: 1px;}#sk-container-id-1 div.sk-estimator {font-family: monospace;background-color: #f0f8ff;border: 1px dotted black;border-radius: 0.25em;box-sizing: border-box;margin-bottom: 0.5em;}#sk-container-id-1 div.sk-estimator:hover {background-color: #d4ebff;}#sk-container-id-1 div.sk-parallel-item::after {content: \"\";width: 100%;border-bottom: 1px solid gray;flex-grow: 1;}#sk-container-id-1 div.sk-label:hover label.sk-toggleable__label {background-color: #d4ebff;}#sk-container-id-1 div.sk-serial::before {content: \"\";position: absolute;border-left: 1px solid gray;box-sizing: border-box;top: 0;bottom: 0;left: 50%;z-index: 0;}#sk-container-id-1 div.sk-serial {display: flex;flex-direction: column;align-items: center;background-color: white;padding-right: 0.2em;padding-left: 0.2em;position: relative;}#sk-container-id-1 div.sk-item {position: relative;z-index: 1;}#sk-container-id-1 div.sk-parallel {display: flex;align-items: stretch;justify-content: center;background-color: white;position: relative;}#sk-container-id-1 div.sk-item::before, #sk-container-id-1 div.sk-parallel-item::before {content: \"\";position: absolute;border-left: 1px solid gray;box-sizing: border-box;top: 0;bottom: 0;left: 50%;z-index: -1;}#sk-container-id-1 div.sk-parallel-item {display: flex;flex-direction: column;z-index: 1;position: relative;background-color: white;}#sk-container-id-1 div.sk-parallel-item:first-child::after {align-self: flex-end;width: 50%;}#sk-container-id-1 div.sk-parallel-item:last-child::after {align-self: flex-start;width: 50%;}#sk-container-id-1 div.sk-parallel-item:only-child::after {width: 0;}#sk-container-id-1 div.sk-dashed-wrapped {border: 1px dashed gray;margin: 0 0.4em 0.5em 0.4em;box-sizing: border-box;padding-bottom: 0.4em;background-color: white;}#sk-container-id-1 div.sk-label label {font-family: monospace;font-weight: bold;display: inline-block;line-height: 1.2em;}#sk-container-id-1 div.sk-label-container {text-align: center;}#sk-container-id-1 div.sk-container {/* jupyter's `normalize.less` sets `[hidden] { display: none; }` but bootstrap.min.css set `[hidden] { display: none !important; }` so we also need the `!important` here to be able to override the default hidden behavior on the sphinx rendered scikit-learn.org. See: https://github.com/scikit-learn/scikit-learn/issues/21755 */display: inline-block !important;position: relative;}#sk-container-id-1 div.sk-text-repr-fallback {display: none;}</style><div id=\"sk-container-id-1\" class=\"sk-top-container\"><div class=\"sk-text-repr-fallback\"><pre>GridSearchCV(cv=5, estimator=RandomForestRegressor(random_state=6), n_jobs=4,\n",
       "             param_grid={&#x27;bootstrap&#x27;: [True, False],\n",
       "                         &#x27;max_depth&#x27;: [None, 10, 20, 30],\n",
       "                         &#x27;max_features&#x27;: [&#x27;auto&#x27;, &#x27;sqrt&#x27;, &#x27;log2&#x27;],\n",
       "                         &#x27;min_samples_leaf&#x27;: [1, 2, 4],\n",
       "                         &#x27;min_samples_split&#x27;: [2, 5, 10],\n",
       "                         &#x27;n_estimators&#x27;: [10, 50, 100, 150]},\n",
       "             verbose=2)</pre><b>In a Jupyter environment, please rerun this cell to show the HTML representation or trust the notebook. <br />On GitHub, the HTML representation is unable to render, please try loading this page with nbviewer.org.</b></div><div class=\"sk-container\" hidden><div class=\"sk-item sk-dashed-wrapped\"><div class=\"sk-label-container\"><div class=\"sk-label sk-toggleable\"><input class=\"sk-toggleable__control sk-hidden--visually\" id=\"sk-estimator-id-1\" type=\"checkbox\" ><label for=\"sk-estimator-id-1\" class=\"sk-toggleable__label sk-toggleable__label-arrow\">GridSearchCV</label><div class=\"sk-toggleable__content\"><pre>GridSearchCV(cv=5, estimator=RandomForestRegressor(random_state=6), n_jobs=4,\n",
       "             param_grid={&#x27;bootstrap&#x27;: [True, False],\n",
       "                         &#x27;max_depth&#x27;: [None, 10, 20, 30],\n",
       "                         &#x27;max_features&#x27;: [&#x27;auto&#x27;, &#x27;sqrt&#x27;, &#x27;log2&#x27;],\n",
       "                         &#x27;min_samples_leaf&#x27;: [1, 2, 4],\n",
       "                         &#x27;min_samples_split&#x27;: [2, 5, 10],\n",
       "                         &#x27;n_estimators&#x27;: [10, 50, 100, 150]},\n",
       "             verbose=2)</pre></div></div></div><div class=\"sk-parallel\"><div class=\"sk-parallel-item\"><div class=\"sk-item\"><div class=\"sk-label-container\"><div class=\"sk-label sk-toggleable\"><input class=\"sk-toggleable__control sk-hidden--visually\" id=\"sk-estimator-id-2\" type=\"checkbox\" ><label for=\"sk-estimator-id-2\" class=\"sk-toggleable__label sk-toggleable__label-arrow\">estimator: RandomForestRegressor</label><div class=\"sk-toggleable__content\"><pre>RandomForestRegressor(random_state=6)</pre></div></div></div><div class=\"sk-serial\"><div class=\"sk-item\"><div class=\"sk-estimator sk-toggleable\"><input class=\"sk-toggleable__control sk-hidden--visually\" id=\"sk-estimator-id-3\" type=\"checkbox\" ><label for=\"sk-estimator-id-3\" class=\"sk-toggleable__label sk-toggleable__label-arrow\">RandomForestRegressor</label><div class=\"sk-toggleable__content\"><pre>RandomForestRegressor(random_state=6)</pre></div></div></div></div></div></div></div></div></div></div>"
      ],
      "text/plain": [
       "GridSearchCV(cv=5, estimator=RandomForestRegressor(random_state=6), n_jobs=4,\n",
       "             param_grid={'bootstrap': [True, False],\n",
       "                         'max_depth': [None, 10, 20, 30],\n",
       "                         'max_features': ['auto', 'sqrt', 'log2'],\n",
       "                         'min_samples_leaf': [1, 2, 4],\n",
       "                         'min_samples_split': [2, 5, 10],\n",
       "                         'n_estimators': [10, 50, 100, 150]},\n",
       "             verbose=2)"
      ]
     },
     "execution_count": 7,
     "metadata": {},
     "output_type": "execute_result"
    }
   ],
   "source": [
    "# GridSearchCV for RandomForestRegressor\n",
    "grid_search_rf = GridSearchCV(estimator=RandomForestRegressor(random_state=6),\n",
    "                              param_grid=param_grid_rf, cv=5, n_jobs=N_CORES, verbose=2)\n",
    "grid_search_rf.fit(X_train, y_train)"
   ]
  },
  {
   "cell_type": "code",
   "execution_count": 8,
   "id": "41d7aaf1",
   "metadata": {},
   "outputs": [],
   "source": [
    "# Selecting the best estimator from each GridSearchCV\n",
    "best_model_rf = grid_search_rf.best_estimator_"
   ]
  },
  {
   "cell_type": "markdown",
   "id": "2d695f48",
   "metadata": {},
   "source": [
    "# Step 1: Predict on Test Set"
   ]
  },
  {
   "cell_type": "code",
   "execution_count": 9,
   "id": "905fcff9",
   "metadata": {},
   "outputs": [],
   "source": [
    "# Predicting the test set results\n",
    "y_pred = best_model_rf.predict(X_test)"
   ]
  },
  {
   "cell_type": "markdown",
   "id": "2e09619f",
   "metadata": {},
   "source": [
    "# Step 2: Calculate Performance Metrics\n",
    "\n",
    "Since this is a regression problem, you can use metrics such as Mean Absolute Error, Mean Squared Error, Root Mean Squared Error, and R-squared"
   ]
  },
  {
   "cell_type": "code",
   "execution_count": 10,
   "id": "696c4dba",
   "metadata": {},
   "outputs": [
    {
     "name": "stdout",
     "output_type": "stream",
     "text": [
      "MSE: 0.2707030046378781\n",
      "RMSE: 0.5202912690386781\n",
      "MAE: 0.29323798747106966\n",
      "R2: 0.8473776658753679\n"
     ]
    }
   ],
   "source": [
    "from sklearn.metrics import mean_squared_error, mean_absolute_error, r2_score\n",
    "\n",
    "# Calculating the metrics\n",
    "mse = mean_squared_error(y_test, y_pred)\n",
    "rmse = np.sqrt(mse)\n",
    "mae = mean_absolute_error(y_test, y_pred)\n",
    "r2 = r2_score(y_test, y_pred)\n",
    "\n",
    "print('MSE:', mse)\n",
    "print('RMSE:', rmse)\n",
    "print('MAE:', mae)\n",
    "print('R2:', r2)\n"
   ]
  },
  {
   "cell_type": "markdown",
   "id": "9b84f7d2",
   "metadata": {},
   "source": [
    "# Step 3: Analyze Residuals\n",
    "\n",
    "Analyzing the residuals (difference between the predicted and actual values) can provide insights into the behavior of your model"
   ]
  },
  {
   "cell_type": "code",
   "execution_count": 11,
   "id": "97388a05",
   "metadata": {},
   "outputs": [
    {
     "data": {
      "image/png": "[encoded data removed]",
      "text/plain": [
       "<Figure size 432x288 with 1 Axes>"
      ]
     },
     "metadata": {
      "needs_background": "light"
     },
     "output_type": "display_data"
    }
   ],
   "source": [
    "import matplotlib.pyplot as plt\n",
    "\n",
    "# Calculate residuals\n",
    "residuals = y_test - y_pred\n",
    "\n",
    "# Plot residuals\n",
    "plt.scatter(y_pred, residuals, alpha=0.5)\n",
    "plt.xlabel('Predicted Values')\n",
    "plt.ylabel('Residuals')\n",
    "plt.title('Residuals vs. Predicted Values')\n",
    "plt.axhline(y=0, color='r', linestyle='-')\n",
    "plt.show()"
   ]
  },
  {
   "cell_type": "markdown",
   "id": "063d46cf",
   "metadata": {},
   "source": [
    "# Step 4: Compare with Baseline \n",
    "\n",
    "It can be helpful to compare your model's performance against a simple baseline model, such as predicting the mean of the target variable for all instances. This gives you a reference point for how much your model has learned."
   ]
  },
  {
   "cell_type": "code",
   "execution_count": 12,
   "id": "312a4054",
   "metadata": {},
   "outputs": [
    {
     "name": "stdout",
     "output_type": "stream",
     "text": [
      "Baseline Mean Squared Error: 1.795130876257679\n",
      "Model Mean Squared Error: 0.2707030046378781\n"
     ]
    }
   ],
   "source": [
    "# Baseline predictions (mean of target variable)\n",
    "baseline_preds = np.full_like(y_test, np.mean(y_train))\n",
    "\n",
    "# Baseline Mean Squared Error\n",
    "baseline_mse = mean_squared_error(y_test, baseline_preds)\n",
    "\n",
    "print(f\"Baseline Mean Squared Error: {baseline_mse}\")\n",
    "print(f\"Model Mean Squared Error: {mse}\")"
   ]
  },
  {
   "cell_type": "code",
   "execution_count": 13,
   "id": "6649fec1",
   "metadata": {},
   "outputs": [
    {
     "name": "stdout",
     "output_type": "stream",
     "text": [
      "Best RandomForestRegressor: {'bootstrap': False, 'max_depth': None, 'max_features': 'log2', 'min_samples_leaf': 1, 'min_samples_split': 2, 'n_estimators': 150}\n"
     ]
    }
   ],
   "source": [
    "print(f\"Best RandomForestRegressor: {grid_search_rf.best_params_}\")"
   ]
  },
  {
   "cell_type": "markdown",
   "id": "7f252a28",
   "metadata": {},
   "source": [
    "# Using the best model to Maybridge Data"
   ]
  },
  {
   "cell_type": "markdown",
   "id": "75c3c84d",
   "metadata": {},
   "source": [
    "# Step 1: Prepare the data(Load and Preprocess)"
   ]
  },
  {
   "cell_type": "code",
   "execution_count": 14,
   "id": "902efbfc",
   "metadata": {},
   "outputs": [
    {
     "data": {
      "text/html": [
       "<div>\n",
       "<style scoped>\n",
       "    .dataframe tbody tr th:only-of-type {\n",
       "        vertical-align: middle;\n",
       "    }\n",
       "\n",
       "    .dataframe tbody tr th {\n",
       "        vertical-align: top;\n",
       "    }\n",
       "\n",
       "    .dataframe thead th {\n",
       "        text-align: right;\n",
       "    }\n",
       "</style>\n",
       "<table border=\"1\" class=\"dataframe\">\n",
       "  <thead>\n",
       "    <tr style=\"text-align: right;\">\n",
       "      <th></th>\n",
       "      <th>SMILES</th>\n",
       "      <th>Code</th>\n",
       "    </tr>\n",
       "  </thead>\n",
       "  <tbody>\n",
       "    <tr>\n",
       "      <th>0</th>\n",
       "      <td>Fc1ccc(C(c2ccc(F)cc2)N2CCNCC2)cc1</td>\n",
       "      <td>AC10018</td>\n",
       "    </tr>\n",
       "    <tr>\n",
       "      <th>1</th>\n",
       "      <td>CSc1nc(N)nc2nc[nH]c12</td>\n",
       "      <td>AC12157</td>\n",
       "    </tr>\n",
       "    <tr>\n",
       "      <th>2</th>\n",
       "      <td>CN(C)Cc1c[nH]c2ccc(OCc3ccccc3)cc12</td>\n",
       "      <td>AC13917</td>\n",
       "    </tr>\n",
       "    <tr>\n",
       "      <th>3</th>\n",
       "      <td>O=C(O)c1ccc(Br)o1</td>\n",
       "      <td>AC27191</td>\n",
       "    </tr>\n",
       "    <tr>\n",
       "      <th>4</th>\n",
       "      <td>NC(Cc1c[nH]c2ccc(Br)cc12)C(=O)O</td>\n",
       "      <td>AC29806</td>\n",
       "    </tr>\n",
       "    <tr>\n",
       "      <th>...</th>\n",
       "      <td>...</td>\n",
       "      <td>...</td>\n",
       "    </tr>\n",
       "    <tr>\n",
       "      <th>51768</th>\n",
       "      <td>CCO/C(C)=N/Oc1ccc([N+](=O)[O-])cc1[N+](=O)[O-]</td>\n",
       "      <td>S14814</td>\n",
       "    </tr>\n",
       "    <tr>\n",
       "      <th>51769</th>\n",
       "      <td>O=C1c2ccccc2C(=O)N1Oc1ccc([N+](=O)[O-])c([N+](...</td>\n",
       "      <td>S14839</td>\n",
       "    </tr>\n",
       "    <tr>\n",
       "      <th>51770</th>\n",
       "      <td>O=[N+]([O-])c1ccc2nc(-c3ccccc3)c(-c3ccccc3)nc2c1</td>\n",
       "      <td>S14896</td>\n",
       "    </tr>\n",
       "    <tr>\n",
       "      <th>51771</th>\n",
       "      <td>CCOC(=O)C1=C(C)NC(C)=C(C(=O)OCC)C1/C=C/c1ccccc1</td>\n",
       "      <td>SPB05721</td>\n",
       "    </tr>\n",
       "    <tr>\n",
       "      <th>51772</th>\n",
       "      <td>CCOC(=O)C1=C(C)NC(C)=C(C(=O)OCC)C1c1cccc([N+](...</td>\n",
       "      <td>S14916</td>\n",
       "    </tr>\n",
       "  </tbody>\n",
       "</table>\n",
       "<p>51773 rows × 2 columns</p>\n",
       "</div>"
      ],
      "text/plain": [
       "                                                  SMILES      Code\n",
       "0                      Fc1ccc(C(c2ccc(F)cc2)N2CCNCC2)cc1   AC10018\n",
       "1                                  CSc1nc(N)nc2nc[nH]c12   AC12157\n",
       "2                     CN(C)Cc1c[nH]c2ccc(OCc3ccccc3)cc12   AC13917\n",
       "3                                      O=C(O)c1ccc(Br)o1   AC27191\n",
       "4                        NC(Cc1c[nH]c2ccc(Br)cc12)C(=O)O   AC29806\n",
       "...                                                  ...       ...\n",
       "51768     CCO/C(C)=N/Oc1ccc([N+](=O)[O-])cc1[N+](=O)[O-]    S14814\n",
       "51769  O=C1c2ccccc2C(=O)N1Oc1ccc([N+](=O)[O-])c([N+](...    S14839\n",
       "51770   O=[N+]([O-])c1ccc2nc(-c3ccccc3)c(-c3ccccc3)nc2c1    S14896\n",
       "51771    CCOC(=O)C1=C(C)NC(C)=C(C(=O)OCC)C1/C=C/c1ccccc1  SPB05721\n",
       "51772  CCOC(=O)C1=C(C)NC(C)=C(C(=O)OCC)C1c1cccc([N+](...    S14916\n",
       "\n",
       "[51773 rows x 2 columns]"
      ]
     },
     "execution_count": 14,
     "metadata": {},
     "output_type": "execute_result"
    }
   ],
   "source": [
    "maybridge_data = pd.read_csv(\"maybridge/Maybridge.csv\")\n",
    "maybridge_data"
   ]
  },
  {
   "cell_type": "code",
   "execution_count": 15,
   "id": "1b3a5fd4",
   "metadata": {},
   "outputs": [
    {
     "data": {
      "text/plain": [
       "(51773, 881)"
      ]
     },
     "execution_count": 15,
     "metadata": {},
     "output_type": "execute_result"
    }
   ],
   "source": [
    "descriptors = pd.read_csv('maybridge/out.csv', index_col = 0)\n",
    "descriptors.shape"
   ]
  },
  {
   "cell_type": "code",
   "execution_count": 16,
   "id": "a113adbe",
   "metadata": {},
   "outputs": [
    {
     "data": {
      "text/plain": [
       "(51773, 155)"
      ]
     },
     "execution_count": 16,
     "metadata": {},
     "output_type": "execute_result"
    }
   ],
   "source": [
    "descriptors = selection.transform(descriptors)\n",
    "descriptors.shape"
   ]
  },
  {
   "cell_type": "code",
   "execution_count": 17,
   "id": "89df133e",
   "metadata": {},
   "outputs": [],
   "source": [
    "# Apply the imputer to fill NaN values with the mean of each column\n",
    "from sklearn.impute import SimpleImputer\n",
    "\n",
    "imputer = SimpleImputer(strategy='mean')\n",
    "descriptors_imputed = imputer.fit_transform(descriptors)"
   ]
  },
  {
   "cell_type": "code",
   "execution_count": 18,
   "id": "982f9f6d",
   "metadata": {},
   "outputs": [],
   "source": [
    "# Step 3: Make Predictions\n",
    "predicted_pic50 = best_model_rf.predict(descriptors_imputed)"
   ]
  },
  {
   "cell_type": "code",
   "execution_count": 19,
   "id": "2c35b58e",
   "metadata": {},
   "outputs": [],
   "source": [
    "# Step 4: Analyze Results\n",
    "# Append predictions to the Maybridge data\n",
    "maybridge_data[\"predicted_pic50\"] = predicted_pic50"
   ]
  },
  {
   "cell_type": "code",
   "execution_count": 20,
   "id": "daa65b4f",
   "metadata": {},
   "outputs": [
    {
     "data": {
      "text/html": [
       "<div>\n",
       "<style scoped>\n",
       "    .dataframe tbody tr th:only-of-type {\n",
       "        vertical-align: middle;\n",
       "    }\n",
       "\n",
       "    .dataframe tbody tr th {\n",
       "        vertical-align: top;\n",
       "    }\n",
       "\n",
       "    .dataframe thead th {\n",
       "        text-align: right;\n",
       "    }\n",
       "</style>\n",
       "<table border=\"1\" class=\"dataframe\">\n",
       "  <thead>\n",
       "    <tr style=\"text-align: right;\">\n",
       "      <th></th>\n",
       "      <th>SMILES</th>\n",
       "      <th>Code</th>\n",
       "      <th>predicted_pic50</th>\n",
       "    </tr>\n",
       "  </thead>\n",
       "  <tbody>\n",
       "    <tr>\n",
       "      <th>0</th>\n",
       "      <td>Fc1ccc(C(c2ccc(F)cc2)N2CCNCC2)cc1</td>\n",
       "      <td>AC10018</td>\n",
       "      <td>4.834852</td>\n",
       "    </tr>\n",
       "    <tr>\n",
       "      <th>1</th>\n",
       "      <td>CSc1nc(N)nc2nc[nH]c12</td>\n",
       "      <td>AC12157</td>\n",
       "      <td>4.959784</td>\n",
       "    </tr>\n",
       "    <tr>\n",
       "      <th>2</th>\n",
       "      <td>CN(C)Cc1c[nH]c2ccc(OCc3ccccc3)cc12</td>\n",
       "      <td>AC13917</td>\n",
       "      <td>5.207262</td>\n",
       "    </tr>\n",
       "    <tr>\n",
       "      <th>3</th>\n",
       "      <td>O=C(O)c1ccc(Br)o1</td>\n",
       "      <td>AC27191</td>\n",
       "      <td>5.229640</td>\n",
       "    </tr>\n",
       "    <tr>\n",
       "      <th>4</th>\n",
       "      <td>NC(Cc1c[nH]c2ccc(Br)cc12)C(=O)O</td>\n",
       "      <td>AC29806</td>\n",
       "      <td>5.591006</td>\n",
       "    </tr>\n",
       "    <tr>\n",
       "      <th>...</th>\n",
       "      <td>...</td>\n",
       "      <td>...</td>\n",
       "      <td>...</td>\n",
       "    </tr>\n",
       "    <tr>\n",
       "      <th>51768</th>\n",
       "      <td>CCO/C(C)=N/Oc1ccc([N+](=O)[O-])cc1[N+](=O)[O-]</td>\n",
       "      <td>S14814</td>\n",
       "      <td>4.981552</td>\n",
       "    </tr>\n",
       "    <tr>\n",
       "      <th>51769</th>\n",
       "      <td>O=C1c2ccccc2C(=O)N1Oc1ccc([N+](=O)[O-])c([N+](...</td>\n",
       "      <td>S14839</td>\n",
       "      <td>5.564792</td>\n",
       "    </tr>\n",
       "    <tr>\n",
       "      <th>51770</th>\n",
       "      <td>O=[N+]([O-])c1ccc2nc(-c3ccccc3)c(-c3ccccc3)nc2c1</td>\n",
       "      <td>S14896</td>\n",
       "      <td>5.340615</td>\n",
       "    </tr>\n",
       "    <tr>\n",
       "      <th>51771</th>\n",
       "      <td>CCOC(=O)C1=C(C)NC(C)=C(C(=O)OCC)C1/C=C/c1ccccc1</td>\n",
       "      <td>SPB05721</td>\n",
       "      <td>4.989507</td>\n",
       "    </tr>\n",
       "    <tr>\n",
       "      <th>51772</th>\n",
       "      <td>CCOC(=O)C1=C(C)NC(C)=C(C(=O)OCC)C1c1cccc([N+](...</td>\n",
       "      <td>S14916</td>\n",
       "      <td>5.347861</td>\n",
       "    </tr>\n",
       "  </tbody>\n",
       "</table>\n",
       "<p>51773 rows × 3 columns</p>\n",
       "</div>"
      ],
      "text/plain": [
       "                                                  SMILES      Code  \\\n",
       "0                      Fc1ccc(C(c2ccc(F)cc2)N2CCNCC2)cc1   AC10018   \n",
       "1                                  CSc1nc(N)nc2nc[nH]c12   AC12157   \n",
       "2                     CN(C)Cc1c[nH]c2ccc(OCc3ccccc3)cc12   AC13917   \n",
       "3                                      O=C(O)c1ccc(Br)o1   AC27191   \n",
       "4                        NC(Cc1c[nH]c2ccc(Br)cc12)C(=O)O   AC29806   \n",
       "...                                                  ...       ...   \n",
       "51768     CCO/C(C)=N/Oc1ccc([N+](=O)[O-])cc1[N+](=O)[O-]    S14814   \n",
       "51769  O=C1c2ccccc2C(=O)N1Oc1ccc([N+](=O)[O-])c([N+](...    S14839   \n",
       "51770   O=[N+]([O-])c1ccc2nc(-c3ccccc3)c(-c3ccccc3)nc2c1    S14896   \n",
       "51771    CCOC(=O)C1=C(C)NC(C)=C(C(=O)OCC)C1/C=C/c1ccccc1  SPB05721   \n",
       "51772  CCOC(=O)C1=C(C)NC(C)=C(C(=O)OCC)C1c1cccc([N+](...    S14916   \n",
       "\n",
       "       predicted_pic50  \n",
       "0             4.834852  \n",
       "1             4.959784  \n",
       "2             5.207262  \n",
       "3             5.229640  \n",
       "4             5.591006  \n",
       "...                ...  \n",
       "51768         4.981552  \n",
       "51769         5.564792  \n",
       "51770         5.340615  \n",
       "51771         4.989507  \n",
       "51772         5.347861  \n",
       "\n",
       "[51773 rows x 3 columns]"
      ]
     },
     "execution_count": 20,
     "metadata": {},
     "output_type": "execute_result"
    }
   ],
   "source": [
    "maybridge_data"
   ]
  },
  {
   "cell_type": "code",
   "execution_count": 21,
   "id": "ba993b00",
   "metadata": {},
   "outputs": [],
   "source": [
    "# Identify potent inhibitors\n",
    "threshold = 6 # Define a threshold for pic50 values \n",
    "potent_inhibitors = maybridge_data[maybridge_data[\"predicted_pic50\"] >= threshold]"
   ]
  },
  {
   "cell_type": "code",
   "execution_count": 22,
   "id": "fdcb43d7",
   "metadata": {},
   "outputs": [
    {
     "data": {
      "text/html": [
       "<div>\n",
       "<style scoped>\n",
       "    .dataframe tbody tr th:only-of-type {\n",
       "        vertical-align: middle;\n",
       "    }\n",
       "\n",
       "    .dataframe tbody tr th {\n",
       "        vertical-align: top;\n",
       "    }\n",
       "\n",
       "    .dataframe thead th {\n",
       "        text-align: right;\n",
       "    }\n",
       "</style>\n",
       "<table border=\"1\" class=\"dataframe\">\n",
       "  <thead>\n",
       "    <tr style=\"text-align: right;\">\n",
       "      <th></th>\n",
       "      <th>SMILES</th>\n",
       "      <th>Code</th>\n",
       "      <th>predicted_pic50</th>\n",
       "    </tr>\n",
       "  </thead>\n",
       "  <tbody>\n",
       "    <tr>\n",
       "      <th>66</th>\n",
       "      <td>O=C(Nc1ccc(-n2nccc2C(F)(F)F)cc1)c1ccc(Cl)cc1</td>\n",
       "      <td>AW00193</td>\n",
       "      <td>6.120754</td>\n",
       "    </tr>\n",
       "    <tr>\n",
       "      <th>108</th>\n",
       "      <td>O=S(=O)(Nc1ccc(Oc2ccc(OC(F)(F)F)cc2)cc1)c1cc(C...</td>\n",
       "      <td>EN00044</td>\n",
       "      <td>6.225986</td>\n",
       "    </tr>\n",
       "    <tr>\n",
       "      <th>109</th>\n",
       "      <td>O=S(=O)(Nc1ccc(Oc2ccc(OC(F)(F)F)cc2)cc1)c1cccc...</td>\n",
       "      <td>EN00072</td>\n",
       "      <td>6.225986</td>\n",
       "    </tr>\n",
       "    <tr>\n",
       "      <th>110</th>\n",
       "      <td>CC(=O)Nc1ccc(S(=O)(=O)Nc2ccc(Oc3ccc(OC(F)(F)F)...</td>\n",
       "      <td>EN00095</td>\n",
       "      <td>6.194450</td>\n",
       "    </tr>\n",
       "    <tr>\n",
       "      <th>250</th>\n",
       "      <td>CC(=O)Nc1ccc(S(=O)(=O)Nc2ccc(Oc3ccc(OC(F)(F)F)...</td>\n",
       "      <td>AW00256</td>\n",
       "      <td>6.194450</td>\n",
       "    </tr>\n",
       "    <tr>\n",
       "      <th>...</th>\n",
       "      <td>...</td>\n",
       "      <td>...</td>\n",
       "      <td>...</td>\n",
       "    </tr>\n",
       "    <tr>\n",
       "      <th>51297</th>\n",
       "      <td>O=C(Nc1ccccc1Cl)c1c(F)cccc1F</td>\n",
       "      <td>S13741</td>\n",
       "      <td>6.088188</td>\n",
       "    </tr>\n",
       "    <tr>\n",
       "      <th>51299</th>\n",
       "      <td>O=C(Nc1cccc(Cl)c1)c1ccccc1</td>\n",
       "      <td>S13836</td>\n",
       "      <td>6.088188</td>\n",
       "    </tr>\n",
       "    <tr>\n",
       "      <th>51302</th>\n",
       "      <td>COc1ccc(NC(=O)c2c(-c3c(Cl)cccc3Cl)noc2C)cn1</td>\n",
       "      <td>S13944</td>\n",
       "      <td>6.188176</td>\n",
       "    </tr>\n",
       "    <tr>\n",
       "      <th>51468</th>\n",
       "      <td>CS(=O)(=O)c1ccc(C(=O)Nc2ccccc2Cl)cc1</td>\n",
       "      <td>S14384</td>\n",
       "      <td>6.195056</td>\n",
       "    </tr>\n",
       "    <tr>\n",
       "      <th>51469</th>\n",
       "      <td>CS(=O)(=O)c1ccc(C(=O)Nc2cccc(Cl)c2)cc1</td>\n",
       "      <td>S14416</td>\n",
       "      <td>6.195056</td>\n",
       "    </tr>\n",
       "  </tbody>\n",
       "</table>\n",
       "<p>1287 rows × 3 columns</p>\n",
       "</div>"
      ],
      "text/plain": [
       "                                                  SMILES     Code  \\\n",
       "66          O=C(Nc1ccc(-n2nccc2C(F)(F)F)cc1)c1ccc(Cl)cc1  AW00193   \n",
       "108    O=S(=O)(Nc1ccc(Oc2ccc(OC(F)(F)F)cc2)cc1)c1cc(C...  EN00044   \n",
       "109    O=S(=O)(Nc1ccc(Oc2ccc(OC(F)(F)F)cc2)cc1)c1cccc...  EN00072   \n",
       "110    CC(=O)Nc1ccc(S(=O)(=O)Nc2ccc(Oc3ccc(OC(F)(F)F)...  EN00095   \n",
       "250    CC(=O)Nc1ccc(S(=O)(=O)Nc2ccc(Oc3ccc(OC(F)(F)F)...  AW00256   \n",
       "...                                                  ...      ...   \n",
       "51297                       O=C(Nc1ccccc1Cl)c1c(F)cccc1F   S13741   \n",
       "51299                         O=C(Nc1cccc(Cl)c1)c1ccccc1   S13836   \n",
       "51302        COc1ccc(NC(=O)c2c(-c3c(Cl)cccc3Cl)noc2C)cn1   S13944   \n",
       "51468               CS(=O)(=O)c1ccc(C(=O)Nc2ccccc2Cl)cc1   S14384   \n",
       "51469             CS(=O)(=O)c1ccc(C(=O)Nc2cccc(Cl)c2)cc1   S14416   \n",
       "\n",
       "       predicted_pic50  \n",
       "66            6.120754  \n",
       "108           6.225986  \n",
       "109           6.225986  \n",
       "110           6.194450  \n",
       "250           6.194450  \n",
       "...                ...  \n",
       "51297         6.088188  \n",
       "51299         6.088188  \n",
       "51302         6.188176  \n",
       "51468         6.195056  \n",
       "51469         6.195056  \n",
       "\n",
       "[1287 rows x 3 columns]"
      ]
     },
     "execution_count": 22,
     "metadata": {},
     "output_type": "execute_result"
    }
   ],
   "source": [
    "potent_inhibitors"
   ]
  },
  {
   "cell_type": "code",
   "execution_count": 23,
   "id": "add9304b",
   "metadata": {},
   "outputs": [],
   "source": [
    "# Sort the potent_inhibitors DataFrame based on \"predicted_pic50\" in descending order\n",
    "sorted_potent_inhibitors = potent_inhibitors.sort_values(by=\"predicted_pic50\", ascending=False)"
   ]
  },
  {
   "cell_type": "code",
   "execution_count": 24,
   "id": "c926cc60",
   "metadata": {
    "scrolled": false
   },
   "outputs": [
    {
     "data": {
      "text/html": [
       "<div>\n",
       "<style scoped>\n",
       "    .dataframe tbody tr th:only-of-type {\n",
       "        vertical-align: middle;\n",
       "    }\n",
       "\n",
       "    .dataframe tbody tr th {\n",
       "        vertical-align: top;\n",
       "    }\n",
       "\n",
       "    .dataframe thead th {\n",
       "        text-align: right;\n",
       "    }\n",
       "</style>\n",
       "<table border=\"1\" class=\"dataframe\">\n",
       "  <thead>\n",
       "    <tr style=\"text-align: right;\">\n",
       "      <th></th>\n",
       "      <th>SMILES</th>\n",
       "      <th>Code</th>\n",
       "      <th>predicted_pic50</th>\n",
       "    </tr>\n",
       "  </thead>\n",
       "  <tbody>\n",
       "    <tr>\n",
       "      <th>31216</th>\n",
       "      <td>O=C(COc1ccc(S(=O)(=O)Nc2ccccc2)cc1Cl)c1ccccc1</td>\n",
       "      <td>NH00210</td>\n",
       "      <td>7.621772</td>\n",
       "    </tr>\n",
       "    <tr>\n",
       "      <th>12559</th>\n",
       "      <td>COc1ccc(-c2cc(NS(=O)(=O)c3ccc(Cl)cc3)c(C(N)=O)...</td>\n",
       "      <td>HTS02234</td>\n",
       "      <td>6.943442</td>\n",
       "    </tr>\n",
       "    <tr>\n",
       "      <th>34084</th>\n",
       "      <td>CCOC(=O)c1cc(Cl)ccc1OS(=O)(=O)c1ccc(NC(C)=O)cc1</td>\n",
       "      <td>RF02757</td>\n",
       "      <td>6.874891</td>\n",
       "    </tr>\n",
       "    <tr>\n",
       "      <th>33798</th>\n",
       "      <td>Nc1cc(NC(=O)c2ccccc2O)ccc1Cl</td>\n",
       "      <td>XBX00319</td>\n",
       "      <td>6.866345</td>\n",
       "    </tr>\n",
       "    <tr>\n",
       "      <th>15687</th>\n",
       "      <td>Cc1c(S(=O)(=O)c2ccc(Cl)cc2)csc1C(=O)Nc1ccc2c(c...</td>\n",
       "      <td>KM04234</td>\n",
       "      <td>6.859676</td>\n",
       "    </tr>\n",
       "    <tr>\n",
       "      <th>...</th>\n",
       "      <td>...</td>\n",
       "      <td>...</td>\n",
       "      <td>...</td>\n",
       "    </tr>\n",
       "    <tr>\n",
       "      <th>17704</th>\n",
       "      <td>CCc1ccc(C(=O)NNc2cc(Cl)cc(Cl)c2)cc1</td>\n",
       "      <td>SPB03560</td>\n",
       "      <td>6.000778</td>\n",
       "    </tr>\n",
       "    <tr>\n",
       "      <th>8760</th>\n",
       "      <td>O=C(Nc1ccc(N2CCOCC2)nc1)c1ccccc1Cl</td>\n",
       "      <td>SPB00088</td>\n",
       "      <td>6.000663</td>\n",
       "    </tr>\n",
       "    <tr>\n",
       "      <th>45778</th>\n",
       "      <td>CC(C)(C)c1ccc(C(=O)Nc2ccc(Cl)cc2)s1</td>\n",
       "      <td>SEW04865</td>\n",
       "      <td>6.000647</td>\n",
       "    </tr>\n",
       "    <tr>\n",
       "      <th>40679</th>\n",
       "      <td>O=C1c2c(Cl)c(Cl)c(Cl)c(Cl)c2C(=O)N1Nc1cccc(C(F...</td>\n",
       "      <td>RH00963</td>\n",
       "      <td>6.000289</td>\n",
       "    </tr>\n",
       "    <tr>\n",
       "      <th>19646</th>\n",
       "      <td>O=C(NCCSCc1c(F)cccc1Cl)c1ccc2nccnc2c1</td>\n",
       "      <td>CD11348</td>\n",
       "      <td>6.000038</td>\n",
       "    </tr>\n",
       "  </tbody>\n",
       "</table>\n",
       "<p>1287 rows × 3 columns</p>\n",
       "</div>"
      ],
      "text/plain": [
       "                                                  SMILES      Code  \\\n",
       "31216      O=C(COc1ccc(S(=O)(=O)Nc2ccccc2)cc1Cl)c1ccccc1   NH00210   \n",
       "12559  COc1ccc(-c2cc(NS(=O)(=O)c3ccc(Cl)cc3)c(C(N)=O)...  HTS02234   \n",
       "34084    CCOC(=O)c1cc(Cl)ccc1OS(=O)(=O)c1ccc(NC(C)=O)cc1   RF02757   \n",
       "33798                       Nc1cc(NC(=O)c2ccccc2O)ccc1Cl  XBX00319   \n",
       "15687  Cc1c(S(=O)(=O)c2ccc(Cl)cc2)csc1C(=O)Nc1ccc2c(c...   KM04234   \n",
       "...                                                  ...       ...   \n",
       "17704                CCc1ccc(C(=O)NNc2cc(Cl)cc(Cl)c2)cc1  SPB03560   \n",
       "8760                  O=C(Nc1ccc(N2CCOCC2)nc1)c1ccccc1Cl  SPB00088   \n",
       "45778                CC(C)(C)c1ccc(C(=O)Nc2ccc(Cl)cc2)s1  SEW04865   \n",
       "40679  O=C1c2c(Cl)c(Cl)c(Cl)c(Cl)c2C(=O)N1Nc1cccc(C(F...   RH00963   \n",
       "19646              O=C(NCCSCc1c(F)cccc1Cl)c1ccc2nccnc2c1   CD11348   \n",
       "\n",
       "       predicted_pic50  \n",
       "31216         7.621772  \n",
       "12559         6.943442  \n",
       "34084         6.874891  \n",
       "33798         6.866345  \n",
       "15687         6.859676  \n",
       "...                ...  \n",
       "17704         6.000778  \n",
       "8760          6.000663  \n",
       "45778         6.000647  \n",
       "40679         6.000289  \n",
       "19646         6.000038  \n",
       "\n",
       "[1287 rows x 3 columns]"
      ]
     },
     "execution_count": 24,
     "metadata": {},
     "output_type": "execute_result"
    }
   ],
   "source": [
    "sorted_potent_inhibitors"
   ]
  },
  {
   "cell_type": "code",
   "execution_count": 25,
   "id": "8b4248fb",
   "metadata": {},
   "outputs": [
    {
     "data": {
      "text/plain": [
       "count    1287.000000\n",
       "mean        6.182519\n",
       "std         0.178106\n",
       "min         6.000038\n",
       "25%         6.058373\n",
       "50%         6.120284\n",
       "75%         6.251160\n",
       "max         7.621772\n",
       "Name: predicted_pic50, dtype: float64"
      ]
     },
     "execution_count": 25,
     "metadata": {},
     "output_type": "execute_result"
    }
   ],
   "source": [
    "sorted_potent_inhibitors.predicted_pic50.describe()"
   ]
  },
  {
   "cell_type": "code",
   "execution_count": 26,
   "id": "836626b8",
   "metadata": {},
   "outputs": [
    {
     "data": {
      "image/png": "[encoded data removed]",
      "text/plain": [
       "<Figure size 432x288 with 1 Axes>"
      ]
     },
     "metadata": {
      "needs_background": "light"
     },
     "output_type": "display_data"
    }
   ],
   "source": [
    "import matplotlib.pyplot as plt\n",
    "import seaborn as sns\n",
    "\n",
    "sns.histplot(data=potent_inhibitors, x='predicted_pic50', kde=False, bins=100)\n",
    "\n",
    "# Set the title and labels for the plot\n",
    "plt.title('Frequency Distribution Plot of Potent Predicted pIC50 with RF')\n",
    "plt.xlabel('pIC50')\n",
    "plt.ylabel('Frequency')\n",
    "\n",
    "\n",
    "plt.savefig('figures/potent_predicted_rf.png')\n",
    "# Show the plot\n",
    "plt.show()"
   ]
  },
  {
   "cell_type": "code",
   "execution_count": 27,
   "id": "754ac939",
   "metadata": {},
   "outputs": [],
   "source": [
    "# Save the potent inhibitors to a CSV file\n",
    "potent_inhibitors.to_csv(\"maybridge/rf_potent_p2x4_inhibitors.csv\", index=False)"
   ]
  },
  {
   "cell_type": "code",
   "execution_count": 28,
   "id": "b8aa8cbd",
   "metadata": {},
   "outputs": [
    {
     "data": {
      "text/html": [
       "<div>\n",
       "<style scoped>\n",
       "    .dataframe tbody tr th:only-of-type {\n",
       "        vertical-align: middle;\n",
       "    }\n",
       "\n",
       "    .dataframe tbody tr th {\n",
       "        vertical-align: top;\n",
       "    }\n",
       "\n",
       "    .dataframe thead th {\n",
       "        text-align: right;\n",
       "    }\n",
       "</style>\n",
       "<table border=\"1\" class=\"dataframe\">\n",
       "  <thead>\n",
       "    <tr style=\"text-align: right;\">\n",
       "      <th></th>\n",
       "      <th>smiles</th>\n",
       "    </tr>\n",
       "  </thead>\n",
       "  <tbody>\n",
       "    <tr>\n",
       "      <th>0</th>\n",
       "      <td>O=C(Nc1ccccc1Cl)c1ccc(-c2ccccn2)s1</td>\n",
       "    </tr>\n",
       "    <tr>\n",
       "      <th>1</th>\n",
       "      <td>O=C(Nc1ccccc1Sc1nc2ccc(Cl)cc2s1)c1ccc(F)cc1</td>\n",
       "    </tr>\n",
       "    <tr>\n",
       "      <th>2</th>\n",
       "      <td>COC(=O)c1cccc(NC(=O)c2ccc(Cl)cc2)c1</td>\n",
       "    </tr>\n",
       "    <tr>\n",
       "      <th>3</th>\n",
       "      <td>N#Cc1ccc(-c2c(NC(=O)NS(=O)(=O)c3ccccc3Cl)oc(-c...</td>\n",
       "    </tr>\n",
       "    <tr>\n",
       "      <th>4</th>\n",
       "      <td>Cc1onc(-c2ccccc2)c1C(=O)Nc1ccc(C(F)(F)F)cc1Cl</td>\n",
       "    </tr>\n",
       "    <tr>\n",
       "      <th>...</th>\n",
       "      <td>...</td>\n",
       "    </tr>\n",
       "    <tr>\n",
       "      <th>383</th>\n",
       "      <td>Cc1cc(NS(=O)(=O)c2ccc(NC(=O)c3ccccc3Cl)cc2)no1</td>\n",
       "    </tr>\n",
       "    <tr>\n",
       "      <th>384</th>\n",
       "      <td>O=C(Nc1cccc(-c2nc3ccccc3[nH]2)c1)c1ccc(F)cc1</td>\n",
       "    </tr>\n",
       "    <tr>\n",
       "      <th>385</th>\n",
       "      <td>O=C(Nc1ccc(NC(=S)Nc2ccc(Cl)cc2)cc1)c1ccccc1O</td>\n",
       "    </tr>\n",
       "    <tr>\n",
       "      <th>386</th>\n",
       "      <td>Cc1c(CC(=O)Nc2ccc(Cl)cc2)sc2ccc(Cl)cc12</td>\n",
       "    </tr>\n",
       "    <tr>\n",
       "      <th>387</th>\n",
       "      <td>Cc1ccc(C(=O)Nc2cccc(-c3nc4ccccc4[nH]3)c2)cc1</td>\n",
       "    </tr>\n",
       "  </tbody>\n",
       "</table>\n",
       "<p>388 rows × 1 columns</p>\n",
       "</div>"
      ],
      "text/plain": [
       "                                                smiles\n",
       "0                   O=C(Nc1ccccc1Cl)c1ccc(-c2ccccn2)s1\n",
       "1          O=C(Nc1ccccc1Sc1nc2ccc(Cl)cc2s1)c1ccc(F)cc1\n",
       "2                  COC(=O)c1cccc(NC(=O)c2ccc(Cl)cc2)c1\n",
       "3    N#Cc1ccc(-c2c(NC(=O)NS(=O)(=O)c3ccccc3Cl)oc(-c...\n",
       "4        Cc1onc(-c2ccccc2)c1C(=O)Nc1ccc(C(F)(F)F)cc1Cl\n",
       "..                                                 ...\n",
       "383     Cc1cc(NS(=O)(=O)c2ccc(NC(=O)c3ccccc3Cl)cc2)no1\n",
       "384       O=C(Nc1cccc(-c2nc3ccccc3[nH]2)c1)c1ccc(F)cc1\n",
       "385       O=C(Nc1ccc(NC(=S)Nc2ccc(Cl)cc2)cc1)c1ccccc1O\n",
       "386            Cc1c(CC(=O)Nc2ccc(Cl)cc2)sc2ccc(Cl)cc12\n",
       "387       Cc1ccc(C(=O)Nc2cccc(-c3nc4ccccc4[nH]3)c2)cc1\n",
       "\n",
       "[388 rows x 1 columns]"
      ]
     },
     "execution_count": 28,
     "metadata": {},
     "output_type": "execute_result"
    }
   ],
   "source": [
    "# 1. Load the common potent inhibitors\n",
    "common_df = pd.read_csv(\"maybridge/common_potent_inhibitors.csv\")\n",
    "common_df"
   ]
  },
  {
   "cell_type": "code",
   "execution_count": 29,
   "id": "22ced2db",
   "metadata": {
    "scrolled": false
   },
   "outputs": [
    {
     "data": {
      "text/html": [
       "<div>\n",
       "<style scoped>\n",
       "    .dataframe tbody tr th:only-of-type {\n",
       "        vertical-align: middle;\n",
       "    }\n",
       "\n",
       "    .dataframe tbody tr th {\n",
       "        vertical-align: top;\n",
       "    }\n",
       "\n",
       "    .dataframe thead th {\n",
       "        text-align: right;\n",
       "    }\n",
       "</style>\n",
       "<table border=\"1\" class=\"dataframe\">\n",
       "  <thead>\n",
       "    <tr style=\"text-align: right;\">\n",
       "      <th></th>\n",
       "      <th>SMILES</th>\n",
       "      <th>Code</th>\n",
       "      <th>predicted_pic50</th>\n",
       "    </tr>\n",
       "  </thead>\n",
       "  <tbody>\n",
       "    <tr>\n",
       "      <th>66</th>\n",
       "      <td>O=C(Nc1ccc(-n2nccc2C(F)(F)F)cc1)c1ccc(Cl)cc1</td>\n",
       "      <td>AW00193</td>\n",
       "      <td>6.120754</td>\n",
       "    </tr>\n",
       "    <tr>\n",
       "      <th>110</th>\n",
       "      <td>CC(=O)Nc1ccc(S(=O)(=O)Nc2ccc(Oc3ccc(OC(F)(F)F)...</td>\n",
       "      <td>EN00095</td>\n",
       "      <td>6.194450</td>\n",
       "    </tr>\n",
       "    <tr>\n",
       "      <th>250</th>\n",
       "      <td>CC(=O)Nc1ccc(S(=O)(=O)Nc2ccc(Oc3ccc(OC(F)(F)F)...</td>\n",
       "      <td>AW00256</td>\n",
       "      <td>6.194450</td>\n",
       "    </tr>\n",
       "    <tr>\n",
       "      <th>650</th>\n",
       "      <td>CC(=O)Nc1cccc(OCCCNS(=O)(=O)c2ccc(N3C(=O)CC4(C...</td>\n",
       "      <td>AW00490</td>\n",
       "      <td>6.448803</td>\n",
       "    </tr>\n",
       "    <tr>\n",
       "      <th>758</th>\n",
       "      <td>O=C(NCCNS(=O)(=O)c1ccc(Cl)cc1)C1=Cc2cc(Cl)ccc2OC1</td>\n",
       "      <td>GK00081</td>\n",
       "      <td>6.298521</td>\n",
       "    </tr>\n",
       "    <tr>\n",
       "      <th>...</th>\n",
       "      <td>...</td>\n",
       "      <td>...</td>\n",
       "      <td>...</td>\n",
       "    </tr>\n",
       "    <tr>\n",
       "      <th>49720</th>\n",
       "      <td>Cc1onc(-c2ccc(Cl)cc2)c1-c1ccnc(SCC(=O)Nc2ccc(C...</td>\n",
       "      <td>S10227</td>\n",
       "      <td>6.157686</td>\n",
       "    </tr>\n",
       "    <tr>\n",
       "      <th>49780</th>\n",
       "      <td>Cc1cc(-c2nc(C)c(-c3nnc(SCC(=O)Nc4ccc(C(C)C)cc4...</td>\n",
       "      <td>S15050</td>\n",
       "      <td>6.082026</td>\n",
       "    </tr>\n",
       "    <tr>\n",
       "      <th>50705</th>\n",
       "      <td>CCOC(=O)c1cc2c(NC(=O)c3ccc(Cl)cc3)c(C(=O)OCC)s...</td>\n",
       "      <td>RJF02129</td>\n",
       "      <td>6.059935</td>\n",
       "    </tr>\n",
       "    <tr>\n",
       "      <th>51287</th>\n",
       "      <td>O=C(Cc1ccccc1)Nc1ccc(Cl)cc1</td>\n",
       "      <td>S13395</td>\n",
       "      <td>6.115826</td>\n",
       "    </tr>\n",
       "    <tr>\n",
       "      <th>51302</th>\n",
       "      <td>COc1ccc(NC(=O)c2c(-c3c(Cl)cccc3Cl)noc2C)cn1</td>\n",
       "      <td>S13944</td>\n",
       "      <td>6.188176</td>\n",
       "    </tr>\n",
       "  </tbody>\n",
       "</table>\n",
       "<p>394 rows × 3 columns</p>\n",
       "</div>"
      ],
      "text/plain": [
       "                                                  SMILES      Code  \\\n",
       "66          O=C(Nc1ccc(-n2nccc2C(F)(F)F)cc1)c1ccc(Cl)cc1   AW00193   \n",
       "110    CC(=O)Nc1ccc(S(=O)(=O)Nc2ccc(Oc3ccc(OC(F)(F)F)...   EN00095   \n",
       "250    CC(=O)Nc1ccc(S(=O)(=O)Nc2ccc(Oc3ccc(OC(F)(F)F)...   AW00256   \n",
       "650    CC(=O)Nc1cccc(OCCCNS(=O)(=O)c2ccc(N3C(=O)CC4(C...   AW00490   \n",
       "758    O=C(NCCNS(=O)(=O)c1ccc(Cl)cc1)C1=Cc2cc(Cl)ccc2OC1   GK00081   \n",
       "...                                                  ...       ...   \n",
       "49720  Cc1onc(-c2ccc(Cl)cc2)c1-c1ccnc(SCC(=O)Nc2ccc(C...    S10227   \n",
       "49780  Cc1cc(-c2nc(C)c(-c3nnc(SCC(=O)Nc4ccc(C(C)C)cc4...    S15050   \n",
       "50705  CCOC(=O)c1cc2c(NC(=O)c3ccc(Cl)cc3)c(C(=O)OCC)s...  RJF02129   \n",
       "51287                        O=C(Cc1ccccc1)Nc1ccc(Cl)cc1    S13395   \n",
       "51302        COc1ccc(NC(=O)c2c(-c3c(Cl)cccc3Cl)noc2C)cn1    S13944   \n",
       "\n",
       "       predicted_pic50  \n",
       "66            6.120754  \n",
       "110           6.194450  \n",
       "250           6.194450  \n",
       "650           6.448803  \n",
       "758           6.298521  \n",
       "...                ...  \n",
       "49720         6.157686  \n",
       "49780         6.082026  \n",
       "50705         6.059935  \n",
       "51287         6.115826  \n",
       "51302         6.188176  \n",
       "\n",
       "[394 rows x 3 columns]"
      ]
     },
     "execution_count": 29,
     "metadata": {},
     "output_type": "execute_result"
    }
   ],
   "source": [
    "filtered_potent_inhibitors = potent_inhibitors[potent_inhibitors[\"SMILES\"].isin(common_df[\"smiles\"])]\n",
    "filtered_potent_inhibitors"
   ]
  },
  {
   "cell_type": "code",
   "execution_count": 30,
   "id": "085f8170",
   "metadata": {},
   "outputs": [
    {
     "data": {
      "text/plain": [
       "count    394.000000\n",
       "mean       6.194967\n",
       "std        0.180288\n",
       "min        6.000888\n",
       "25%        6.078838\n",
       "50%        6.129133\n",
       "75%        6.265529\n",
       "max        6.874891\n",
       "Name: predicted_pic50, dtype: float64"
      ]
     },
     "execution_count": 30,
     "metadata": {},
     "output_type": "execute_result"
    }
   ],
   "source": [
    "filtered_potent_inhibitors.predicted_pic50.describe()"
   ]
  },
  {
   "cell_type": "code",
   "execution_count": 31,
   "id": "ef0888f8",
   "metadata": {},
   "outputs": [],
   "source": []
  },
  {
   "cell_type": "code",
   "execution_count": 32,
   "id": "a06c2217",
   "metadata": {},
   "outputs": [
    {
     "data": {
      "text/html": [
       "<div>\n",
       "<style scoped>\n",
       "    .dataframe tbody tr th:only-of-type {\n",
       "        vertical-align: middle;\n",
       "    }\n",
       "\n",
       "    .dataframe tbody tr th {\n",
       "        vertical-align: top;\n",
       "    }\n",
       "\n",
       "    .dataframe thead th {\n",
       "        text-align: right;\n",
       "    }\n",
       "</style>\n",
       "<table border=\"1\" class=\"dataframe\">\n",
       "  <thead>\n",
       "    <tr style=\"text-align: right;\">\n",
       "      <th></th>\n",
       "      <th>SMILES</th>\n",
       "      <th>Code</th>\n",
       "      <th>predicted_pic50</th>\n",
       "    </tr>\n",
       "  </thead>\n",
       "  <tbody>\n",
       "    <tr>\n",
       "      <th>34084</th>\n",
       "      <td>CCOC(=O)c1cc(Cl)ccc1OS(=O)(=O)c1ccc(NC(C)=O)cc1</td>\n",
       "      <td>RF02757</td>\n",
       "      <td>6.874891</td>\n",
       "    </tr>\n",
       "    <tr>\n",
       "      <th>33798</th>\n",
       "      <td>Nc1cc(NC(=O)c2ccccc2O)ccc1Cl</td>\n",
       "      <td>XBX00319</td>\n",
       "      <td>6.866345</td>\n",
       "    </tr>\n",
       "    <tr>\n",
       "      <th>15687</th>\n",
       "      <td>Cc1c(S(=O)(=O)c2ccc(Cl)cc2)csc1C(=O)Nc1ccc2c(c...</td>\n",
       "      <td>KM04234</td>\n",
       "      <td>6.859676</td>\n",
       "    </tr>\n",
       "    <tr>\n",
       "      <th>3245</th>\n",
       "      <td>O=c1c2cc(NS(=O)(=O)c3ccc(Cl)cc3)ccc2oc2ncccc12</td>\n",
       "      <td>BTB00089</td>\n",
       "      <td>6.808201</td>\n",
       "    </tr>\n",
       "    <tr>\n",
       "      <th>9460</th>\n",
       "      <td>O=C(Nc1ccc(F)cc1F)c1cc(Cl)cc(Cl)c1O</td>\n",
       "      <td>SPB00540</td>\n",
       "      <td>6.804265</td>\n",
       "    </tr>\n",
       "    <tr>\n",
       "      <th>...</th>\n",
       "      <td>...</td>\n",
       "      <td>...</td>\n",
       "      <td>...</td>\n",
       "    </tr>\n",
       "    <tr>\n",
       "      <th>40868</th>\n",
       "      <td>CC(C)(C)c1ccc(NC(=O)c2c(F)cccc2Cl)cc1</td>\n",
       "      <td>SEW04226</td>\n",
       "      <td>6.002751</td>\n",
       "    </tr>\n",
       "    <tr>\n",
       "      <th>40875</th>\n",
       "      <td>CC(C)(C)c1ccc(NC(=O)c2ccc(Cl)cc2)cc1</td>\n",
       "      <td>SEW04191</td>\n",
       "      <td>6.002751</td>\n",
       "    </tr>\n",
       "    <tr>\n",
       "      <th>1531</th>\n",
       "      <td>O=C(Nc1cc(C(F)(F)F)ccc1N1CCCCC1)c1sc2ccccc2c1Cl</td>\n",
       "      <td>KM00483</td>\n",
       "      <td>6.002525</td>\n",
       "    </tr>\n",
       "    <tr>\n",
       "      <th>12459</th>\n",
       "      <td>CC(=O)c1sc(-c2ccc(Cl)cc2)cc1NC(=O)C(Cl)(Cl)Cl</td>\n",
       "      <td>SPB01882</td>\n",
       "      <td>6.000888</td>\n",
       "    </tr>\n",
       "    <tr>\n",
       "      <th>12453</th>\n",
       "      <td>CC(=O)c1sc(-c2ccc(Cl)cc2)cc1NC(=O)C(Cl)Cl</td>\n",
       "      <td>SPB01791</td>\n",
       "      <td>6.000888</td>\n",
       "    </tr>\n",
       "  </tbody>\n",
       "</table>\n",
       "<p>394 rows × 3 columns</p>\n",
       "</div>"
      ],
      "text/plain": [
       "                                                  SMILES      Code  \\\n",
       "34084    CCOC(=O)c1cc(Cl)ccc1OS(=O)(=O)c1ccc(NC(C)=O)cc1   RF02757   \n",
       "33798                       Nc1cc(NC(=O)c2ccccc2O)ccc1Cl  XBX00319   \n",
       "15687  Cc1c(S(=O)(=O)c2ccc(Cl)cc2)csc1C(=O)Nc1ccc2c(c...   KM04234   \n",
       "3245      O=c1c2cc(NS(=O)(=O)c3ccc(Cl)cc3)ccc2oc2ncccc12  BTB00089   \n",
       "9460                 O=C(Nc1ccc(F)cc1F)c1cc(Cl)cc(Cl)c1O  SPB00540   \n",
       "...                                                  ...       ...   \n",
       "40868              CC(C)(C)c1ccc(NC(=O)c2c(F)cccc2Cl)cc1  SEW04226   \n",
       "40875               CC(C)(C)c1ccc(NC(=O)c2ccc(Cl)cc2)cc1  SEW04191   \n",
       "1531     O=C(Nc1cc(C(F)(F)F)ccc1N1CCCCC1)c1sc2ccccc2c1Cl   KM00483   \n",
       "12459      CC(=O)c1sc(-c2ccc(Cl)cc2)cc1NC(=O)C(Cl)(Cl)Cl  SPB01882   \n",
       "12453          CC(=O)c1sc(-c2ccc(Cl)cc2)cc1NC(=O)C(Cl)Cl  SPB01791   \n",
       "\n",
       "       predicted_pic50  \n",
       "34084         6.874891  \n",
       "33798         6.866345  \n",
       "15687         6.859676  \n",
       "3245          6.808201  \n",
       "9460          6.804265  \n",
       "...                ...  \n",
       "40868         6.002751  \n",
       "40875         6.002751  \n",
       "1531          6.002525  \n",
       "12459         6.000888  \n",
       "12453         6.000888  \n",
       "\n",
       "[394 rows x 3 columns]"
      ]
     },
     "execution_count": 32,
     "metadata": {},
     "output_type": "execute_result"
    }
   ],
   "source": [
    "# 3. Sort the filtered data based on pic50 values in descending order (assuming higher is more potent)\n",
    "sorted_common = filtered_potent_inhibitors.sort_values(by=\"predicted_pic50\", ascending=False)\n",
    "sorted_common"
   ]
  },
  {
   "cell_type": "code",
   "execution_count": 37,
   "id": "6f2ed4bc",
   "metadata": {},
   "outputs": [],
   "source": [
    "# Save the potent inhibitors to a CSV file\n",
    "sorted_common.to_csv(\"maybridge/rf_sorted_common.csv\", index=False)"
   ]
  },
  {
   "cell_type": "code",
   "execution_count": 33,
   "id": "ccc602ff",
   "metadata": {},
   "outputs": [
    {
     "data": {
      "text/html": [
       "<style>#sk-container-id-2 {color: black;background-color: white;}#sk-container-id-2 pre{padding: 0;}#sk-container-id-2 div.sk-toggleable {background-color: white;}#sk-container-id-2 label.sk-toggleable__label {cursor: pointer;display: block;width: 100%;margin-bottom: 0;padding: 0.3em;box-sizing: border-box;text-align: center;}#sk-container-id-2 label.sk-toggleable__label-arrow:before {content: \"▸\";float: left;margin-right: 0.25em;color: #696969;}#sk-container-id-2 label.sk-toggleable__label-arrow:hover:before {color: black;}#sk-container-id-2 div.sk-estimator:hover label.sk-toggleable__label-arrow:before {color: black;}#sk-container-id-2 div.sk-toggleable__content {max-height: 0;max-width: 0;overflow: hidden;text-align: left;background-color: #f0f8ff;}#sk-container-id-2 div.sk-toggleable__content pre {margin: 0.2em;color: black;border-radius: 0.25em;background-color: #f0f8ff;}#sk-container-id-2 input.sk-toggleable__control:checked~div.sk-toggleable__content {max-height: 200px;max-width: 100%;overflow: auto;}#sk-container-id-2 input.sk-toggleable__control:checked~label.sk-toggleable__label-arrow:before {content: \"▾\";}#sk-container-id-2 div.sk-estimator input.sk-toggleable__control:checked~label.sk-toggleable__label {background-color: #d4ebff;}#sk-container-id-2 div.sk-label input.sk-toggleable__control:checked~label.sk-toggleable__label {background-color: #d4ebff;}#sk-container-id-2 input.sk-hidden--visually {border: 0;clip: rect(1px 1px 1px 1px);clip: rect(1px, 1px, 1px, 1px);height: 1px;margin: -1px;overflow: hidden;padding: 0;position: absolute;width: 1px;}#sk-container-id-2 div.sk-estimator {font-family: monospace;background-color: #f0f8ff;border: 1px dotted black;border-radius: 0.25em;box-sizing: border-box;margin-bottom: 0.5em;}#sk-container-id-2 div.sk-estimator:hover {background-color: #d4ebff;}#sk-container-id-2 div.sk-parallel-item::after {content: \"\";width: 100%;border-bottom: 1px solid gray;flex-grow: 1;}#sk-container-id-2 div.sk-label:hover label.sk-toggleable__label {background-color: #d4ebff;}#sk-container-id-2 div.sk-serial::before {content: \"\";position: absolute;border-left: 1px solid gray;box-sizing: border-box;top: 0;bottom: 0;left: 50%;z-index: 0;}#sk-container-id-2 div.sk-serial {display: flex;flex-direction: column;align-items: center;background-color: white;padding-right: 0.2em;padding-left: 0.2em;position: relative;}#sk-container-id-2 div.sk-item {position: relative;z-index: 1;}#sk-container-id-2 div.sk-parallel {display: flex;align-items: stretch;justify-content: center;background-color: white;position: relative;}#sk-container-id-2 div.sk-item::before, #sk-container-id-2 div.sk-parallel-item::before {content: \"\";position: absolute;border-left: 1px solid gray;box-sizing: border-box;top: 0;bottom: 0;left: 50%;z-index: -1;}#sk-container-id-2 div.sk-parallel-item {display: flex;flex-direction: column;z-index: 1;position: relative;background-color: white;}#sk-container-id-2 div.sk-parallel-item:first-child::after {align-self: flex-end;width: 50%;}#sk-container-id-2 div.sk-parallel-item:last-child::after {align-self: flex-start;width: 50%;}#sk-container-id-2 div.sk-parallel-item:only-child::after {width: 0;}#sk-container-id-2 div.sk-dashed-wrapped {border: 1px dashed gray;margin: 0 0.4em 0.5em 0.4em;box-sizing: border-box;padding-bottom: 0.4em;background-color: white;}#sk-container-id-2 div.sk-label label {font-family: monospace;font-weight: bold;display: inline-block;line-height: 1.2em;}#sk-container-id-2 div.sk-label-container {text-align: center;}#sk-container-id-2 div.sk-container {/* jupyter's `normalize.less` sets `[hidden] { display: none; }` but bootstrap.min.css set `[hidden] { display: none !important; }` so we also need the `!important` here to be able to override the default hidden behavior on the sphinx rendered scikit-learn.org. See: https://github.com/scikit-learn/scikit-learn/issues/21755 */display: inline-block !important;position: relative;}#sk-container-id-2 div.sk-text-repr-fallback {display: none;}</style><div id=\"sk-container-id-2\" class=\"sk-top-container\"><div class=\"sk-text-repr-fallback\"><pre>RandomForestRegressor(bootstrap=False, max_features=&#x27;log2&#x27;, n_estimators=150,\n",
       "                      random_state=6)</pre><b>In a Jupyter environment, please rerun this cell to show the HTML representation or trust the notebook. <br />On GitHub, the HTML representation is unable to render, please try loading this page with nbviewer.org.</b></div><div class=\"sk-container\" hidden><div class=\"sk-item\"><div class=\"sk-estimator sk-toggleable\"><input class=\"sk-toggleable__control sk-hidden--visually\" id=\"sk-estimator-id-4\" type=\"checkbox\" checked><label for=\"sk-estimator-id-4\" class=\"sk-toggleable__label sk-toggleable__label-arrow\">RandomForestRegressor</label><div class=\"sk-toggleable__content\"><pre>RandomForestRegressor(bootstrap=False, max_features=&#x27;log2&#x27;, n_estimators=150,\n",
       "                      random_state=6)</pre></div></div></div></div></div>"
      ],
      "text/plain": [
       "RandomForestRegressor(bootstrap=False, max_features='log2', n_estimators=150,\n",
       "                      random_state=6)"
      ]
     },
     "execution_count": 33,
     "metadata": {},
     "output_type": "execute_result"
    }
   ],
   "source": [
    "best_model_rf"
   ]
  },
  {
   "cell_type": "code",
   "execution_count": 35,
   "id": "51509f81",
   "metadata": {},
   "outputs": [
    {
     "data": {
      "text/html": [
       "<div>\n",
       "<style scoped>\n",
       "    .dataframe tbody tr th:only-of-type {\n",
       "        vertical-align: middle;\n",
       "    }\n",
       "\n",
       "    .dataframe tbody tr th {\n",
       "        vertical-align: top;\n",
       "    }\n",
       "\n",
       "    .dataframe thead th {\n",
       "        text-align: right;\n",
       "    }\n",
       "</style>\n",
       "<table border=\"1\" class=\"dataframe\">\n",
       "  <thead>\n",
       "    <tr style=\"text-align: right;\">\n",
       "      <th></th>\n",
       "      <th>SMILES</th>\n",
       "      <th>Code</th>\n",
       "      <th>predicted_pic50</th>\n",
       "    </tr>\n",
       "  </thead>\n",
       "  <tbody>\n",
       "    <tr>\n",
       "      <th>34084</th>\n",
       "      <td>CCOC(=O)c1cc(Cl)ccc1OS(=O)(=O)c1ccc(NC(C)=O)cc1</td>\n",
       "      <td>RF02757</td>\n",
       "      <td>6.874891</td>\n",
       "    </tr>\n",
       "    <tr>\n",
       "      <th>33798</th>\n",
       "      <td>Nc1cc(NC(=O)c2ccccc2O)ccc1Cl</td>\n",
       "      <td>XBX00319</td>\n",
       "      <td>6.866345</td>\n",
       "    </tr>\n",
       "    <tr>\n",
       "      <th>15687</th>\n",
       "      <td>Cc1c(S(=O)(=O)c2ccc(Cl)cc2)csc1C(=O)Nc1ccc2c(c...</td>\n",
       "      <td>KM04234</td>\n",
       "      <td>6.859676</td>\n",
       "    </tr>\n",
       "    <tr>\n",
       "      <th>3245</th>\n",
       "      <td>O=c1c2cc(NS(=O)(=O)c3ccc(Cl)cc3)ccc2oc2ncccc12</td>\n",
       "      <td>BTB00089</td>\n",
       "      <td>6.808201</td>\n",
       "    </tr>\n",
       "    <tr>\n",
       "      <th>9460</th>\n",
       "      <td>O=C(Nc1ccc(F)cc1F)c1cc(Cl)cc(Cl)c1O</td>\n",
       "      <td>SPB00540</td>\n",
       "      <td>6.804265</td>\n",
       "    </tr>\n",
       "    <tr>\n",
       "      <th>30662</th>\n",
       "      <td>COc1ccc(C(C)=O)cc1CS/C(=N\\S(=O)(=O)c1ccccc1)Nc...</td>\n",
       "      <td>ML00391</td>\n",
       "      <td>6.799082</td>\n",
       "    </tr>\n",
       "    <tr>\n",
       "      <th>22204</th>\n",
       "      <td>NS(=O)(=O)c1ccc(NC(=O)CSc2nnc(-c3ccc(Cl)cc3)o2...</td>\n",
       "      <td>HTS04304</td>\n",
       "      <td>6.757277</td>\n",
       "    </tr>\n",
       "    <tr>\n",
       "      <th>37616</th>\n",
       "      <td>COc1ccc(Cl)cc1C(=O)NCCc1ccc(S(=O)(=O)NC(=O)NC2...</td>\n",
       "      <td>RF05314</td>\n",
       "      <td>6.757184</td>\n",
       "    </tr>\n",
       "    <tr>\n",
       "      <th>12011</th>\n",
       "      <td>C/C(=N\\O)c1ccc(Cl)c(NC(=O)c2c(-c3ccccc3Cl)noc2...</td>\n",
       "      <td>BTB07062</td>\n",
       "      <td>6.754645</td>\n",
       "    </tr>\n",
       "    <tr>\n",
       "      <th>40777</th>\n",
       "      <td>CCCN(CCC)S(=O)(=O)c1ccc(C(=O)Nc2ccc(Oc3ccc(Cl)...</td>\n",
       "      <td>HTS12671</td>\n",
       "      <td>6.726186</td>\n",
       "    </tr>\n",
       "    <tr>\n",
       "      <th>16267</th>\n",
       "      <td>O=C(NCc1ccc(S(=O)(=O)Nc2ccc3c(c2)OCCO3)s1)c1cc...</td>\n",
       "      <td>BTB08982</td>\n",
       "      <td>6.716657</td>\n",
       "    </tr>\n",
       "    <tr>\n",
       "      <th>9367</th>\n",
       "      <td>O=C(Nc1ccc(F)c(Cl)c1)c1cc(Br)ccc1O</td>\n",
       "      <td>BTB05348</td>\n",
       "      <td>6.701238</td>\n",
       "    </tr>\n",
       "    <tr>\n",
       "      <th>9399</th>\n",
       "      <td>O=C(Nc1ccc(F)cc1F)c1cc(Cl)ccc1O</td>\n",
       "      <td>BTB05265</td>\n",
       "      <td>6.701238</td>\n",
       "    </tr>\n",
       "    <tr>\n",
       "      <th>9358</th>\n",
       "      <td>O=C(Nc1cc(Cl)cc(Cl)c1)c1ccccc1O</td>\n",
       "      <td>BTB05355</td>\n",
       "      <td>6.701238</td>\n",
       "    </tr>\n",
       "    <tr>\n",
       "      <th>9361</th>\n",
       "      <td>O=C(Nc1cc(Cl)cc(Cl)c1)c1cc(Br)ccc1O</td>\n",
       "      <td>BTB05280</td>\n",
       "      <td>6.701238</td>\n",
       "    </tr>\n",
       "    <tr>\n",
       "      <th>9357</th>\n",
       "      <td>O=C(Nc1ccc(F)c(Cl)c1)c1ccccc1O</td>\n",
       "      <td>BTB05344</td>\n",
       "      <td>6.701238</td>\n",
       "    </tr>\n",
       "    <tr>\n",
       "      <th>16871</th>\n",
       "      <td>N#Cc1c(Cl)cccc1Oc1ccc(S(=O)(=O)Nc2ccccc2C(=O)N...</td>\n",
       "      <td>JFD01405</td>\n",
       "      <td>6.618424</td>\n",
       "    </tr>\n",
       "    <tr>\n",
       "      <th>40778</th>\n",
       "      <td>O=C(O)/C=C/C(=O)Nc1ccc(Cl)c(C(=O)O)c1</td>\n",
       "      <td>HTS12679</td>\n",
       "      <td>6.609437</td>\n",
       "    </tr>\n",
       "    <tr>\n",
       "      <th>8227</th>\n",
       "      <td>O=C(O)c1cccc([N+](=O)[O-])c1C(=O)Nc1ccc(Cl)c(C...</td>\n",
       "      <td>CD05497</td>\n",
       "      <td>6.576991</td>\n",
       "    </tr>\n",
       "    <tr>\n",
       "      <th>10084</th>\n",
       "      <td>N#Cc1ccc(-c2c(NC(=O)NS(=O)(=O)c3ccccc3Cl)oc(-c...</td>\n",
       "      <td>BTB05800</td>\n",
       "      <td>6.568694</td>\n",
       "    </tr>\n",
       "  </tbody>\n",
       "</table>\n",
       "</div>"
      ],
      "text/plain": [
       "                                                  SMILES      Code  \\\n",
       "34084    CCOC(=O)c1cc(Cl)ccc1OS(=O)(=O)c1ccc(NC(C)=O)cc1   RF02757   \n",
       "33798                       Nc1cc(NC(=O)c2ccccc2O)ccc1Cl  XBX00319   \n",
       "15687  Cc1c(S(=O)(=O)c2ccc(Cl)cc2)csc1C(=O)Nc1ccc2c(c...   KM04234   \n",
       "3245      O=c1c2cc(NS(=O)(=O)c3ccc(Cl)cc3)ccc2oc2ncccc12  BTB00089   \n",
       "9460                 O=C(Nc1ccc(F)cc1F)c1cc(Cl)cc(Cl)c1O  SPB00540   \n",
       "30662  COc1ccc(C(C)=O)cc1CS/C(=N\\S(=O)(=O)c1ccccc1)Nc...   ML00391   \n",
       "22204  NS(=O)(=O)c1ccc(NC(=O)CSc2nnc(-c3ccc(Cl)cc3)o2...  HTS04304   \n",
       "37616  COc1ccc(Cl)cc1C(=O)NCCc1ccc(S(=O)(=O)NC(=O)NC2...   RF05314   \n",
       "12011  C/C(=N\\O)c1ccc(Cl)c(NC(=O)c2c(-c3ccccc3Cl)noc2...  BTB07062   \n",
       "40777  CCCN(CCC)S(=O)(=O)c1ccc(C(=O)Nc2ccc(Oc3ccc(Cl)...  HTS12671   \n",
       "16267  O=C(NCc1ccc(S(=O)(=O)Nc2ccc3c(c2)OCCO3)s1)c1cc...  BTB08982   \n",
       "9367                  O=C(Nc1ccc(F)c(Cl)c1)c1cc(Br)ccc1O  BTB05348   \n",
       "9399                     O=C(Nc1ccc(F)cc1F)c1cc(Cl)ccc1O  BTB05265   \n",
       "9358                     O=C(Nc1cc(Cl)cc(Cl)c1)c1ccccc1O  BTB05355   \n",
       "9361                 O=C(Nc1cc(Cl)cc(Cl)c1)c1cc(Br)ccc1O  BTB05280   \n",
       "9357                      O=C(Nc1ccc(F)c(Cl)c1)c1ccccc1O  BTB05344   \n",
       "16871  N#Cc1c(Cl)cccc1Oc1ccc(S(=O)(=O)Nc2ccccc2C(=O)N...  JFD01405   \n",
       "40778              O=C(O)/C=C/C(=O)Nc1ccc(Cl)c(C(=O)O)c1  HTS12679   \n",
       "8227   O=C(O)c1cccc([N+](=O)[O-])c1C(=O)Nc1ccc(Cl)c(C...   CD05497   \n",
       "10084  N#Cc1ccc(-c2c(NC(=O)NS(=O)(=O)c3ccccc3Cl)oc(-c...  BTB05800   \n",
       "\n",
       "       predicted_pic50  \n",
       "34084         6.874891  \n",
       "33798         6.866345  \n",
       "15687         6.859676  \n",
       "3245          6.808201  \n",
       "9460          6.804265  \n",
       "30662         6.799082  \n",
       "22204         6.757277  \n",
       "37616         6.757184  \n",
       "12011         6.754645  \n",
       "40777         6.726186  \n",
       "16267         6.716657  \n",
       "9367          6.701238  \n",
       "9399          6.701238  \n",
       "9358          6.701238  \n",
       "9361          6.701238  \n",
       "9357          6.701238  \n",
       "16871         6.618424  \n",
       "40778         6.609437  \n",
       "8227          6.576991  \n",
       "10084         6.568694  "
      ]
     },
     "execution_count": 35,
     "metadata": {},
     "output_type": "execute_result"
    }
   ],
   "source": [
    "top20 = sorted_common.sort_values(by=\"predicted_pic50\", ascending=False).head(20)\n",
    "top20"
   ]
  },
  {
   "cell_type": "code",
   "execution_count": 36,
   "id": "e673027a",
   "metadata": {},
   "outputs": [],
   "source": [
    "top20.to_csv(\"maybridge/rf_top20.csv\", index=False)"
   ]
  },
  {
   "cell_type": "code",
   "execution_count": null,
   "id": "62d4e3e4",
   "metadata": {},
   "outputs": [],
   "source": []
  },
  {
   "cell_type": "code",
   "execution_count": null,
   "id": "128d91bb",
   "metadata": {},
   "outputs": [],
   "source": []
  },
  {
   "cell_type": "code",
   "execution_count": null,
   "id": "48d18045",
   "metadata": {},
   "outputs": [],
   "source": []
  },
  {
   "cell_type": "code",
   "execution_count": null,
   "id": "9df8bf9f",
   "metadata": {},
   "outputs": [],
   "source": []
  },
  {
   "cell_type": "code",
   "execution_count": null,
   "id": "fcf1df28",
   "metadata": {},
   "outputs": [],
   "source": []
  },
  {
   "cell_type": "code",
   "execution_count": null,
   "id": "5c1d3fc1",
   "metadata": {},
   "outputs": [],
   "source": []
  },
  {
   "cell_type": "code",
   "execution_count": null,
   "id": "a21a5133",
   "metadata": {},
   "outputs": [],
   "source": []
  },
  {
   "cell_type": "code",
   "execution_count": null,
   "id": "14eac23b",
   "metadata": {},
   "outputs": [],
   "source": []
  },
  {
   "cell_type": "code",
   "execution_count": null,
   "id": "4a84ca2d",
   "metadata": {},
   "outputs": [],
   "source": []
  },
  {
   "cell_type": "code",
   "execution_count": 34,
   "id": "16c80c2e",
   "metadata": {},
   "outputs": [
    {
     "ename": "ValueError",
     "evalue": "continuous is not supported",
     "output_type": "error",
     "traceback": [
      "\u001b[0;31m---------------------------------------------------------------------------\u001b[0m",
      "\u001b[0;31mValueError\u001b[0m                                Traceback (most recent call last)",
      "Cell \u001b[0;32mIn [34], line 8\u001b[0m\n\u001b[1;32m      5\u001b[0m y_pred \u001b[38;5;241m=\u001b[39m best_model_rf\u001b[38;5;241m.\u001b[39mpredict(X_test)\n\u001b[1;32m      7\u001b[0m \u001b[38;5;66;03m# for binary classification:\u001b[39;00m\n\u001b[0;32m----> 8\u001b[0m accuracy \u001b[38;5;241m=\u001b[39m \u001b[43maccuracy_score\u001b[49m\u001b[43m(\u001b[49m\u001b[43my_test\u001b[49m\u001b[43m,\u001b[49m\u001b[43m \u001b[49m\u001b[43my_pred\u001b[49m\u001b[43m)\u001b[49m\n\u001b[1;32m      9\u001b[0m precision \u001b[38;5;241m=\u001b[39m precision_score(y_test, y_pred)\n\u001b[1;32m     10\u001b[0m recall \u001b[38;5;241m=\u001b[39m recall_score(y_test, y_pred)\n",
      "File \u001b[0;32m~/miniconda3/lib/python3.9/site-packages/sklearn/utils/_param_validation.py:192\u001b[0m, in \u001b[0;36mvalidate_params.<locals>.decorator.<locals>.wrapper\u001b[0;34m(*args, **kwargs)\u001b[0m\n\u001b[1;32m    187\u001b[0m validate_parameter_constraints(\n\u001b[1;32m    188\u001b[0m     parameter_constraints, params, caller_name\u001b[38;5;241m=\u001b[39mfunc\u001b[38;5;241m.\u001b[39m\u001b[38;5;18m__qualname__\u001b[39m\n\u001b[1;32m    189\u001b[0m )\n\u001b[1;32m    191\u001b[0m \u001b[38;5;28;01mtry\u001b[39;00m:\n\u001b[0;32m--> 192\u001b[0m     \u001b[38;5;28;01mreturn\u001b[39;00m \u001b[43mfunc\u001b[49m\u001b[43m(\u001b[49m\u001b[38;5;241;43m*\u001b[39;49m\u001b[43margs\u001b[49m\u001b[43m,\u001b[49m\u001b[43m \u001b[49m\u001b[38;5;241;43m*\u001b[39;49m\u001b[38;5;241;43m*\u001b[39;49m\u001b[43mkwargs\u001b[49m\u001b[43m)\u001b[49m\n\u001b[1;32m    193\u001b[0m \u001b[38;5;28;01mexcept\u001b[39;00m InvalidParameterError \u001b[38;5;28;01mas\u001b[39;00m e:\n\u001b[1;32m    194\u001b[0m     \u001b[38;5;66;03m# When the function is just a wrapper around an estimator, we allow\u001b[39;00m\n\u001b[1;32m    195\u001b[0m     \u001b[38;5;66;03m# the function to delegate validation to the estimator, but we replace\u001b[39;00m\n\u001b[1;32m    196\u001b[0m     \u001b[38;5;66;03m# the name of the estimator by the name of the function in the error\u001b[39;00m\n\u001b[1;32m    197\u001b[0m     \u001b[38;5;66;03m# message to avoid confusion.\u001b[39;00m\n\u001b[1;32m    198\u001b[0m     msg \u001b[38;5;241m=\u001b[39m re\u001b[38;5;241m.\u001b[39msub(\n\u001b[1;32m    199\u001b[0m         \u001b[38;5;124mr\u001b[39m\u001b[38;5;124m\"\u001b[39m\u001b[38;5;124mparameter of \u001b[39m\u001b[38;5;124m\\\u001b[39m\u001b[38;5;124mw+ must be\u001b[39m\u001b[38;5;124m\"\u001b[39m,\n\u001b[1;32m    200\u001b[0m         \u001b[38;5;124mf\u001b[39m\u001b[38;5;124m\"\u001b[39m\u001b[38;5;124mparameter of \u001b[39m\u001b[38;5;132;01m{\u001b[39;00mfunc\u001b[38;5;241m.\u001b[39m\u001b[38;5;18m__qualname__\u001b[39m\u001b[38;5;132;01m}\u001b[39;00m\u001b[38;5;124m must be\u001b[39m\u001b[38;5;124m\"\u001b[39m,\n\u001b[1;32m    201\u001b[0m         \u001b[38;5;28mstr\u001b[39m(e),\n\u001b[1;32m    202\u001b[0m     )\n",
      "File \u001b[0;32m~/miniconda3/lib/python3.9/site-packages/sklearn/metrics/_classification.py:221\u001b[0m, in \u001b[0;36maccuracy_score\u001b[0;34m(y_true, y_pred, normalize, sample_weight)\u001b[0m\n\u001b[1;32m    155\u001b[0m \u001b[38;5;124;03m\"\"\"Accuracy classification score.\u001b[39;00m\n\u001b[1;32m    156\u001b[0m \n\u001b[1;32m    157\u001b[0m \u001b[38;5;124;03mIn multilabel classification, this function computes subset accuracy:\u001b[39;00m\n\u001b[0;32m   (...)\u001b[0m\n\u001b[1;32m    217\u001b[0m \u001b[38;5;124;03m0.5\u001b[39;00m\n\u001b[1;32m    218\u001b[0m \u001b[38;5;124;03m\"\"\"\u001b[39;00m\n\u001b[1;32m    220\u001b[0m \u001b[38;5;66;03m# Compute accuracy for each possible representation\u001b[39;00m\n\u001b[0;32m--> 221\u001b[0m y_type, y_true, y_pred \u001b[38;5;241m=\u001b[39m \u001b[43m_check_targets\u001b[49m\u001b[43m(\u001b[49m\u001b[43my_true\u001b[49m\u001b[43m,\u001b[49m\u001b[43m \u001b[49m\u001b[43my_pred\u001b[49m\u001b[43m)\u001b[49m\n\u001b[1;32m    222\u001b[0m check_consistent_length(y_true, y_pred, sample_weight)\n\u001b[1;32m    223\u001b[0m \u001b[38;5;28;01mif\u001b[39;00m y_type\u001b[38;5;241m.\u001b[39mstartswith(\u001b[38;5;124m\"\u001b[39m\u001b[38;5;124mmultilabel\u001b[39m\u001b[38;5;124m\"\u001b[39m):\n",
      "File \u001b[0;32m~/miniconda3/lib/python3.9/site-packages/sklearn/metrics/_classification.py:106\u001b[0m, in \u001b[0;36m_check_targets\u001b[0;34m(y_true, y_pred)\u001b[0m\n\u001b[1;32m    104\u001b[0m \u001b[38;5;66;03m# No metrics support \"multiclass-multioutput\" format\u001b[39;00m\n\u001b[1;32m    105\u001b[0m \u001b[38;5;28;01mif\u001b[39;00m y_type \u001b[38;5;129;01mnot\u001b[39;00m \u001b[38;5;129;01min\u001b[39;00m [\u001b[38;5;124m\"\u001b[39m\u001b[38;5;124mbinary\u001b[39m\u001b[38;5;124m\"\u001b[39m, \u001b[38;5;124m\"\u001b[39m\u001b[38;5;124mmulticlass\u001b[39m\u001b[38;5;124m\"\u001b[39m, \u001b[38;5;124m\"\u001b[39m\u001b[38;5;124mmultilabel-indicator\u001b[39m\u001b[38;5;124m\"\u001b[39m]:\n\u001b[0;32m--> 106\u001b[0m     \u001b[38;5;28;01mraise\u001b[39;00m \u001b[38;5;167;01mValueError\u001b[39;00m(\u001b[38;5;124m\"\u001b[39m\u001b[38;5;132;01m{0}\u001b[39;00m\u001b[38;5;124m is not supported\u001b[39m\u001b[38;5;124m\"\u001b[39m\u001b[38;5;241m.\u001b[39mformat(y_type))\n\u001b[1;32m    108\u001b[0m \u001b[38;5;28;01mif\u001b[39;00m y_type \u001b[38;5;129;01min\u001b[39;00m [\u001b[38;5;124m\"\u001b[39m\u001b[38;5;124mbinary\u001b[39m\u001b[38;5;124m\"\u001b[39m, \u001b[38;5;124m\"\u001b[39m\u001b[38;5;124mmulticlass\u001b[39m\u001b[38;5;124m\"\u001b[39m]:\n\u001b[1;32m    109\u001b[0m     y_true \u001b[38;5;241m=\u001b[39m column_or_1d(y_true)\n",
      "\u001b[0;31mValueError\u001b[0m: continuous is not supported"
     ]
    }
   ],
   "source": [
    "from sklearn.metrics import accuracy_score, precision_score, recall_score, f1_score, roc_auc_score\n",
    "from sklearn.preprocessing import LabelBinarizer\n",
    "\n",
    "# assuming that y_test are your true class labels and y_pred are the predicted class labels\n",
    "y_pred = best_model_rf.predict(X_test)\n",
    "\n",
    "# for binary classification:\n",
    "accuracy = accuracy_score(y_test, y_pred)\n",
    "precision = precision_score(y_test, y_pred)\n",
    "recall = recall_score(y_test, y_pred)\n",
    "f1 = f1_score(y_test, y_pred)\n",
    "\n",
    "# for AUC-ROC, you need probability estimates of the positive class\n",
    "y_probs = best_model_rf.predict_proba(X_test)[:, 1]  # probabilities for the positive outcome\n",
    "roc_auc = roc_auc_score(y_test, y_probs)\n",
    "\n",
    "print('Accuracy:', accuracy)\n",
    "print('Precision:', precision)\n",
    "print('Recall:', recall)\n",
    "print('F1 Score:', f1)\n",
    "print('ROC AUC:', roc_auc)\n"
   ]
  },
  {
   "cell_type": "code",
   "execution_count": null,
   "id": "7fdb2075",
   "metadata": {},
   "outputs": [],
   "source": [
    "# Let's suppose df['pIC50'] is your target variable\n",
    "print(df['pIC50'].nunique())\n",
    "print(df['pIC50'].value_counts())"
   ]
  },
  {
   "cell_type": "code",
   "execution_count": null,
   "id": "0b83c692",
   "metadata": {},
   "outputs": [],
   "source": []
  },
  {
   "cell_type": "code",
   "execution_count": null,
   "id": "cb0de0c9",
   "metadata": {},
   "outputs": [],
   "source": []
  },
  {
   "cell_type": "code",
   "execution_count": null,
   "id": "6ff451bf",
   "metadata": {},
   "outputs": [],
   "source": []
  },
  {
   "cell_type": "code",
   "execution_count": null,
   "id": "7ee891d5",
   "metadata": {},
   "outputs": [],
   "source": [
    "# Model Evaluation for RandomForestRegressor\n",
    "y_test_pred_rf = best_model_rf.predict(X_test)\n",
    "mse_test_rf = mean_squared_error(y_test, y_test_pred_rf)"
   ]
  },
  {
   "cell_type": "code",
   "execution_count": null,
   "id": "9fd60154",
   "metadata": {},
   "outputs": [],
   "source": [
    "# Printing the results\n",
    "print(f\"RandomForestRegressor - Test Mean Squared Error: {mse_test_rf}\")\n",
    "print(f\"Best RandomForestRegressor: {grid_search_rf.best_params_}\")"
   ]
  },
  {
   "cell_type": "code",
   "execution_count": null,
   "id": "8bbf7119",
   "metadata": {},
   "outputs": [],
   "source": []
  },
  {
   "cell_type": "code",
   "execution_count": null,
   "id": "85a5ef17",
   "metadata": {},
   "outputs": [],
   "source": []
  },
  {
   "cell_type": "code",
   "execution_count": null,
   "id": "03b13ead",
   "metadata": {},
   "outputs": [],
   "source": []
  },
  {
   "cell_type": "code",
   "execution_count": null,
   "id": "ce94d51c",
   "metadata": {},
   "outputs": [],
   "source": []
  },
  {
   "cell_type": "code",
   "execution_count": null,
   "id": "1384e329",
   "metadata": {},
   "outputs": [],
   "source": []
  },
  {
   "cell_type": "code",
   "execution_count": null,
   "id": "5dddb43b",
   "metadata": {},
   "outputs": [],
   "source": []
  },
  {
   "cell_type": "code",
   "execution_count": null,
   "id": "7936e801",
   "metadata": {},
   "outputs": [],
   "source": []
  },
  {
   "cell_type": "code",
   "execution_count": null,
   "id": "cf7acdf3",
   "metadata": {},
   "outputs": [],
   "source": []
  },
  {
   "cell_type": "code",
   "execution_count": null,
   "id": "ff9d857f",
   "metadata": {},
   "outputs": [],
   "source": []
  },
  {
   "cell_type": "code",
   "execution_count": null,
   "id": "980c9da6",
   "metadata": {},
   "outputs": [],
   "source": []
  },
  {
   "cell_type": "code",
   "execution_count": null,
   "id": "bbe0a99c",
   "metadata": {},
   "outputs": [],
   "source": []
  },
  {
   "cell_type": "code",
   "execution_count": null,
   "id": "93d848b0",
   "metadata": {},
   "outputs": [],
   "source": []
  },
  {
   "cell_type": "code",
   "execution_count": null,
   "id": "de1fcb59",
   "metadata": {},
   "outputs": [],
   "source": []
  },
  {
   "cell_type": "code",
   "execution_count": null,
   "id": "3469212a",
   "metadata": {},
   "outputs": [],
   "source": []
  }
 ],
 "metadata": {
  "kernelspec": {
   "display_name": "Python 3",
   "language": "python",
   "name": "python3"
  },
  "language_info": {
   "codemirror_mode": {
    "name": "ipython",
    "version": 3
   },
   "file_extension": ".py",
   "mimetype": "text/x-python",
   "name": "python",
   "nbconvert_exporter": "python",
   "pygments_lexer": "ipython3",
   "version": "3.9.12"
  }
 },
 "nbformat": 4,
 "nbformat_minor": 5
}
