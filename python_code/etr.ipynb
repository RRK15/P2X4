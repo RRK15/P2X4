{
 "cells": [
  {
   "cell_type": "code",
   "execution_count": 1,
   "id": "6b63938b",
   "metadata": {},
   "outputs": [],
   "source": [
    "import numpy as np\n",
    "import pandas as pd\n",
    "from sklearn.feature_selection import VarianceThreshold\n",
    "from sklearn.model_selection import GridSearchCV, train_test_split\n",
    "from sklearn.ensemble import RandomForestRegressor\n",
    "from xgboost import XGBRegressor\n",
    "from sklearn.tree import DecisionTreeRegressor\n",
    "from sklearn.ensemble import ExtraTreesRegressor\n",
    "from sklearn.metrics import mean_squared_error"
   ]
  },
  {
   "cell_type": "code",
   "execution_count": 2,
   "id": "e3e92907",
   "metadata": {},
   "outputs": [],
   "source": [
    "# Load data\n",
    "X = pd.read_csv('data/fingerprints.csv', index_col = 0)\n",
    "df = pd.read_csv('data/p2x4_final.csv', index_col = 0)\n",
    "Y = df['pIC50']\n",
    "# Feature Selection\n",
    "selection = VarianceThreshold(threshold=(.8 * (1 - .8)))    \n",
    "X = selection.fit_transform(X)"
   ]
  },
  {
   "cell_type": "code",
   "execution_count": 3,
   "id": "02c9bcf1",
   "metadata": {},
   "outputs": [],
   "source": [
    "# Splitting the data\n",
    "X_train, X_test, y_train, y_test = train_test_split(X, Y, test_size=0.1, random_state=6)"
   ]
  },
  {
   "cell_type": "code",
   "execution_count": 4,
   "id": "f297d672",
   "metadata": {},
   "outputs": [],
   "source": [
    "# Hyperparameter grid for ExtraTreesRegressor\n",
    "param_grid_etr = {\n",
    "    'n_estimators': [10, 50, 100, 150],\n",
    "    'max_features': ['auto', 'sqrt', 'log2'],\n",
    "    'max_depth': [None, 10, 20, 30],\n",
    "    'min_samples_split': [2, 5, 10],\n",
    "    'min_samples_leaf': [1, 2, 4],\n",
    "    'bootstrap': [True, False]\n",
    "    \n",
    "}"
   ]
  },
  {
   "cell_type": "code",
   "execution_count": 5,
   "id": "25b36d50",
   "metadata": {},
   "outputs": [
    {
     "name": "stdout",
     "output_type": "stream",
     "text": [
      "Number of physical cores: 4\n"
     ]
    }
   ],
   "source": [
    "import joblib\n",
    "\n",
    "N_CORES = joblib.cpu_count(only_physical_cores=True)\n",
    "print(f\"Number of physical cores: {N_CORES}\")"
   ]
  },
  {
   "cell_type": "code",
   "execution_count": 6,
   "id": "0ce69433",
   "metadata": {},
   "outputs": [
    {
     "name": "stdout",
     "output_type": "stream",
     "text": [
      "Fitting 5 folds for each of 864 candidates, totalling 4320 fits\n"
     ]
    },
    {
     "data": {
      "text/html": [
       "<style>#sk-container-id-1 {color: black;background-color: white;}#sk-container-id-1 pre{padding: 0;}#sk-container-id-1 div.sk-toggleable {background-color: white;}#sk-container-id-1 label.sk-toggleable__label {cursor: pointer;display: block;width: 100%;margin-bottom: 0;padding: 0.3em;box-sizing: border-box;text-align: center;}#sk-container-id-1 label.sk-toggleable__label-arrow:before {content: \"▸\";float: left;margin-right: 0.25em;color: #696969;}#sk-container-id-1 label.sk-toggleable__label-arrow:hover:before {color: black;}#sk-container-id-1 div.sk-estimator:hover label.sk-toggleable__label-arrow:before {color: black;}#sk-container-id-1 div.sk-toggleable__content {max-height: 0;max-width: 0;overflow: hidden;text-align: left;background-color: #f0f8ff;}#sk-container-id-1 div.sk-toggleable__content pre {margin: 0.2em;color: black;border-radius: 0.25em;background-color: #f0f8ff;}#sk-container-id-1 input.sk-toggleable__control:checked~div.sk-toggleable__content {max-height: 200px;max-width: 100%;overflow: auto;}#sk-container-id-1 input.sk-toggleable__control:checked~label.sk-toggleable__label-arrow:before {content: \"▾\";}#sk-container-id-1 div.sk-estimator input.sk-toggleable__control:checked~label.sk-toggleable__label {background-color: #d4ebff;}#sk-container-id-1 div.sk-label input.sk-toggleable__control:checked~label.sk-toggleable__label {background-color: #d4ebff;}#sk-container-id-1 input.sk-hidden--visually {border: 0;clip: rect(1px 1px 1px 1px);clip: rect(1px, 1px, 1px, 1px);height: 1px;margin: -1px;overflow: hidden;padding: 0;position: absolute;width: 1px;}#sk-container-id-1 div.sk-estimator {font-family: monospace;background-color: #f0f8ff;border: 1px dotted black;border-radius: 0.25em;box-sizing: border-box;margin-bottom: 0.5em;}#sk-container-id-1 div.sk-estimator:hover {background-color: #d4ebff;}#sk-container-id-1 div.sk-parallel-item::after {content: \"\";width: 100%;border-bottom: 1px solid gray;flex-grow: 1;}#sk-container-id-1 div.sk-label:hover label.sk-toggleable__label {background-color: #d4ebff;}#sk-container-id-1 div.sk-serial::before {content: \"\";position: absolute;border-left: 1px solid gray;box-sizing: border-box;top: 0;bottom: 0;left: 50%;z-index: 0;}#sk-container-id-1 div.sk-serial {display: flex;flex-direction: column;align-items: center;background-color: white;padding-right: 0.2em;padding-left: 0.2em;position: relative;}#sk-container-id-1 div.sk-item {position: relative;z-index: 1;}#sk-container-id-1 div.sk-parallel {display: flex;align-items: stretch;justify-content: center;background-color: white;position: relative;}#sk-container-id-1 div.sk-item::before, #sk-container-id-1 div.sk-parallel-item::before {content: \"\";position: absolute;border-left: 1px solid gray;box-sizing: border-box;top: 0;bottom: 0;left: 50%;z-index: -1;}#sk-container-id-1 div.sk-parallel-item {display: flex;flex-direction: column;z-index: 1;position: relative;background-color: white;}#sk-container-id-1 div.sk-parallel-item:first-child::after {align-self: flex-end;width: 50%;}#sk-container-id-1 div.sk-parallel-item:last-child::after {align-self: flex-start;width: 50%;}#sk-container-id-1 div.sk-parallel-item:only-child::after {width: 0;}#sk-container-id-1 div.sk-dashed-wrapped {border: 1px dashed gray;margin: 0 0.4em 0.5em 0.4em;box-sizing: border-box;padding-bottom: 0.4em;background-color: white;}#sk-container-id-1 div.sk-label label {font-family: monospace;font-weight: bold;display: inline-block;line-height: 1.2em;}#sk-container-id-1 div.sk-label-container {text-align: center;}#sk-container-id-1 div.sk-container {/* jupyter's `normalize.less` sets `[hidden] { display: none; }` but bootstrap.min.css set `[hidden] { display: none !important; }` so we also need the `!important` here to be able to override the default hidden behavior on the sphinx rendered scikit-learn.org. See: https://github.com/scikit-learn/scikit-learn/issues/21755 */display: inline-block !important;position: relative;}#sk-container-id-1 div.sk-text-repr-fallback {display: none;}</style><div id=\"sk-container-id-1\" class=\"sk-top-container\"><div class=\"sk-text-repr-fallback\"><pre>GridSearchCV(cv=5, estimator=ExtraTreesRegressor(random_state=6), n_jobs=4,\n",
       "             param_grid={&#x27;bootstrap&#x27;: [True, False],\n",
       "                         &#x27;max_depth&#x27;: [None, 10, 20, 30],\n",
       "                         &#x27;max_features&#x27;: [&#x27;auto&#x27;, &#x27;sqrt&#x27;, &#x27;log2&#x27;],\n",
       "                         &#x27;min_samples_leaf&#x27;: [1, 2, 4],\n",
       "                         &#x27;min_samples_split&#x27;: [2, 5, 10],\n",
       "                         &#x27;n_estimators&#x27;: [10, 50, 100, 150]},\n",
       "             verbose=2)</pre><b>In a Jupyter environment, please rerun this cell to show the HTML representation or trust the notebook. <br />On GitHub, the HTML representation is unable to render, please try loading this page with nbviewer.org.</b></div><div class=\"sk-container\" hidden><div class=\"sk-item sk-dashed-wrapped\"><div class=\"sk-label-container\"><div class=\"sk-label sk-toggleable\"><input class=\"sk-toggleable__control sk-hidden--visually\" id=\"sk-estimator-id-1\" type=\"checkbox\" ><label for=\"sk-estimator-id-1\" class=\"sk-toggleable__label sk-toggleable__label-arrow\">GridSearchCV</label><div class=\"sk-toggleable__content\"><pre>GridSearchCV(cv=5, estimator=ExtraTreesRegressor(random_state=6), n_jobs=4,\n",
       "             param_grid={&#x27;bootstrap&#x27;: [True, False],\n",
       "                         &#x27;max_depth&#x27;: [None, 10, 20, 30],\n",
       "                         &#x27;max_features&#x27;: [&#x27;auto&#x27;, &#x27;sqrt&#x27;, &#x27;log2&#x27;],\n",
       "                         &#x27;min_samples_leaf&#x27;: [1, 2, 4],\n",
       "                         &#x27;min_samples_split&#x27;: [2, 5, 10],\n",
       "                         &#x27;n_estimators&#x27;: [10, 50, 100, 150]},\n",
       "             verbose=2)</pre></div></div></div><div class=\"sk-parallel\"><div class=\"sk-parallel-item\"><div class=\"sk-item\"><div class=\"sk-label-container\"><div class=\"sk-label sk-toggleable\"><input class=\"sk-toggleable__control sk-hidden--visually\" id=\"sk-estimator-id-2\" type=\"checkbox\" ><label for=\"sk-estimator-id-2\" class=\"sk-toggleable__label sk-toggleable__label-arrow\">estimator: ExtraTreesRegressor</label><div class=\"sk-toggleable__content\"><pre>ExtraTreesRegressor(random_state=6)</pre></div></div></div><div class=\"sk-serial\"><div class=\"sk-item\"><div class=\"sk-estimator sk-toggleable\"><input class=\"sk-toggleable__control sk-hidden--visually\" id=\"sk-estimator-id-3\" type=\"checkbox\" ><label for=\"sk-estimator-id-3\" class=\"sk-toggleable__label sk-toggleable__label-arrow\">ExtraTreesRegressor</label><div class=\"sk-toggleable__content\"><pre>ExtraTreesRegressor(random_state=6)</pre></div></div></div></div></div></div></div></div></div></div>"
      ],
      "text/plain": [
       "GridSearchCV(cv=5, estimator=ExtraTreesRegressor(random_state=6), n_jobs=4,\n",
       "             param_grid={'bootstrap': [True, False],\n",
       "                         'max_depth': [None, 10, 20, 30],\n",
       "                         'max_features': ['auto', 'sqrt', 'log2'],\n",
       "                         'min_samples_leaf': [1, 2, 4],\n",
       "                         'min_samples_split': [2, 5, 10],\n",
       "                         'n_estimators': [10, 50, 100, 150]},\n",
       "             verbose=2)"
      ]
     },
     "execution_count": 6,
     "metadata": {},
     "output_type": "execute_result"
    }
   ],
   "source": [
    "# GridSearchCV for ExtraTreesRegressor\n",
    "grid_search_etr = GridSearchCV(estimator=ExtraTreesRegressor(random_state=6),\n",
    "                              param_grid=param_grid_etr, cv=5, n_jobs=N_CORES, verbose=2)\n",
    "grid_search_etr.fit(X_train, y_train)"
   ]
  },
  {
   "cell_type": "code",
   "execution_count": 7,
   "id": "41d7aaf1",
   "metadata": {},
   "outputs": [],
   "source": [
    "# Selecting the best estimator from each GridSearchCV\n",
    "best_model_etr = grid_search_etr.best_estimator_"
   ]
  },
  {
   "cell_type": "markdown",
   "id": "e202e4ca",
   "metadata": {},
   "source": [
    "# Step 1: Predict on Test Set"
   ]
  },
  {
   "cell_type": "code",
   "execution_count": 8,
   "id": "5e693f62",
   "metadata": {},
   "outputs": [],
   "source": [
    "y_pred = best_model_etr.predict(X_test)"
   ]
  },
  {
   "cell_type": "markdown",
   "id": "95675515",
   "metadata": {},
   "source": [
    "# Step 2: Calculate Performance Metrics\n",
    "\n",
    "Since this is a regression problem, you can use metrics such as Mean Absolute Error, Mean Squared Error, Root Mean Squared Error, and R-squared"
   ]
  },
  {
   "cell_type": "code",
   "execution_count": 9,
   "id": "696c4dba",
   "metadata": {},
   "outputs": [
    {
     "name": "stdout",
     "output_type": "stream",
     "text": [
      "MSE: 0.2821761863482915\n",
      "RMSE: 0.5312025850354001\n",
      "MAE: 0.2960276118444635\n",
      "R2: 0.8409090868700415\n"
     ]
    }
   ],
   "source": [
    "from sklearn.metrics import mean_squared_error, mean_absolute_error, r2_score\n",
    "\n",
    "# Calculating the metrics\n",
    "mse = mean_squared_error(y_test, y_pred)\n",
    "rmse = np.sqrt(mse)\n",
    "mae = mean_absolute_error(y_test, y_pred)\n",
    "r2 = r2_score(y_test, y_pred)\n",
    "\n",
    "print('MSE:', mse)\n",
    "print('RMSE:', rmse)\n",
    "print('MAE:', mae)\n",
    "print('R2:', r2)\n"
   ]
  },
  {
   "cell_type": "markdown",
   "id": "55a9cfd9",
   "metadata": {},
   "source": [
    "# Step 3: Analyze Residuals\n",
    "\n",
    "Analyzing the residuals (difference between the predicted and actual values) can provide insights into the behavior of your model"
   ]
  },
  {
   "cell_type": "code",
   "execution_count": 10,
   "id": "4008ba8b",
   "metadata": {},
   "outputs": [
    {
     "data": {
      "image/png": "[encoded data removed]",
      "text/plain": [
       "<Figure size 432x288 with 1 Axes>"
      ]
     },
     "metadata": {
      "needs_background": "light"
     },
     "output_type": "display_data"
    }
   ],
   "source": [
    "import matplotlib.pyplot as plt\n",
    "\n",
    "# Calculate residuals\n",
    "residuals = y_test - y_pred\n",
    "\n",
    "# Plot residuals\n",
    "plt.scatter(y_pred, residuals, alpha=0.5)\n",
    "plt.xlabel('Predicted Values')\n",
    "plt.ylabel('Residuals')\n",
    "plt.title('Residuals vs. Predicted Values')\n",
    "plt.axhline(y=0, color='r', linestyle='-')\n",
    "plt.show()"
   ]
  },
  {
   "cell_type": "markdown",
   "id": "dae3185b",
   "metadata": {},
   "source": [
    "# Step 4: Compare with Baseline \n",
    "\n",
    "It can be helpful to compare your model's performance against a simple baseline model, such as predicting the mean of the target variable for all instances. This gives you a reference point for how much your model has learned."
   ]
  },
  {
   "cell_type": "code",
   "execution_count": 11,
   "id": "9e53bbbb",
   "metadata": {},
   "outputs": [
    {
     "name": "stdout",
     "output_type": "stream",
     "text": [
      "Baseline Mean Squared Error: 1.795130876257679\n",
      "Model Mean Squared Error: 0.2821761863482915\n"
     ]
    }
   ],
   "source": [
    "# Baseline predictions (mean of target variable)\n",
    "baseline_preds = np.full_like(y_test, np.mean(y_train))\n",
    "\n",
    "# Baseline Mean Squared Error\n",
    "baseline_mse = mean_squared_error(y_test, baseline_preds)\n",
    "\n",
    "print(f\"Baseline Mean Squared Error: {baseline_mse}\")\n",
    "print(f\"Model Mean Squared Error: {mse}\")"
   ]
  },
  {
   "cell_type": "code",
   "execution_count": 12,
   "id": "e0d45d73",
   "metadata": {},
   "outputs": [
    {
     "name": "stdout",
     "output_type": "stream",
     "text": [
      "Best ExtraTreesRegressor: {'bootstrap': False, 'max_depth': None, 'max_features': 'log2', 'min_samples_leaf': 1, 'min_samples_split': 2, 'n_estimators': 100}\n"
     ]
    }
   ],
   "source": [
    "print(f\"Best ExtraTreesRegressor: {grid_search_etr.best_params_}\")"
   ]
  },
  {
   "cell_type": "markdown",
   "id": "2250b37d",
   "metadata": {},
   "source": [
    "# Maybridge"
   ]
  },
  {
   "cell_type": "code",
   "execution_count": 13,
   "id": "e6c8bb27",
   "metadata": {},
   "outputs": [
    {
     "data": {
      "text/html": [
       "<div>\n",
       "<style scoped>\n",
       "    .dataframe tbody tr th:only-of-type {\n",
       "        vertical-align: middle;\n",
       "    }\n",
       "\n",
       "    .dataframe tbody tr th {\n",
       "        vertical-align: top;\n",
       "    }\n",
       "\n",
       "    .dataframe thead th {\n",
       "        text-align: right;\n",
       "    }\n",
       "</style>\n",
       "<table border=\"1\" class=\"dataframe\">\n",
       "  <thead>\n",
       "    <tr style=\"text-align: right;\">\n",
       "      <th></th>\n",
       "      <th>SMILES</th>\n",
       "      <th>Code</th>\n",
       "    </tr>\n",
       "  </thead>\n",
       "  <tbody>\n",
       "    <tr>\n",
       "      <th>0</th>\n",
       "      <td>Fc1ccc(C(c2ccc(F)cc2)N2CCNCC2)cc1</td>\n",
       "      <td>AC10018</td>\n",
       "    </tr>\n",
       "    <tr>\n",
       "      <th>1</th>\n",
       "      <td>CSc1nc(N)nc2nc[nH]c12</td>\n",
       "      <td>AC12157</td>\n",
       "    </tr>\n",
       "    <tr>\n",
       "      <th>2</th>\n",
       "      <td>CN(C)Cc1c[nH]c2ccc(OCc3ccccc3)cc12</td>\n",
       "      <td>AC13917</td>\n",
       "    </tr>\n",
       "    <tr>\n",
       "      <th>3</th>\n",
       "      <td>O=C(O)c1ccc(Br)o1</td>\n",
       "      <td>AC27191</td>\n",
       "    </tr>\n",
       "    <tr>\n",
       "      <th>4</th>\n",
       "      <td>NC(Cc1c[nH]c2ccc(Br)cc12)C(=O)O</td>\n",
       "      <td>AC29806</td>\n",
       "    </tr>\n",
       "    <tr>\n",
       "      <th>...</th>\n",
       "      <td>...</td>\n",
       "      <td>...</td>\n",
       "    </tr>\n",
       "    <tr>\n",
       "      <th>51768</th>\n",
       "      <td>CCO/C(C)=N/Oc1ccc([N+](=O)[O-])cc1[N+](=O)[O-]</td>\n",
       "      <td>S14814</td>\n",
       "    </tr>\n",
       "    <tr>\n",
       "      <th>51769</th>\n",
       "      <td>O=C1c2ccccc2C(=O)N1Oc1ccc([N+](=O)[O-])c([N+](...</td>\n",
       "      <td>S14839</td>\n",
       "    </tr>\n",
       "    <tr>\n",
       "      <th>51770</th>\n",
       "      <td>O=[N+]([O-])c1ccc2nc(-c3ccccc3)c(-c3ccccc3)nc2c1</td>\n",
       "      <td>S14896</td>\n",
       "    </tr>\n",
       "    <tr>\n",
       "      <th>51771</th>\n",
       "      <td>CCOC(=O)C1=C(C)NC(C)=C(C(=O)OCC)C1/C=C/c1ccccc1</td>\n",
       "      <td>SPB05721</td>\n",
       "    </tr>\n",
       "    <tr>\n",
       "      <th>51772</th>\n",
       "      <td>CCOC(=O)C1=C(C)NC(C)=C(C(=O)OCC)C1c1cccc([N+](...</td>\n",
       "      <td>S14916</td>\n",
       "    </tr>\n",
       "  </tbody>\n",
       "</table>\n",
       "<p>51773 rows × 2 columns</p>\n",
       "</div>"
      ],
      "text/plain": [
       "                                                  SMILES      Code\n",
       "0                      Fc1ccc(C(c2ccc(F)cc2)N2CCNCC2)cc1   AC10018\n",
       "1                                  CSc1nc(N)nc2nc[nH]c12   AC12157\n",
       "2                     CN(C)Cc1c[nH]c2ccc(OCc3ccccc3)cc12   AC13917\n",
       "3                                      O=C(O)c1ccc(Br)o1   AC27191\n",
       "4                        NC(Cc1c[nH]c2ccc(Br)cc12)C(=O)O   AC29806\n",
       "...                                                  ...       ...\n",
       "51768     CCO/C(C)=N/Oc1ccc([N+](=O)[O-])cc1[N+](=O)[O-]    S14814\n",
       "51769  O=C1c2ccccc2C(=O)N1Oc1ccc([N+](=O)[O-])c([N+](...    S14839\n",
       "51770   O=[N+]([O-])c1ccc2nc(-c3ccccc3)c(-c3ccccc3)nc2c1    S14896\n",
       "51771    CCOC(=O)C1=C(C)NC(C)=C(C(=O)OCC)C1/C=C/c1ccccc1  SPB05721\n",
       "51772  CCOC(=O)C1=C(C)NC(C)=C(C(=O)OCC)C1c1cccc([N+](...    S14916\n",
       "\n",
       "[51773 rows x 2 columns]"
      ]
     },
     "execution_count": 13,
     "metadata": {},
     "output_type": "execute_result"
    }
   ],
   "source": [
    "maybridge_data = pd.read_csv(\"maybridge/Maybridge.csv\")\n",
    "maybridge_data"
   ]
  },
  {
   "cell_type": "code",
   "execution_count": 14,
   "id": "ce272c31",
   "metadata": {},
   "outputs": [
    {
     "data": {
      "text/plain": [
       "(51773, 881)"
      ]
     },
     "execution_count": 14,
     "metadata": {},
     "output_type": "execute_result"
    }
   ],
   "source": [
    "descriptors = pd.read_csv('maybridge/out.csv', index_col = 0)\n",
    "descriptors.shape"
   ]
  },
  {
   "cell_type": "code",
   "execution_count": 15,
   "id": "0584b8fd",
   "metadata": {},
   "outputs": [
    {
     "data": {
      "text/plain": [
       "(51773, 155)"
      ]
     },
     "execution_count": 15,
     "metadata": {},
     "output_type": "execute_result"
    }
   ],
   "source": [
    "descriptors = selection.transform(descriptors)\n",
    "descriptors.shape"
   ]
  },
  {
   "cell_type": "code",
   "execution_count": 16,
   "id": "68ff7639",
   "metadata": {},
   "outputs": [],
   "source": [
    "# Apply the imputer to fill NaN values with the mean of each column\n",
    "from sklearn.impute import SimpleImputer\n",
    "\n",
    "imputer = SimpleImputer(strategy='mean')\n",
    "descriptors_imputed = imputer.fit_transform(descriptors)"
   ]
  },
  {
   "cell_type": "code",
   "execution_count": 17,
   "id": "4509ebd3",
   "metadata": {
    "scrolled": true
   },
   "outputs": [],
   "source": [
    "# Step 3: Make Predictions\n",
    "predicted_pic50 = best_model_etr.predict(descriptors_imputed)"
   ]
  },
  {
   "cell_type": "code",
   "execution_count": 18,
   "id": "722edffd",
   "metadata": {},
   "outputs": [],
   "source": [
    "# Step 4: Analyze Results\n",
    "# Append predictions to the Maybridge data\n",
    "maybridge_data[\"predicted_pic50\"] = predicted_pic50"
   ]
  },
  {
   "cell_type": "code",
   "execution_count": 19,
   "id": "42a6dc4e",
   "metadata": {},
   "outputs": [
    {
     "data": {
      "text/html": [
       "<div>\n",
       "<style scoped>\n",
       "    .dataframe tbody tr th:only-of-type {\n",
       "        vertical-align: middle;\n",
       "    }\n",
       "\n",
       "    .dataframe tbody tr th {\n",
       "        vertical-align: top;\n",
       "    }\n",
       "\n",
       "    .dataframe thead th {\n",
       "        text-align: right;\n",
       "    }\n",
       "</style>\n",
       "<table border=\"1\" class=\"dataframe\">\n",
       "  <thead>\n",
       "    <tr style=\"text-align: right;\">\n",
       "      <th></th>\n",
       "      <th>SMILES</th>\n",
       "      <th>Code</th>\n",
       "      <th>predicted_pic50</th>\n",
       "    </tr>\n",
       "  </thead>\n",
       "  <tbody>\n",
       "    <tr>\n",
       "      <th>0</th>\n",
       "      <td>Fc1ccc(C(c2ccc(F)cc2)N2CCNCC2)cc1</td>\n",
       "      <td>AC10018</td>\n",
       "      <td>4.867591</td>\n",
       "    </tr>\n",
       "    <tr>\n",
       "      <th>1</th>\n",
       "      <td>CSc1nc(N)nc2nc[nH]c12</td>\n",
       "      <td>AC12157</td>\n",
       "      <td>4.991466</td>\n",
       "    </tr>\n",
       "    <tr>\n",
       "      <th>2</th>\n",
       "      <td>CN(C)Cc1c[nH]c2ccc(OCc3ccccc3)cc12</td>\n",
       "      <td>AC13917</td>\n",
       "      <td>5.256599</td>\n",
       "    </tr>\n",
       "    <tr>\n",
       "      <th>3</th>\n",
       "      <td>O=C(O)c1ccc(Br)o1</td>\n",
       "      <td>AC27191</td>\n",
       "      <td>5.072727</td>\n",
       "    </tr>\n",
       "    <tr>\n",
       "      <th>4</th>\n",
       "      <td>NC(Cc1c[nH]c2ccc(Br)cc12)C(=O)O</td>\n",
       "      <td>AC29806</td>\n",
       "      <td>5.653042</td>\n",
       "    </tr>\n",
       "    <tr>\n",
       "      <th>...</th>\n",
       "      <td>...</td>\n",
       "      <td>...</td>\n",
       "      <td>...</td>\n",
       "    </tr>\n",
       "    <tr>\n",
       "      <th>51768</th>\n",
       "      <td>CCO/C(C)=N/Oc1ccc([N+](=O)[O-])cc1[N+](=O)[O-]</td>\n",
       "      <td>S14814</td>\n",
       "      <td>5.031755</td>\n",
       "    </tr>\n",
       "    <tr>\n",
       "      <th>51769</th>\n",
       "      <td>O=C1c2ccccc2C(=O)N1Oc1ccc([N+](=O)[O-])c([N+](...</td>\n",
       "      <td>S14839</td>\n",
       "      <td>5.440425</td>\n",
       "    </tr>\n",
       "    <tr>\n",
       "      <th>51770</th>\n",
       "      <td>O=[N+]([O-])c1ccc2nc(-c3ccccc3)c(-c3ccccc3)nc2c1</td>\n",
       "      <td>S14896</td>\n",
       "      <td>5.352169</td>\n",
       "    </tr>\n",
       "    <tr>\n",
       "      <th>51771</th>\n",
       "      <td>CCOC(=O)C1=C(C)NC(C)=C(C(=O)OCC)C1/C=C/c1ccccc1</td>\n",
       "      <td>SPB05721</td>\n",
       "      <td>5.020930</td>\n",
       "    </tr>\n",
       "    <tr>\n",
       "      <th>51772</th>\n",
       "      <td>CCOC(=O)C1=C(C)NC(C)=C(C(=O)OCC)C1c1cccc([N+](...</td>\n",
       "      <td>S14916</td>\n",
       "      <td>5.245473</td>\n",
       "    </tr>\n",
       "  </tbody>\n",
       "</table>\n",
       "<p>51773 rows × 3 columns</p>\n",
       "</div>"
      ],
      "text/plain": [
       "                                                  SMILES      Code  \\\n",
       "0                      Fc1ccc(C(c2ccc(F)cc2)N2CCNCC2)cc1   AC10018   \n",
       "1                                  CSc1nc(N)nc2nc[nH]c12   AC12157   \n",
       "2                     CN(C)Cc1c[nH]c2ccc(OCc3ccccc3)cc12   AC13917   \n",
       "3                                      O=C(O)c1ccc(Br)o1   AC27191   \n",
       "4                        NC(Cc1c[nH]c2ccc(Br)cc12)C(=O)O   AC29806   \n",
       "...                                                  ...       ...   \n",
       "51768     CCO/C(C)=N/Oc1ccc([N+](=O)[O-])cc1[N+](=O)[O-]    S14814   \n",
       "51769  O=C1c2ccccc2C(=O)N1Oc1ccc([N+](=O)[O-])c([N+](...    S14839   \n",
       "51770   O=[N+]([O-])c1ccc2nc(-c3ccccc3)c(-c3ccccc3)nc2c1    S14896   \n",
       "51771    CCOC(=O)C1=C(C)NC(C)=C(C(=O)OCC)C1/C=C/c1ccccc1  SPB05721   \n",
       "51772  CCOC(=O)C1=C(C)NC(C)=C(C(=O)OCC)C1c1cccc([N+](...    S14916   \n",
       "\n",
       "       predicted_pic50  \n",
       "0             4.867591  \n",
       "1             4.991466  \n",
       "2             5.256599  \n",
       "3             5.072727  \n",
       "4             5.653042  \n",
       "...                ...  \n",
       "51768         5.031755  \n",
       "51769         5.440425  \n",
       "51770         5.352169  \n",
       "51771         5.020930  \n",
       "51772         5.245473  \n",
       "\n",
       "[51773 rows x 3 columns]"
      ]
     },
     "execution_count": 19,
     "metadata": {},
     "output_type": "execute_result"
    }
   ],
   "source": [
    "maybridge_data"
   ]
  },
  {
   "cell_type": "code",
   "execution_count": 20,
   "id": "696afcbe",
   "metadata": {},
   "outputs": [],
   "source": [
    "# Identify potent inhibitors\n",
    "threshold = 6 # Define a threshold for pic50 values \n",
    "potent_inhibitors = maybridge_data[maybridge_data[\"predicted_pic50\"] >= threshold]"
   ]
  },
  {
   "cell_type": "code",
   "execution_count": 21,
   "id": "0391bf4e",
   "metadata": {},
   "outputs": [
    {
     "data": {
      "text/html": [
       "<div>\n",
       "<style scoped>\n",
       "    .dataframe tbody tr th:only-of-type {\n",
       "        vertical-align: middle;\n",
       "    }\n",
       "\n",
       "    .dataframe tbody tr th {\n",
       "        vertical-align: top;\n",
       "    }\n",
       "\n",
       "    .dataframe thead th {\n",
       "        text-align: right;\n",
       "    }\n",
       "</style>\n",
       "<table border=\"1\" class=\"dataframe\">\n",
       "  <thead>\n",
       "    <tr style=\"text-align: right;\">\n",
       "      <th></th>\n",
       "      <th>SMILES</th>\n",
       "      <th>Code</th>\n",
       "      <th>predicted_pic50</th>\n",
       "    </tr>\n",
       "  </thead>\n",
       "  <tbody>\n",
       "    <tr>\n",
       "      <th>66</th>\n",
       "      <td>O=C(Nc1ccc(-n2nccc2C(F)(F)F)cc1)c1ccc(Cl)cc1</td>\n",
       "      <td>AW00193</td>\n",
       "      <td>6.198511</td>\n",
       "    </tr>\n",
       "    <tr>\n",
       "      <th>108</th>\n",
       "      <td>O=S(=O)(Nc1ccc(Oc2ccc(OC(F)(F)F)cc2)cc1)c1cc(C...</td>\n",
       "      <td>EN00044</td>\n",
       "      <td>6.222803</td>\n",
       "    </tr>\n",
       "    <tr>\n",
       "      <th>109</th>\n",
       "      <td>O=S(=O)(Nc1ccc(Oc2ccc(OC(F)(F)F)cc2)cc1)c1cccc...</td>\n",
       "      <td>EN00072</td>\n",
       "      <td>6.222803</td>\n",
       "    </tr>\n",
       "    <tr>\n",
       "      <th>110</th>\n",
       "      <td>CC(=O)Nc1ccc(S(=O)(=O)Nc2ccc(Oc3ccc(OC(F)(F)F)...</td>\n",
       "      <td>EN00095</td>\n",
       "      <td>6.520359</td>\n",
       "    </tr>\n",
       "    <tr>\n",
       "      <th>250</th>\n",
       "      <td>CC(=O)Nc1ccc(S(=O)(=O)Nc2ccc(Oc3ccc(OC(F)(F)F)...</td>\n",
       "      <td>AW00256</td>\n",
       "      <td>6.520359</td>\n",
       "    </tr>\n",
       "    <tr>\n",
       "      <th>...</th>\n",
       "      <td>...</td>\n",
       "      <td>...</td>\n",
       "      <td>...</td>\n",
       "    </tr>\n",
       "    <tr>\n",
       "      <th>51460</th>\n",
       "      <td>O=C(Nc1cccnc1Cl)c1ccccc1</td>\n",
       "      <td>S14430</td>\n",
       "      <td>6.129581</td>\n",
       "    </tr>\n",
       "    <tr>\n",
       "      <th>51461</th>\n",
       "      <td>O=C(Nc1cccnc1Cl)c1cccnc1Cl</td>\n",
       "      <td>S14447</td>\n",
       "      <td>6.036815</td>\n",
       "    </tr>\n",
       "    <tr>\n",
       "      <th>51468</th>\n",
       "      <td>CS(=O)(=O)c1ccc(C(=O)Nc2ccccc2Cl)cc1</td>\n",
       "      <td>S14384</td>\n",
       "      <td>6.165817</td>\n",
       "    </tr>\n",
       "    <tr>\n",
       "      <th>51469</th>\n",
       "      <td>CS(=O)(=O)c1ccc(C(=O)Nc2cccc(Cl)c2)cc1</td>\n",
       "      <td>S14416</td>\n",
       "      <td>6.165817</td>\n",
       "    </tr>\n",
       "    <tr>\n",
       "      <th>51473</th>\n",
       "      <td>O=C(Nc1ccc(Cl)cc1)C1=C2C(=C(c3ccccc3)C=C(c3ccc...</td>\n",
       "      <td>S14489</td>\n",
       "      <td>6.080416</td>\n",
       "    </tr>\n",
       "  </tbody>\n",
       "</table>\n",
       "<p>1622 rows × 3 columns</p>\n",
       "</div>"
      ],
      "text/plain": [
       "                                                  SMILES     Code  \\\n",
       "66          O=C(Nc1ccc(-n2nccc2C(F)(F)F)cc1)c1ccc(Cl)cc1  AW00193   \n",
       "108    O=S(=O)(Nc1ccc(Oc2ccc(OC(F)(F)F)cc2)cc1)c1cc(C...  EN00044   \n",
       "109    O=S(=O)(Nc1ccc(Oc2ccc(OC(F)(F)F)cc2)cc1)c1cccc...  EN00072   \n",
       "110    CC(=O)Nc1ccc(S(=O)(=O)Nc2ccc(Oc3ccc(OC(F)(F)F)...  EN00095   \n",
       "250    CC(=O)Nc1ccc(S(=O)(=O)Nc2ccc(Oc3ccc(OC(F)(F)F)...  AW00256   \n",
       "...                                                  ...      ...   \n",
       "51460                           O=C(Nc1cccnc1Cl)c1ccccc1   S14430   \n",
       "51461                         O=C(Nc1cccnc1Cl)c1cccnc1Cl   S14447   \n",
       "51468               CS(=O)(=O)c1ccc(C(=O)Nc2ccccc2Cl)cc1   S14384   \n",
       "51469             CS(=O)(=O)c1ccc(C(=O)Nc2cccc(Cl)c2)cc1   S14416   \n",
       "51473  O=C(Nc1ccc(Cl)cc1)C1=C2C(=C(c3ccccc3)C=C(c3ccc...   S14489   \n",
       "\n",
       "       predicted_pic50  \n",
       "66            6.198511  \n",
       "108           6.222803  \n",
       "109           6.222803  \n",
       "110           6.520359  \n",
       "250           6.520359  \n",
       "...                ...  \n",
       "51460         6.129581  \n",
       "51461         6.036815  \n",
       "51468         6.165817  \n",
       "51469         6.165817  \n",
       "51473         6.080416  \n",
       "\n",
       "[1622 rows x 3 columns]"
      ]
     },
     "execution_count": 21,
     "metadata": {},
     "output_type": "execute_result"
    }
   ],
   "source": [
    "potent_inhibitors"
   ]
  },
  {
   "cell_type": "code",
   "execution_count": 22,
   "id": "3b74c009",
   "metadata": {
    "scrolled": true
   },
   "outputs": [
    {
     "data": {
      "text/html": [
       "<div>\n",
       "<style scoped>\n",
       "    .dataframe tbody tr th:only-of-type {\n",
       "        vertical-align: middle;\n",
       "    }\n",
       "\n",
       "    .dataframe tbody tr th {\n",
       "        vertical-align: top;\n",
       "    }\n",
       "\n",
       "    .dataframe thead th {\n",
       "        text-align: right;\n",
       "    }\n",
       "</style>\n",
       "<table border=\"1\" class=\"dataframe\">\n",
       "  <thead>\n",
       "    <tr style=\"text-align: right;\">\n",
       "      <th></th>\n",
       "      <th>SMILES</th>\n",
       "      <th>Code</th>\n",
       "      <th>predicted_pic50</th>\n",
       "    </tr>\n",
       "  </thead>\n",
       "  <tbody>\n",
       "    <tr>\n",
       "      <th>31216</th>\n",
       "      <td>O=C(COc1ccc(S(=O)(=O)Nc2ccccc2)cc1Cl)c1ccccc1</td>\n",
       "      <td>NH00210</td>\n",
       "      <td>7.227183</td>\n",
       "    </tr>\n",
       "    <tr>\n",
       "      <th>1965</th>\n",
       "      <td>Cc1onc(-c2c(Cl)cccc2Cl)c1C(=O)Nc1cccc(C#N)c1</td>\n",
       "      <td>CD00823</td>\n",
       "      <td>6.912466</td>\n",
       "    </tr>\n",
       "    <tr>\n",
       "      <th>9078</th>\n",
       "      <td>Cc1onc(-c2c(F)cccc2Cl)c1C(=O)Nc1cc(C(F)(F)F)cc...</td>\n",
       "      <td>HTS01341</td>\n",
       "      <td>6.912466</td>\n",
       "    </tr>\n",
       "    <tr>\n",
       "      <th>9656</th>\n",
       "      <td>C#Cc1cccc(NC(=O)c2c(-c3c(Cl)cccc3Cl)noc2C)c1</td>\n",
       "      <td>BTB05364</td>\n",
       "      <td>6.912466</td>\n",
       "    </tr>\n",
       "    <tr>\n",
       "      <th>12011</th>\n",
       "      <td>C/C(=N\\O)c1ccc(Cl)c(NC(=O)c2c(-c3ccccc3Cl)noc2...</td>\n",
       "      <td>BTB07062</td>\n",
       "      <td>6.909965</td>\n",
       "    </tr>\n",
       "    <tr>\n",
       "      <th>...</th>\n",
       "      <td>...</td>\n",
       "      <td>...</td>\n",
       "      <td>...</td>\n",
       "    </tr>\n",
       "    <tr>\n",
       "      <th>4438</th>\n",
       "      <td>COc1c(Cl)cc(Cl)c(OC)c1C(=O)NC(=O)Nc1cc(C(F)(F)...</td>\n",
       "      <td>CD02346</td>\n",
       "      <td>6.000530</td>\n",
       "    </tr>\n",
       "    <tr>\n",
       "      <th>15556</th>\n",
       "      <td>Cc1noc(C)c1C(=O)NNc1cc(Cl)ccc1Cl</td>\n",
       "      <td>SPB02841</td>\n",
       "      <td>6.000424</td>\n",
       "    </tr>\n",
       "    <tr>\n",
       "      <th>48311</th>\n",
       "      <td>CC(C)c1ccc(NC(=O)CSc2ncc(-c3ccc(Cl)cc3)n2C)cc1</td>\n",
       "      <td>RJC02218</td>\n",
       "      <td>6.000410</td>\n",
       "    </tr>\n",
       "    <tr>\n",
       "      <th>22068</th>\n",
       "      <td>Cc1cc(C)c2c3c(sc2n1)C(=O)N(c1ccc(Cl)cc1)CC(=O)N3</td>\n",
       "      <td>DP00704</td>\n",
       "      <td>6.000263</td>\n",
       "    </tr>\n",
       "    <tr>\n",
       "      <th>22066</th>\n",
       "      <td>Cc1cc(C)c2c3c(sc2n1)C(=O)N(c1cccc(Cl)c1)CC(=O)N3</td>\n",
       "      <td>DP00671</td>\n",
       "      <td>6.000263</td>\n",
       "    </tr>\n",
       "  </tbody>\n",
       "</table>\n",
       "<p>1622 rows × 3 columns</p>\n",
       "</div>"
      ],
      "text/plain": [
       "                                                  SMILES      Code  \\\n",
       "31216      O=C(COc1ccc(S(=O)(=O)Nc2ccccc2)cc1Cl)c1ccccc1   NH00210   \n",
       "1965        Cc1onc(-c2c(Cl)cccc2Cl)c1C(=O)Nc1cccc(C#N)c1   CD00823   \n",
       "9078   Cc1onc(-c2c(F)cccc2Cl)c1C(=O)Nc1cc(C(F)(F)F)cc...  HTS01341   \n",
       "9656        C#Cc1cccc(NC(=O)c2c(-c3c(Cl)cccc3Cl)noc2C)c1  BTB05364   \n",
       "12011  C/C(=N\\O)c1ccc(Cl)c(NC(=O)c2c(-c3ccccc3Cl)noc2...  BTB07062   \n",
       "...                                                  ...       ...   \n",
       "4438   COc1c(Cl)cc(Cl)c(OC)c1C(=O)NC(=O)Nc1cc(C(F)(F)...   CD02346   \n",
       "15556                   Cc1noc(C)c1C(=O)NNc1cc(Cl)ccc1Cl  SPB02841   \n",
       "48311     CC(C)c1ccc(NC(=O)CSc2ncc(-c3ccc(Cl)cc3)n2C)cc1  RJC02218   \n",
       "22068   Cc1cc(C)c2c3c(sc2n1)C(=O)N(c1ccc(Cl)cc1)CC(=O)N3   DP00704   \n",
       "22066   Cc1cc(C)c2c3c(sc2n1)C(=O)N(c1cccc(Cl)c1)CC(=O)N3   DP00671   \n",
       "\n",
       "       predicted_pic50  \n",
       "31216         7.227183  \n",
       "1965          6.912466  \n",
       "9078          6.912466  \n",
       "9656          6.912466  \n",
       "12011         6.909965  \n",
       "...                ...  \n",
       "4438          6.000530  \n",
       "15556         6.000424  \n",
       "48311         6.000410  \n",
       "22068         6.000263  \n",
       "22066         6.000263  \n",
       "\n",
       "[1622 rows x 3 columns]"
      ]
     },
     "execution_count": 22,
     "metadata": {},
     "output_type": "execute_result"
    }
   ],
   "source": [
    "# Sort the potent_inhibitors DataFrame based on \"predicted_pic50\" in descending order\n",
    "sorted_potent_inhibitors = potent_inhibitors.sort_values(by=\"predicted_pic50\", ascending=False)\n",
    "sorted_potent_inhibitors"
   ]
  },
  {
   "cell_type": "code",
   "execution_count": 23,
   "id": "a4dfc4e3",
   "metadata": {},
   "outputs": [
    {
     "data": {
      "text/plain": [
       "count    1622.000000\n",
       "mean        6.184726\n",
       "std         0.172677\n",
       "min         6.000263\n",
       "25%         6.056078\n",
       "50%         6.131697\n",
       "75%         6.258610\n",
       "max         7.227183\n",
       "Name: predicted_pic50, dtype: float64"
      ]
     },
     "execution_count": 23,
     "metadata": {},
     "output_type": "execute_result"
    }
   ],
   "source": [
    "sorted_potent_inhibitors.predicted_pic50.describe()"
   ]
  },
  {
   "cell_type": "code",
   "execution_count": 24,
   "id": "a3267998",
   "metadata": {},
   "outputs": [
    {
     "data": {
      "image/png": "[encoded data removed]",
      "text/plain": [
       "<Figure size 432x288 with 1 Axes>"
      ]
     },
     "metadata": {
      "needs_background": "light"
     },
     "output_type": "display_data"
    }
   ],
   "source": [
    "import matplotlib.pyplot as plt\n",
    "import seaborn as sns\n",
    "\n",
    "sns.histplot(data=potent_inhibitors, x='predicted_pic50', kde=False, bins=100)\n",
    "\n",
    "# Set the title and labels for the plot\n",
    "plt.title('Frequency Distribution Plot of Potent Predicted pIC50 with ETR')\n",
    "plt.xlabel('pIC50')\n",
    "plt.ylabel('Frequency')\n",
    "\n",
    "\n",
    "plt.savefig('figures/potent_predicted_etr.png')\n",
    "# Show the plot\n",
    "plt.show()"
   ]
  },
  {
   "cell_type": "code",
   "execution_count": 25,
   "id": "0dec9baf",
   "metadata": {},
   "outputs": [],
   "source": [
    "# Save the potent inhibitors to a CSV file\n",
    "potent_inhibitors.to_csv(\"maybridge/etr_potent_p2x4_inhibitors.csv\", index=False)"
   ]
  },
  {
   "cell_type": "code",
   "execution_count": null,
   "id": "01a7145c",
   "metadata": {},
   "outputs": [],
   "source": []
  },
  {
   "cell_type": "code",
   "execution_count": 26,
   "id": "f0e13fa4",
   "metadata": {},
   "outputs": [
    {
     "data": {
      "text/html": [
       "<div>\n",
       "<style scoped>\n",
       "    .dataframe tbody tr th:only-of-type {\n",
       "        vertical-align: middle;\n",
       "    }\n",
       "\n",
       "    .dataframe tbody tr th {\n",
       "        vertical-align: top;\n",
       "    }\n",
       "\n",
       "    .dataframe thead th {\n",
       "        text-align: right;\n",
       "    }\n",
       "</style>\n",
       "<table border=\"1\" class=\"dataframe\">\n",
       "  <thead>\n",
       "    <tr style=\"text-align: right;\">\n",
       "      <th></th>\n",
       "      <th>smiles</th>\n",
       "    </tr>\n",
       "  </thead>\n",
       "  <tbody>\n",
       "    <tr>\n",
       "      <th>0</th>\n",
       "      <td>O=C(Nc1ccccc1Cl)c1ccc(-c2ccccn2)s1</td>\n",
       "    </tr>\n",
       "    <tr>\n",
       "      <th>1</th>\n",
       "      <td>O=C(Nc1ccccc1Sc1nc2ccc(Cl)cc2s1)c1ccc(F)cc1</td>\n",
       "    </tr>\n",
       "    <tr>\n",
       "      <th>2</th>\n",
       "      <td>COC(=O)c1cccc(NC(=O)c2ccc(Cl)cc2)c1</td>\n",
       "    </tr>\n",
       "    <tr>\n",
       "      <th>3</th>\n",
       "      <td>N#Cc1ccc(-c2c(NC(=O)NS(=O)(=O)c3ccccc3Cl)oc(-c...</td>\n",
       "    </tr>\n",
       "    <tr>\n",
       "      <th>4</th>\n",
       "      <td>Cc1onc(-c2ccccc2)c1C(=O)Nc1ccc(C(F)(F)F)cc1Cl</td>\n",
       "    </tr>\n",
       "    <tr>\n",
       "      <th>...</th>\n",
       "      <td>...</td>\n",
       "    </tr>\n",
       "    <tr>\n",
       "      <th>383</th>\n",
       "      <td>Cc1cc(NS(=O)(=O)c2ccc(NC(=O)c3ccccc3Cl)cc2)no1</td>\n",
       "    </tr>\n",
       "    <tr>\n",
       "      <th>384</th>\n",
       "      <td>O=C(Nc1cccc(-c2nc3ccccc3[nH]2)c1)c1ccc(F)cc1</td>\n",
       "    </tr>\n",
       "    <tr>\n",
       "      <th>385</th>\n",
       "      <td>O=C(Nc1ccc(NC(=S)Nc2ccc(Cl)cc2)cc1)c1ccccc1O</td>\n",
       "    </tr>\n",
       "    <tr>\n",
       "      <th>386</th>\n",
       "      <td>Cc1c(CC(=O)Nc2ccc(Cl)cc2)sc2ccc(Cl)cc12</td>\n",
       "    </tr>\n",
       "    <tr>\n",
       "      <th>387</th>\n",
       "      <td>Cc1ccc(C(=O)Nc2cccc(-c3nc4ccccc4[nH]3)c2)cc1</td>\n",
       "    </tr>\n",
       "  </tbody>\n",
       "</table>\n",
       "<p>388 rows × 1 columns</p>\n",
       "</div>"
      ],
      "text/plain": [
       "                                                smiles\n",
       "0                   O=C(Nc1ccccc1Cl)c1ccc(-c2ccccn2)s1\n",
       "1          O=C(Nc1ccccc1Sc1nc2ccc(Cl)cc2s1)c1ccc(F)cc1\n",
       "2                  COC(=O)c1cccc(NC(=O)c2ccc(Cl)cc2)c1\n",
       "3    N#Cc1ccc(-c2c(NC(=O)NS(=O)(=O)c3ccccc3Cl)oc(-c...\n",
       "4        Cc1onc(-c2ccccc2)c1C(=O)Nc1ccc(C(F)(F)F)cc1Cl\n",
       "..                                                 ...\n",
       "383     Cc1cc(NS(=O)(=O)c2ccc(NC(=O)c3ccccc3Cl)cc2)no1\n",
       "384       O=C(Nc1cccc(-c2nc3ccccc3[nH]2)c1)c1ccc(F)cc1\n",
       "385       O=C(Nc1ccc(NC(=S)Nc2ccc(Cl)cc2)cc1)c1ccccc1O\n",
       "386            Cc1c(CC(=O)Nc2ccc(Cl)cc2)sc2ccc(Cl)cc12\n",
       "387       Cc1ccc(C(=O)Nc2cccc(-c3nc4ccccc4[nH]3)c2)cc1\n",
       "\n",
       "[388 rows x 1 columns]"
      ]
     },
     "execution_count": 26,
     "metadata": {},
     "output_type": "execute_result"
    }
   ],
   "source": [
    "# 1. Load the common potent inhibitors\n",
    "common_df = pd.read_csv(\"maybridge/common_potent_inhibitors.csv\")\n",
    "common_df"
   ]
  },
  {
   "cell_type": "code",
   "execution_count": 27,
   "id": "dafdeb15",
   "metadata": {
    "scrolled": false
   },
   "outputs": [
    {
     "data": {
      "text/html": [
       "<div>\n",
       "<style scoped>\n",
       "    .dataframe tbody tr th:only-of-type {\n",
       "        vertical-align: middle;\n",
       "    }\n",
       "\n",
       "    .dataframe tbody tr th {\n",
       "        vertical-align: top;\n",
       "    }\n",
       "\n",
       "    .dataframe thead th {\n",
       "        text-align: right;\n",
       "    }\n",
       "</style>\n",
       "<table border=\"1\" class=\"dataframe\">\n",
       "  <thead>\n",
       "    <tr style=\"text-align: right;\">\n",
       "      <th></th>\n",
       "      <th>SMILES</th>\n",
       "      <th>Code</th>\n",
       "      <th>predicted_pic50</th>\n",
       "    </tr>\n",
       "  </thead>\n",
       "  <tbody>\n",
       "    <tr>\n",
       "      <th>66</th>\n",
       "      <td>O=C(Nc1ccc(-n2nccc2C(F)(F)F)cc1)c1ccc(Cl)cc1</td>\n",
       "      <td>AW00193</td>\n",
       "      <td>6.198511</td>\n",
       "    </tr>\n",
       "    <tr>\n",
       "      <th>110</th>\n",
       "      <td>CC(=O)Nc1ccc(S(=O)(=O)Nc2ccc(Oc3ccc(OC(F)(F)F)...</td>\n",
       "      <td>EN00095</td>\n",
       "      <td>6.520359</td>\n",
       "    </tr>\n",
       "    <tr>\n",
       "      <th>250</th>\n",
       "      <td>CC(=O)Nc1ccc(S(=O)(=O)Nc2ccc(Oc3ccc(OC(F)(F)F)...</td>\n",
       "      <td>AW00256</td>\n",
       "      <td>6.520359</td>\n",
       "    </tr>\n",
       "    <tr>\n",
       "      <th>650</th>\n",
       "      <td>CC(=O)Nc1cccc(OCCCNS(=O)(=O)c2ccc(N3C(=O)CC4(C...</td>\n",
       "      <td>AW00490</td>\n",
       "      <td>6.483043</td>\n",
       "    </tr>\n",
       "    <tr>\n",
       "      <th>758</th>\n",
       "      <td>O=C(NCCNS(=O)(=O)c1ccc(Cl)cc1)C1=Cc2cc(Cl)ccc2OC1</td>\n",
       "      <td>GK00081</td>\n",
       "      <td>6.476321</td>\n",
       "    </tr>\n",
       "    <tr>\n",
       "      <th>...</th>\n",
       "      <td>...</td>\n",
       "      <td>...</td>\n",
       "      <td>...</td>\n",
       "    </tr>\n",
       "    <tr>\n",
       "      <th>49720</th>\n",
       "      <td>Cc1onc(-c2ccc(Cl)cc2)c1-c1ccnc(SCC(=O)Nc2ccc(C...</td>\n",
       "      <td>S10227</td>\n",
       "      <td>6.490555</td>\n",
       "    </tr>\n",
       "    <tr>\n",
       "      <th>49780</th>\n",
       "      <td>Cc1cc(-c2nc(C)c(-c3nnc(SCC(=O)Nc4ccc(C(C)C)cc4...</td>\n",
       "      <td>S15050</td>\n",
       "      <td>6.084289</td>\n",
       "    </tr>\n",
       "    <tr>\n",
       "      <th>50705</th>\n",
       "      <td>CCOC(=O)c1cc2c(NC(=O)c3ccc(Cl)cc3)c(C(=O)OCC)s...</td>\n",
       "      <td>RJF02129</td>\n",
       "      <td>6.078559</td>\n",
       "    </tr>\n",
       "    <tr>\n",
       "      <th>51287</th>\n",
       "      <td>O=C(Cc1ccccc1)Nc1ccc(Cl)cc1</td>\n",
       "      <td>S13395</td>\n",
       "      <td>6.219604</td>\n",
       "    </tr>\n",
       "    <tr>\n",
       "      <th>51302</th>\n",
       "      <td>COc1ccc(NC(=O)c2c(-c3c(Cl)cccc3Cl)noc2C)cn1</td>\n",
       "      <td>S13944</td>\n",
       "      <td>6.238471</td>\n",
       "    </tr>\n",
       "  </tbody>\n",
       "</table>\n",
       "<p>394 rows × 3 columns</p>\n",
       "</div>"
      ],
      "text/plain": [
       "                                                  SMILES      Code  \\\n",
       "66          O=C(Nc1ccc(-n2nccc2C(F)(F)F)cc1)c1ccc(Cl)cc1   AW00193   \n",
       "110    CC(=O)Nc1ccc(S(=O)(=O)Nc2ccc(Oc3ccc(OC(F)(F)F)...   EN00095   \n",
       "250    CC(=O)Nc1ccc(S(=O)(=O)Nc2ccc(Oc3ccc(OC(F)(F)F)...   AW00256   \n",
       "650    CC(=O)Nc1cccc(OCCCNS(=O)(=O)c2ccc(N3C(=O)CC4(C...   AW00490   \n",
       "758    O=C(NCCNS(=O)(=O)c1ccc(Cl)cc1)C1=Cc2cc(Cl)ccc2OC1   GK00081   \n",
       "...                                                  ...       ...   \n",
       "49720  Cc1onc(-c2ccc(Cl)cc2)c1-c1ccnc(SCC(=O)Nc2ccc(C...    S10227   \n",
       "49780  Cc1cc(-c2nc(C)c(-c3nnc(SCC(=O)Nc4ccc(C(C)C)cc4...    S15050   \n",
       "50705  CCOC(=O)c1cc2c(NC(=O)c3ccc(Cl)cc3)c(C(=O)OCC)s...  RJF02129   \n",
       "51287                        O=C(Cc1ccccc1)Nc1ccc(Cl)cc1    S13395   \n",
       "51302        COc1ccc(NC(=O)c2c(-c3c(Cl)cccc3Cl)noc2C)cn1    S13944   \n",
       "\n",
       "       predicted_pic50  \n",
       "66            6.198511  \n",
       "110           6.520359  \n",
       "250           6.520359  \n",
       "650           6.483043  \n",
       "758           6.476321  \n",
       "...                ...  \n",
       "49720         6.490555  \n",
       "49780         6.084289  \n",
       "50705         6.078559  \n",
       "51287         6.219604  \n",
       "51302         6.238471  \n",
       "\n",
       "[394 rows x 3 columns]"
      ]
     },
     "execution_count": 27,
     "metadata": {},
     "output_type": "execute_result"
    }
   ],
   "source": [
    "filtered_potent_inhibitors = potent_inhibitors[potent_inhibitors[\"SMILES\"].isin(common_df[\"smiles\"])]\n",
    "filtered_potent_inhibitors"
   ]
  },
  {
   "cell_type": "code",
   "execution_count": 28,
   "id": "4b4b8438",
   "metadata": {},
   "outputs": [
    {
     "data": {
      "text/plain": [
       "count    394.000000\n",
       "mean       6.266869\n",
       "std        0.194593\n",
       "min        6.010511\n",
       "25%        6.105971\n",
       "50%        6.217749\n",
       "75%        6.410522\n",
       "max        6.909965\n",
       "Name: predicted_pic50, dtype: float64"
      ]
     },
     "execution_count": 28,
     "metadata": {},
     "output_type": "execute_result"
    }
   ],
   "source": [
    "filtered_potent_inhibitors.predicted_pic50.describe()"
   ]
  },
  {
   "cell_type": "code",
   "execution_count": 29,
   "id": "8a164d84",
   "metadata": {},
   "outputs": [],
   "source": []
  },
  {
   "cell_type": "code",
   "execution_count": 30,
   "id": "23015819",
   "metadata": {
    "scrolled": true
   },
   "outputs": [
    {
     "data": {
      "text/html": [
       "<div>\n",
       "<style scoped>\n",
       "    .dataframe tbody tr th:only-of-type {\n",
       "        vertical-align: middle;\n",
       "    }\n",
       "\n",
       "    .dataframe tbody tr th {\n",
       "        vertical-align: top;\n",
       "    }\n",
       "\n",
       "    .dataframe thead th {\n",
       "        text-align: right;\n",
       "    }\n",
       "</style>\n",
       "<table border=\"1\" class=\"dataframe\">\n",
       "  <thead>\n",
       "    <tr style=\"text-align: right;\">\n",
       "      <th></th>\n",
       "      <th>SMILES</th>\n",
       "      <th>Code</th>\n",
       "      <th>predicted_pic50</th>\n",
       "    </tr>\n",
       "  </thead>\n",
       "  <tbody>\n",
       "    <tr>\n",
       "      <th>12011</th>\n",
       "      <td>C/C(=N\\O)c1ccc(Cl)c(NC(=O)c2c(-c3ccccc3Cl)noc2...</td>\n",
       "      <td>BTB07062</td>\n",
       "      <td>6.909965</td>\n",
       "    </tr>\n",
       "    <tr>\n",
       "      <th>9460</th>\n",
       "      <td>O=C(Nc1ccc(F)cc1F)c1cc(Cl)cc(Cl)c1O</td>\n",
       "      <td>SPB00540</td>\n",
       "      <td>6.884341</td>\n",
       "    </tr>\n",
       "    <tr>\n",
       "      <th>33798</th>\n",
       "      <td>Nc1cc(NC(=O)c2ccccc2O)ccc1Cl</td>\n",
       "      <td>XBX00319</td>\n",
       "      <td>6.875269</td>\n",
       "    </tr>\n",
       "    <tr>\n",
       "      <th>40069</th>\n",
       "      <td>CC(C)c1ccc(NC(=S)NC(=O)c2ccccc2)cc1</td>\n",
       "      <td>S01527</td>\n",
       "      <td>6.865384</td>\n",
       "    </tr>\n",
       "    <tr>\n",
       "      <th>47836</th>\n",
       "      <td>CC(C)c1ccc(NC(=S)NC(=O)c2ccc(C(F)(F)F)cc2)cc1</td>\n",
       "      <td>RJC01761</td>\n",
       "      <td>6.865384</td>\n",
       "    </tr>\n",
       "    <tr>\n",
       "      <th>...</th>\n",
       "      <td>...</td>\n",
       "      <td>...</td>\n",
       "      <td>...</td>\n",
       "    </tr>\n",
       "    <tr>\n",
       "      <th>33709</th>\n",
       "      <td>O=C(Nc1ccc(NC(=S)Nc2ccc(Cl)cc2)cc1)c1ccccc1O</td>\n",
       "      <td>HTS07551</td>\n",
       "      <td>6.017209</td>\n",
       "    </tr>\n",
       "    <tr>\n",
       "      <th>13131</th>\n",
       "      <td>NC(=O)c1sc(-c2ccc(Cl)cc2)cc1NC(=O)/C=C\\C(=O)O</td>\n",
       "      <td>KM03526</td>\n",
       "      <td>6.015242</td>\n",
       "    </tr>\n",
       "    <tr>\n",
       "      <th>14465</th>\n",
       "      <td>Cc1ccc(C(=O)Nc2cccc(-c3nc4ccccc4[nH]3)c2)cc1</td>\n",
       "      <td>SPB02327</td>\n",
       "      <td>6.013184</td>\n",
       "    </tr>\n",
       "    <tr>\n",
       "      <th>8046</th>\n",
       "      <td>Cc1c(C)c(C)c(C(=O)c2ccc(NC(=O)c3sc4ccccc4c3Cl)...</td>\n",
       "      <td>BTB04464</td>\n",
       "      <td>6.010765</td>\n",
       "    </tr>\n",
       "    <tr>\n",
       "      <th>900</th>\n",
       "      <td>C#CC(CC)(CC)NC(=O)c1sc2ccccc2c1Cl</td>\n",
       "      <td>GK00627</td>\n",
       "      <td>6.010511</td>\n",
       "    </tr>\n",
       "  </tbody>\n",
       "</table>\n",
       "<p>394 rows × 3 columns</p>\n",
       "</div>"
      ],
      "text/plain": [
       "                                                  SMILES      Code  \\\n",
       "12011  C/C(=N\\O)c1ccc(Cl)c(NC(=O)c2c(-c3ccccc3Cl)noc2...  BTB07062   \n",
       "9460                 O=C(Nc1ccc(F)cc1F)c1cc(Cl)cc(Cl)c1O  SPB00540   \n",
       "33798                       Nc1cc(NC(=O)c2ccccc2O)ccc1Cl  XBX00319   \n",
       "40069                CC(C)c1ccc(NC(=S)NC(=O)c2ccccc2)cc1    S01527   \n",
       "47836      CC(C)c1ccc(NC(=S)NC(=O)c2ccc(C(F)(F)F)cc2)cc1  RJC01761   \n",
       "...                                                  ...       ...   \n",
       "33709       O=C(Nc1ccc(NC(=S)Nc2ccc(Cl)cc2)cc1)c1ccccc1O  HTS07551   \n",
       "13131      NC(=O)c1sc(-c2ccc(Cl)cc2)cc1NC(=O)/C=C\\C(=O)O   KM03526   \n",
       "14465       Cc1ccc(C(=O)Nc2cccc(-c3nc4ccccc4[nH]3)c2)cc1  SPB02327   \n",
       "8046   Cc1c(C)c(C)c(C(=O)c2ccc(NC(=O)c3sc4ccccc4c3Cl)...  BTB04464   \n",
       "900                    C#CC(CC)(CC)NC(=O)c1sc2ccccc2c1Cl   GK00627   \n",
       "\n",
       "       predicted_pic50  \n",
       "12011         6.909965  \n",
       "9460          6.884341  \n",
       "33798         6.875269  \n",
       "40069         6.865384  \n",
       "47836         6.865384  \n",
       "...                ...  \n",
       "33709         6.017209  \n",
       "13131         6.015242  \n",
       "14465         6.013184  \n",
       "8046          6.010765  \n",
       "900           6.010511  \n",
       "\n",
       "[394 rows x 3 columns]"
      ]
     },
     "execution_count": 30,
     "metadata": {},
     "output_type": "execute_result"
    }
   ],
   "source": [
    "# 3. Sort the filtered data based on pic50 values in descending order (assuming higher is more potent)\n",
    "sorted_common = filtered_potent_inhibitors.sort_values(by=\"predicted_pic50\", ascending=False)\n",
    "sorted_common"
   ]
  },
  {
   "cell_type": "code",
   "execution_count": 36,
   "id": "bc2618db",
   "metadata": {},
   "outputs": [],
   "source": [
    "# Save the potent inhibitors to a CSV file\n",
    "sorted_common.to_csv(\"maybridge/etr_sorted_common.csv\", index=False)"
   ]
  },
  {
   "cell_type": "code",
   "execution_count": 31,
   "id": "ef985f76",
   "metadata": {},
   "outputs": [
    {
     "data": {
      "text/html": [
       "<style>#sk-container-id-2 {color: black;background-color: white;}#sk-container-id-2 pre{padding: 0;}#sk-container-id-2 div.sk-toggleable {background-color: white;}#sk-container-id-2 label.sk-toggleable__label {cursor: pointer;display: block;width: 100%;margin-bottom: 0;padding: 0.3em;box-sizing: border-box;text-align: center;}#sk-container-id-2 label.sk-toggleable__label-arrow:before {content: \"▸\";float: left;margin-right: 0.25em;color: #696969;}#sk-container-id-2 label.sk-toggleable__label-arrow:hover:before {color: black;}#sk-container-id-2 div.sk-estimator:hover label.sk-toggleable__label-arrow:before {color: black;}#sk-container-id-2 div.sk-toggleable__content {max-height: 0;max-width: 0;overflow: hidden;text-align: left;background-color: #f0f8ff;}#sk-container-id-2 div.sk-toggleable__content pre {margin: 0.2em;color: black;border-radius: 0.25em;background-color: #f0f8ff;}#sk-container-id-2 input.sk-toggleable__control:checked~div.sk-toggleable__content {max-height: 200px;max-width: 100%;overflow: auto;}#sk-container-id-2 input.sk-toggleable__control:checked~label.sk-toggleable__label-arrow:before {content: \"▾\";}#sk-container-id-2 div.sk-estimator input.sk-toggleable__control:checked~label.sk-toggleable__label {background-color: #d4ebff;}#sk-container-id-2 div.sk-label input.sk-toggleable__control:checked~label.sk-toggleable__label {background-color: #d4ebff;}#sk-container-id-2 input.sk-hidden--visually {border: 0;clip: rect(1px 1px 1px 1px);clip: rect(1px, 1px, 1px, 1px);height: 1px;margin: -1px;overflow: hidden;padding: 0;position: absolute;width: 1px;}#sk-container-id-2 div.sk-estimator {font-family: monospace;background-color: #f0f8ff;border: 1px dotted black;border-radius: 0.25em;box-sizing: border-box;margin-bottom: 0.5em;}#sk-container-id-2 div.sk-estimator:hover {background-color: #d4ebff;}#sk-container-id-2 div.sk-parallel-item::after {content: \"\";width: 100%;border-bottom: 1px solid gray;flex-grow: 1;}#sk-container-id-2 div.sk-label:hover label.sk-toggleable__label {background-color: #d4ebff;}#sk-container-id-2 div.sk-serial::before {content: \"\";position: absolute;border-left: 1px solid gray;box-sizing: border-box;top: 0;bottom: 0;left: 50%;z-index: 0;}#sk-container-id-2 div.sk-serial {display: flex;flex-direction: column;align-items: center;background-color: white;padding-right: 0.2em;padding-left: 0.2em;position: relative;}#sk-container-id-2 div.sk-item {position: relative;z-index: 1;}#sk-container-id-2 div.sk-parallel {display: flex;align-items: stretch;justify-content: center;background-color: white;position: relative;}#sk-container-id-2 div.sk-item::before, #sk-container-id-2 div.sk-parallel-item::before {content: \"\";position: absolute;border-left: 1px solid gray;box-sizing: border-box;top: 0;bottom: 0;left: 50%;z-index: -1;}#sk-container-id-2 div.sk-parallel-item {display: flex;flex-direction: column;z-index: 1;position: relative;background-color: white;}#sk-container-id-2 div.sk-parallel-item:first-child::after {align-self: flex-end;width: 50%;}#sk-container-id-2 div.sk-parallel-item:last-child::after {align-self: flex-start;width: 50%;}#sk-container-id-2 div.sk-parallel-item:only-child::after {width: 0;}#sk-container-id-2 div.sk-dashed-wrapped {border: 1px dashed gray;margin: 0 0.4em 0.5em 0.4em;box-sizing: border-box;padding-bottom: 0.4em;background-color: white;}#sk-container-id-2 div.sk-label label {font-family: monospace;font-weight: bold;display: inline-block;line-height: 1.2em;}#sk-container-id-2 div.sk-label-container {text-align: center;}#sk-container-id-2 div.sk-container {/* jupyter's `normalize.less` sets `[hidden] { display: none; }` but bootstrap.min.css set `[hidden] { display: none !important; }` so we also need the `!important` here to be able to override the default hidden behavior on the sphinx rendered scikit-learn.org. See: https://github.com/scikit-learn/scikit-learn/issues/21755 */display: inline-block !important;position: relative;}#sk-container-id-2 div.sk-text-repr-fallback {display: none;}</style><div id=\"sk-container-id-2\" class=\"sk-top-container\"><div class=\"sk-text-repr-fallback\"><pre>ExtraTreesRegressor(max_features=&#x27;log2&#x27;, random_state=6)</pre><b>In a Jupyter environment, please rerun this cell to show the HTML representation or trust the notebook. <br />On GitHub, the HTML representation is unable to render, please try loading this page with nbviewer.org.</b></div><div class=\"sk-container\" hidden><div class=\"sk-item\"><div class=\"sk-estimator sk-toggleable\"><input class=\"sk-toggleable__control sk-hidden--visually\" id=\"sk-estimator-id-4\" type=\"checkbox\" checked><label for=\"sk-estimator-id-4\" class=\"sk-toggleable__label sk-toggleable__label-arrow\">ExtraTreesRegressor</label><div class=\"sk-toggleable__content\"><pre>ExtraTreesRegressor(max_features=&#x27;log2&#x27;, random_state=6)</pre></div></div></div></div></div>"
      ],
      "text/plain": [
       "ExtraTreesRegressor(max_features='log2', random_state=6)"
      ]
     },
     "execution_count": 31,
     "metadata": {},
     "output_type": "execute_result"
    }
   ],
   "source": [
    "best_model_etr"
   ]
  },
  {
   "cell_type": "code",
   "execution_count": 34,
   "id": "7439f266",
   "metadata": {},
   "outputs": [
    {
     "data": {
      "text/html": [
       "<div>\n",
       "<style scoped>\n",
       "    .dataframe tbody tr th:only-of-type {\n",
       "        vertical-align: middle;\n",
       "    }\n",
       "\n",
       "    .dataframe tbody tr th {\n",
       "        vertical-align: top;\n",
       "    }\n",
       "\n",
       "    .dataframe thead th {\n",
       "        text-align: right;\n",
       "    }\n",
       "</style>\n",
       "<table border=\"1\" class=\"dataframe\">\n",
       "  <thead>\n",
       "    <tr style=\"text-align: right;\">\n",
       "      <th></th>\n",
       "      <th>SMILES</th>\n",
       "      <th>Code</th>\n",
       "      <th>predicted_pic50</th>\n",
       "    </tr>\n",
       "  </thead>\n",
       "  <tbody>\n",
       "    <tr>\n",
       "      <th>12011</th>\n",
       "      <td>C/C(=N\\O)c1ccc(Cl)c(NC(=O)c2c(-c3ccccc3Cl)noc2...</td>\n",
       "      <td>BTB07062</td>\n",
       "      <td>6.909965</td>\n",
       "    </tr>\n",
       "    <tr>\n",
       "      <th>9460</th>\n",
       "      <td>O=C(Nc1ccc(F)cc1F)c1cc(Cl)cc(Cl)c1O</td>\n",
       "      <td>SPB00540</td>\n",
       "      <td>6.884341</td>\n",
       "    </tr>\n",
       "    <tr>\n",
       "      <th>33798</th>\n",
       "      <td>Nc1cc(NC(=O)c2ccccc2O)ccc1Cl</td>\n",
       "      <td>XBX00319</td>\n",
       "      <td>6.875269</td>\n",
       "    </tr>\n",
       "    <tr>\n",
       "      <th>40069</th>\n",
       "      <td>CC(C)c1ccc(NC(=S)NC(=O)c2ccccc2)cc1</td>\n",
       "      <td>S01527</td>\n",
       "      <td>6.865384</td>\n",
       "    </tr>\n",
       "    <tr>\n",
       "      <th>47836</th>\n",
       "      <td>CC(C)c1ccc(NC(=S)NC(=O)c2ccc(C(F)(F)F)cc2)cc1</td>\n",
       "      <td>RJC01761</td>\n",
       "      <td>6.865384</td>\n",
       "    </tr>\n",
       "    <tr>\n",
       "      <th>41399</th>\n",
       "      <td>CC(C)(C)c1ccc(NC(=S)NC(=O)c2ccc([N+](=O)[O-])c...</td>\n",
       "      <td>SEW04372</td>\n",
       "      <td>6.865384</td>\n",
       "    </tr>\n",
       "    <tr>\n",
       "      <th>40777</th>\n",
       "      <td>CCCN(CCC)S(=O)(=O)c1ccc(C(=O)Nc2ccc(Oc3ccc(Cl)...</td>\n",
       "      <td>HTS12671</td>\n",
       "      <td>6.810779</td>\n",
       "    </tr>\n",
       "    <tr>\n",
       "      <th>16267</th>\n",
       "      <td>O=C(NCc1ccc(S(=O)(=O)Nc2ccc3c(c2)OCCO3)s1)c1cc...</td>\n",
       "      <td>BTB08982</td>\n",
       "      <td>6.799117</td>\n",
       "    </tr>\n",
       "    <tr>\n",
       "      <th>22204</th>\n",
       "      <td>NS(=O)(=O)c1ccc(NC(=O)CSc2nnc(-c3ccc(Cl)cc3)o2...</td>\n",
       "      <td>HTS04304</td>\n",
       "      <td>6.747435</td>\n",
       "    </tr>\n",
       "    <tr>\n",
       "      <th>3245</th>\n",
       "      <td>O=c1c2cc(NS(=O)(=O)c3ccc(Cl)cc3)ccc2oc2ncccc12</td>\n",
       "      <td>BTB00089</td>\n",
       "      <td>6.745092</td>\n",
       "    </tr>\n",
       "    <tr>\n",
       "      <th>16871</th>\n",
       "      <td>N#Cc1c(Cl)cccc1Oc1ccc(S(=O)(=O)Nc2ccccc2C(=O)N...</td>\n",
       "      <td>JFD01405</td>\n",
       "      <td>6.704374</td>\n",
       "    </tr>\n",
       "    <tr>\n",
       "      <th>15449</th>\n",
       "      <td>CC(=O)Nc1cccc(OCCCNS(=O)(=O)c2ccc(Oc3cccc(Cl)c...</td>\n",
       "      <td>HTS03101</td>\n",
       "      <td>6.701924</td>\n",
       "    </tr>\n",
       "    <tr>\n",
       "      <th>9367</th>\n",
       "      <td>O=C(Nc1ccc(F)c(Cl)c1)c1cc(Br)ccc1O</td>\n",
       "      <td>BTB05348</td>\n",
       "      <td>6.701238</td>\n",
       "    </tr>\n",
       "    <tr>\n",
       "      <th>9399</th>\n",
       "      <td>O=C(Nc1ccc(F)cc1F)c1cc(Cl)ccc1O</td>\n",
       "      <td>BTB05265</td>\n",
       "      <td>6.701238</td>\n",
       "    </tr>\n",
       "    <tr>\n",
       "      <th>9357</th>\n",
       "      <td>O=C(Nc1ccc(F)c(Cl)c1)c1ccccc1O</td>\n",
       "      <td>BTB05344</td>\n",
       "      <td>6.701238</td>\n",
       "    </tr>\n",
       "    <tr>\n",
       "      <th>9361</th>\n",
       "      <td>O=C(Nc1cc(Cl)cc(Cl)c1)c1cc(Br)ccc1O</td>\n",
       "      <td>BTB05280</td>\n",
       "      <td>6.701238</td>\n",
       "    </tr>\n",
       "    <tr>\n",
       "      <th>9358</th>\n",
       "      <td>O=C(Nc1cc(Cl)cc(Cl)c1)c1ccccc1O</td>\n",
       "      <td>BTB05355</td>\n",
       "      <td>6.701238</td>\n",
       "    </tr>\n",
       "    <tr>\n",
       "      <th>47225</th>\n",
       "      <td>Cc1onc(-c2c(Cl)cccc2Cl)c1C(=O)Nc1ccc2[nH]cc(C#...</td>\n",
       "      <td>SEW05349</td>\n",
       "      <td>6.688890</td>\n",
       "    </tr>\n",
       "    <tr>\n",
       "      <th>37616</th>\n",
       "      <td>COc1ccc(Cl)cc1C(=O)NCCc1ccc(S(=O)(=O)NC(=O)NC2...</td>\n",
       "      <td>RF05314</td>\n",
       "      <td>6.656044</td>\n",
       "    </tr>\n",
       "    <tr>\n",
       "      <th>2221</th>\n",
       "      <td>Cc1onc(-c2c(Cl)cccc2Cl)c1C(=O)Nc1ccc(Br)cn1</td>\n",
       "      <td>AW01118</td>\n",
       "      <td>6.653102</td>\n",
       "    </tr>\n",
       "  </tbody>\n",
       "</table>\n",
       "</div>"
      ],
      "text/plain": [
       "                                                  SMILES      Code  \\\n",
       "12011  C/C(=N\\O)c1ccc(Cl)c(NC(=O)c2c(-c3ccccc3Cl)noc2...  BTB07062   \n",
       "9460                 O=C(Nc1ccc(F)cc1F)c1cc(Cl)cc(Cl)c1O  SPB00540   \n",
       "33798                       Nc1cc(NC(=O)c2ccccc2O)ccc1Cl  XBX00319   \n",
       "40069                CC(C)c1ccc(NC(=S)NC(=O)c2ccccc2)cc1    S01527   \n",
       "47836      CC(C)c1ccc(NC(=S)NC(=O)c2ccc(C(F)(F)F)cc2)cc1  RJC01761   \n",
       "41399  CC(C)(C)c1ccc(NC(=S)NC(=O)c2ccc([N+](=O)[O-])c...  SEW04372   \n",
       "40777  CCCN(CCC)S(=O)(=O)c1ccc(C(=O)Nc2ccc(Oc3ccc(Cl)...  HTS12671   \n",
       "16267  O=C(NCc1ccc(S(=O)(=O)Nc2ccc3c(c2)OCCO3)s1)c1cc...  BTB08982   \n",
       "22204  NS(=O)(=O)c1ccc(NC(=O)CSc2nnc(-c3ccc(Cl)cc3)o2...  HTS04304   \n",
       "3245      O=c1c2cc(NS(=O)(=O)c3ccc(Cl)cc3)ccc2oc2ncccc12  BTB00089   \n",
       "16871  N#Cc1c(Cl)cccc1Oc1ccc(S(=O)(=O)Nc2ccccc2C(=O)N...  JFD01405   \n",
       "15449  CC(=O)Nc1cccc(OCCCNS(=O)(=O)c2ccc(Oc3cccc(Cl)c...  HTS03101   \n",
       "9367                  O=C(Nc1ccc(F)c(Cl)c1)c1cc(Br)ccc1O  BTB05348   \n",
       "9399                     O=C(Nc1ccc(F)cc1F)c1cc(Cl)ccc1O  BTB05265   \n",
       "9357                      O=C(Nc1ccc(F)c(Cl)c1)c1ccccc1O  BTB05344   \n",
       "9361                 O=C(Nc1cc(Cl)cc(Cl)c1)c1cc(Br)ccc1O  BTB05280   \n",
       "9358                     O=C(Nc1cc(Cl)cc(Cl)c1)c1ccccc1O  BTB05355   \n",
       "47225  Cc1onc(-c2c(Cl)cccc2Cl)c1C(=O)Nc1ccc2[nH]cc(C#...  SEW05349   \n",
       "37616  COc1ccc(Cl)cc1C(=O)NCCc1ccc(S(=O)(=O)NC(=O)NC2...   RF05314   \n",
       "2221         Cc1onc(-c2c(Cl)cccc2Cl)c1C(=O)Nc1ccc(Br)cn1   AW01118   \n",
       "\n",
       "       predicted_pic50  \n",
       "12011         6.909965  \n",
       "9460          6.884341  \n",
       "33798         6.875269  \n",
       "40069         6.865384  \n",
       "47836         6.865384  \n",
       "41399         6.865384  \n",
       "40777         6.810779  \n",
       "16267         6.799117  \n",
       "22204         6.747435  \n",
       "3245          6.745092  \n",
       "16871         6.704374  \n",
       "15449         6.701924  \n",
       "9367          6.701238  \n",
       "9399          6.701238  \n",
       "9357          6.701238  \n",
       "9361          6.701238  \n",
       "9358          6.701238  \n",
       "47225         6.688890  \n",
       "37616         6.656044  \n",
       "2221          6.653102  "
      ]
     },
     "execution_count": 34,
     "metadata": {},
     "output_type": "execute_result"
    }
   ],
   "source": [
    "top20 = sorted_common.sort_values(by=\"predicted_pic50\", ascending=False).head(20)\n",
    "top20"
   ]
  },
  {
   "cell_type": "code",
   "execution_count": 35,
   "id": "a3fe2640",
   "metadata": {},
   "outputs": [],
   "source": [
    "top20.to_csv(\"maybridge/etr_top20.csv\", index=False)"
   ]
  },
  {
   "cell_type": "code",
   "execution_count": null,
   "id": "f4545ef8",
   "metadata": {},
   "outputs": [],
   "source": []
  },
  {
   "cell_type": "code",
   "execution_count": null,
   "id": "52a47211",
   "metadata": {},
   "outputs": [],
   "source": []
  },
  {
   "cell_type": "code",
   "execution_count": null,
   "id": "38f3131d",
   "metadata": {},
   "outputs": [],
   "source": []
  },
  {
   "cell_type": "code",
   "execution_count": null,
   "id": "217e59f8",
   "metadata": {},
   "outputs": [],
   "source": []
  },
  {
   "cell_type": "code",
   "execution_count": null,
   "id": "71f80475",
   "metadata": {},
   "outputs": [],
   "source": []
  },
  {
   "cell_type": "code",
   "execution_count": null,
   "id": "64bf3988",
   "metadata": {},
   "outputs": [],
   "source": []
  },
  {
   "cell_type": "code",
   "execution_count": null,
   "id": "3785d9b8",
   "metadata": {},
   "outputs": [],
   "source": []
  },
  {
   "cell_type": "code",
   "execution_count": null,
   "id": "a4c3b13c",
   "metadata": {},
   "outputs": [],
   "source": []
  },
  {
   "cell_type": "code",
   "execution_count": null,
   "id": "5aff8eb4",
   "metadata": {},
   "outputs": [],
   "source": []
  }
 ],
 "metadata": {
  "kernelspec": {
   "display_name": "Python 3",
   "language": "python",
   "name": "python3"
  },
  "language_info": {
   "codemirror_mode": {
    "name": "ipython",
    "version": 3
   },
   "file_extension": ".py",
   "mimetype": "text/x-python",
   "name": "python",
   "nbconvert_exporter": "python",
   "pygments_lexer": "ipython3",
   "version": "3.9.12"
  }
 },
 "nbformat": 4,
 "nbformat_minor": 5
}
